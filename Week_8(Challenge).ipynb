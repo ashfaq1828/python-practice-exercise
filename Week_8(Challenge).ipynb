{
 "cells": [
  {
   "cell_type": "markdown",
   "id": "599681c0",
   "metadata": {},
   "source": [
    "## 1. Write a program that accepts two integers and displays the result of dividing the first number by the second number. It should raise ZeroDivisionError if the denominator is zero."
   ]
  },
  {
   "cell_type": "code",
   "execution_count": 6,
   "id": "b49d3104",
   "metadata": {},
   "outputs": [
    {
     "name": "stdout",
     "output_type": "stream",
     "text": [
      "enter the a: 4\n",
      "enter the b: 2\n",
      "the division of c : 2.0\n"
     ]
    }
   ],
   "source": [
    "a=int(input('enter the a: '))\n",
    "b=int(input('enter the b: '))\n",
    "\n",
    "c=a/b\n",
    "\n",
    "if b==0:\n",
    "    raise ZeroDivisionError\n",
    "    \n",
    "else:\n",
    "    print(\"the division of c :\", c)\n"
   ]
  },
  {
   "cell_type": "code",
   "execution_count": null,
   "id": "3b4ca8c6",
   "metadata": {},
   "outputs": [],
   "source": []
  },
  {
   "cell_type": "code",
   "execution_count": null,
   "id": "b7523850",
   "metadata": {},
   "outputs": [],
   "source": []
  },
  {
   "cell_type": "markdown",
   "id": "4f55ec1c",
   "metadata": {},
   "source": [
    "## 2.Implement the above program with the help of Assertion"
   ]
  },
  {
   "cell_type": "code",
   "execution_count": 2,
   "id": "96466379",
   "metadata": {},
   "outputs": [
    {
     "name": "stdout",
     "output_type": "stream",
     "text": [
      "enter the a: 4\n",
      "enter the b: 0\n"
     ]
    },
    {
     "ename": "ZeroDivisionError",
     "evalue": "division by zero",
     "output_type": "error",
     "traceback": [
      "\u001b[1;31m---------------------------------------------------------------------------\u001b[0m",
      "\u001b[1;31mZeroDivisionError\u001b[0m                         Traceback (most recent call last)",
      "\u001b[1;32m~\\AppData\\Local\\Temp/ipykernel_7704/2378041805.py\u001b[0m in \u001b[0;36m<module>\u001b[1;34m\u001b[0m\n\u001b[0;32m      2\u001b[0m \u001b[0mb\u001b[0m\u001b[1;33m=\u001b[0m\u001b[0mint\u001b[0m\u001b[1;33m(\u001b[0m\u001b[0minput\u001b[0m\u001b[1;33m(\u001b[0m\u001b[1;34m'enter the b: '\u001b[0m\u001b[1;33m)\u001b[0m\u001b[1;33m)\u001b[0m\u001b[1;33m\u001b[0m\u001b[1;33m\u001b[0m\u001b[0m\n\u001b[0;32m      3\u001b[0m \u001b[1;33m\u001b[0m\u001b[0m\n\u001b[1;32m----> 4\u001b[1;33m \u001b[0mc\u001b[0m\u001b[1;33m=\u001b[0m\u001b[0ma\u001b[0m\u001b[1;33m/\u001b[0m\u001b[0mb\u001b[0m\u001b[1;33m\u001b[0m\u001b[1;33m\u001b[0m\u001b[0m\n\u001b[0m\u001b[0;32m      5\u001b[0m \u001b[1;33m\u001b[0m\u001b[0m\n\u001b[0;32m      6\u001b[0m \u001b[1;32massert\u001b[0m \u001b[0mb\u001b[0m\u001b[1;33m!=\u001b[0m\u001b[1;36m0\u001b[0m\u001b[1;33m,\u001b[0m \u001b[1;34m'Denominator should not be 0'\u001b[0m\u001b[1;33m\u001b[0m\u001b[1;33m\u001b[0m\u001b[0m\n",
      "\u001b[1;31mZeroDivisionError\u001b[0m: division by zero"
     ]
    }
   ],
   "source": [
    "a=int(input('enter the a: '))\n",
    "b=int(input('enter the b: '))\n",
    "\n",
    "c=a/b\n",
    "\n",
    "assert b!=0, 'Denominator should not be 0'\n",
    "print(c)\n",
    "print('After assert statement')\n"
   ]
  },
  {
   "cell_type": "code",
   "execution_count": null,
   "id": "75e67de9",
   "metadata": {},
   "outputs": [],
   "source": []
  },
  {
   "cell_type": "code",
   "execution_count": null,
   "id": "2fa4061a",
   "metadata": {},
   "outputs": [],
   "source": []
  },
  {
   "cell_type": "markdown",
   "id": "5fe0bb06",
   "metadata": {},
   "source": [
    "## 3.Write a program that accepts n positive integers as input and prints their square. If a negative number is entered, then raise ValueError exception and display a relevant error message and make an exit."
   ]
  },
  {
   "cell_type": "code",
   "execution_count": 2,
   "id": "9174c2f6",
   "metadata": {},
   "outputs": [
    {
     "name": "stdout",
     "output_type": "stream",
     "text": [
      "enter the a: -1\n",
      "enter the positive value for n\n"
     ]
    }
   ],
   "source": [
    "class Square(object):\n",
    "    def __init__(self,l):\n",
    "        self._limit=l\n",
    "        self._val=1\n",
    "        \n",
    "    def __iter__(self):\n",
    "        return self\n",
    "    \n",
    "    def __next__(self):\n",
    "        if self._val > self._limit:\n",
    "            raise StopIteration\n",
    "        else:\n",
    "            n=self._val*self._val\n",
    "            self._val += 1\n",
    "            return n\n",
    "\n",
    "a=int(input('enter the a: '))\n",
    "try:\n",
    "    if a<0:\n",
    "        raise ValueError \n",
    "        \n",
    "except ValueError:\n",
    "    print('enter the positive value for n')\n",
    "for i in Square(a):\n",
    "    print(i)\n",
    "        \n",
    "        \n",
    "            \n",
    "        "
   ]
  },
  {
   "cell_type": "code",
   "execution_count": null,
   "id": "ebe317a7",
   "metadata": {},
   "outputs": [],
   "source": []
  },
  {
   "cell_type": "code",
   "execution_count": null,
   "id": "b320c8ee",
   "metadata": {},
   "outputs": [],
   "source": []
  },
  {
   "cell_type": "markdown",
   "id": "d8f752f8",
   "metadata": {},
   "source": [
    "## 4.Write a program that receives an integer as input and finds its factorial. If a non-integer input is entered, then report an error and accept the input again. Continue this process until correct input is entered."
   ]
  },
  {
   "cell_type": "code",
   "execution_count": 19,
   "id": "55a77e06",
   "metadata": {},
   "outputs": [],
   "source": [
    "class Fact:\n",
    "    def __init__(self,l):\n",
    "        self._limit=l\n",
    "        self._val=0\n",
    "        \n",
    "    def __iter__(self):\n",
    "        return self\n",
    "    \n",
    "# Find the factorial of num\n",
    "\n",
    "    def fact(self,num):\n",
    "        prod=1\n",
    "        for i in range(1,num+1):\n",
    "            prod *=i\n",
    "            \n",
    "        return prod\n",
    "            \n",
    "    def __next__(self):\n",
    "        if self._val>self._limit:\n",
    "            raise StopIteration\n",
    "        else:\n",
    "            return_val=self.fact(self._val)\n",
    "            self._val +=1\n",
    "            return return_val\n",
    "        "
   ]
  },
  {
   "cell_type": "code",
   "execution_count": 28,
   "id": "d4877cc2",
   "metadata": {},
   "outputs": [
    {
     "name": "stdout",
     "output_type": "stream",
     "text": [
      "Please enter the number : d\n",
      "Opps! That was not valid number, Please enter valid number\n",
      "Please enter the number : fg\n",
      "Opps! That was not valid number, Please enter valid number\n",
      "Please enter the number : 4\n",
      "Factorial =  1\n",
      "Factorial =  1\n",
      "Factorial =  2\n",
      "Factorial =  6\n",
      "Factorial =  24\n"
     ]
    }
   ],
   "source": [
    "while True:\n",
    "    try:\n",
    "        x=int(input('Please enter the number : '))\n",
    "        break\n",
    "    \n",
    "    except ValueError:\n",
    "        print('Opps! That was not valid number, Please enter valid number')\n",
    "\n",
    "for i in Fact(x):\n",
    "    print('Factorial = ',i)\n",
    "\n",
    "\n",
    "\n",
    "\n",
    "    "
   ]
  },
  {
   "cell_type": "markdown",
   "id": "00f95538",
   "metadata": {},
   "source": [
    "## 5. Create an iterator that returns numbers, starting with 1, and each sequence will increase by one (returning 1,2,3,4,5 etc.):"
   ]
  },
  {
   "cell_type": "code",
   "execution_count": 4,
   "id": "6ac4125b",
   "metadata": {},
   "outputs": [
    {
     "name": "stdout",
     "output_type": "stream",
     "text": [
      "1\n",
      "2\n",
      "3\n",
      "4\n",
      "5\n",
      "6\n",
      "7\n",
      "8\n",
      "9\n",
      "10\n"
     ]
    }
   ],
   "source": [
    "class numbers(object):\n",
    "    def __init__(self,l):\n",
    "        self._limit=l\n",
    "        self._val=1\n",
    "        \n",
    "    def __iter__(self):\n",
    "        return self\n",
    "    \n",
    "    def __next__(self):\n",
    "        if self._val>self._limit:\n",
    "            raise StopIteration\n",
    "        else:\n",
    "            a=self._val\n",
    "            self._val +=1\n",
    "            return a\n",
    "for i in numbers(10):\n",
    "    print(i)"
   ]
  },
  {
   "cell_type": "code",
   "execution_count": null,
   "id": "d10a250a",
   "metadata": {},
   "outputs": [],
   "source": []
  },
  {
   "cell_type": "code",
   "execution_count": null,
   "id": "5a0f557a",
   "metadata": {},
   "outputs": [],
   "source": []
  },
  {
   "cell_type": "markdown",
   "id": "d6f4ea32",
   "metadata": {},
   "source": [
    "## 6.Write a program that implements iterator class called Prime and which prints prime numbers up to n."
   ]
  },
  {
   "cell_type": "code",
   "execution_count": 12,
   "id": "57ea935d",
   "metadata": {},
   "outputs": [],
   "source": [
    "class Prime:\n",
    "    def __init__(self,m):\n",
    "        self.max = m\n",
    "\n",
    "\n",
    "    def __iter__(self):\n",
    "        self.n = 1\n",
    "        return self\n",
    "\n",
    "    def __next__(self):\n",
    "        if self.n < self.max:\n",
    "            self.n += 1\n",
    "            i = 2\n",
    "            while i < (self.n//2+1):\n",
    "                if self.n % i == 0:\n",
    "                    self.n = self.n+1\n",
    "                    if self.n > self.max:\n",
    "                        raise StopIteration\n",
    "                    i = 1\n",
    "                i += 1\n",
    "            else:\n",
    "                return self.n\n",
    "        else:\n",
    "            raise StopIteration\n",
    "            \n",
    "#n=int(input(\"enter the input:\"))\n",
    "\n",
    "#for i in Prime(n):\n",
    "    #print(i)\n",
    "    \n",
    "\n",
    "              \n"
   ]
  },
  {
   "cell_type": "code",
   "execution_count": 14,
   "id": "4253d5f7",
   "metadata": {},
   "outputs": [
    {
     "name": "stdout",
     "output_type": "stream",
     "text": [
      "<__main__.Prime object at 0x00000282B1281B50>\n",
      "2\n",
      "3\n",
      "5\n",
      "7\n"
     ]
    }
   ],
   "source": [
    "p=Prime(10)\n",
    "print(p)\n",
    "for i in p:\n",
    "    print(i)\n",
    "    "
   ]
  },
  {
   "cell_type": "markdown",
   "id": "dd1f92ba",
   "metadata": {},
   "source": [
    "## 7. Define a class, Circle, which takes two arguments when defined a sequence and a number. The idea is that the object will then return elements the defined number of times. If the number is greater than the number of elements, then the sequence repeats as necessary."
   ]
  },
  {
   "cell_type": "code",
   "execution_count": null,
   "id": "fa864e4c",
   "metadata": {},
   "outputs": [],
   "source": [
    "class Circle:\n",
    "    def __init__(self,sequence,number):\n",
    "        self.sequence=sequence\n",
    "        self.number=number\n",
    "    "
   ]
  },
  {
   "cell_type": "code",
   "execution_count": null,
   "id": "dd4065dc",
   "metadata": {},
   "outputs": [],
   "source": [
    "next\n",
    "iter"
   ]
  },
  {
   "cell_type": "code",
   "execution_count": null,
   "id": "de56d834",
   "metadata": {},
   "outputs": [],
   "source": [
    "['1', '2', '3', '4', '1', '2', '3']"
   ]
  },
  {
   "cell_type": "markdown",
   "id": "e187fa60",
   "metadata": {},
   "source": [
    "## 8.Write a Python program to demonstrate working of iterators using an example type that iterates from 10 to given value"
   ]
  },
  {
   "cell_type": "code",
   "execution_count": 5,
   "id": "b7ee02f2",
   "metadata": {},
   "outputs": [
    {
     "name": "stdout",
     "output_type": "stream",
     "text": [
      "10\n",
      "11\n",
      "12\n",
      "13\n",
      "14\n",
      "15\n",
      "16\n",
      "17\n",
      "18\n",
      "19\n",
      "20\n",
      "21\n",
      "22\n",
      "23\n",
      "24\n",
      "25\n"
     ]
    }
   ],
   "source": [
    "class numbers(object):\n",
    "    def __init__(self,l):\n",
    "        self._limit=l\n",
    "        self._val=10\n",
    "        \n",
    "    def __iter__(self):\n",
    "        return self\n",
    "    \n",
    "    def __next__(self):\n",
    "        if self._val>self._limit:\n",
    "            raise StopIteration\n",
    "        else:\n",
    "            a=self._val\n",
    "            self._val +=1\n",
    "            return a\n",
    "for i in numbers(25):\n",
    "    print(i)"
   ]
  },
  {
   "cell_type": "code",
   "execution_count": null,
   "id": "46a7667f",
   "metadata": {},
   "outputs": [],
   "source": []
  },
  {
   "cell_type": "markdown",
   "id": "a43bdae9",
   "metadata": {},
   "source": [
    "## 9.Write a program to illustrate the concept of multiple decorators"
   ]
  },
  {
   "cell_type": "code",
   "execution_count": 5,
   "id": "9db5e662",
   "metadata": {},
   "outputs": [],
   "source": [
    "def line(func):\n",
    "    def inner(*args,**kwargs):\n",
    "        print('|'*65)\n",
    "        func(*args,**kwargs)\n",
    "        print('|'*65)\n",
    "    return inner\n",
    "def star(func):\n",
    "    def inner(*args,**kwargs):\n",
    "        print('*'*65)\n",
    "        func(*args,**kwargs)\n",
    "        print('*'*65)\n",
    "    return inner\n",
    "    "
   ]
  },
  {
   "cell_type": "code",
   "execution_count": 6,
   "id": "e56ef8d9",
   "metadata": {},
   "outputs": [
    {
     "name": "stdout",
     "output_type": "stream",
     "text": [
      "|||||||||||||||||||||||||||||||||||||||||||||||||||||||||||||||||\n",
      "*****************************************************************\n",
      "Hello Mohammed Ashfaq Ali IAS\n",
      "*****************************************************************\n",
      "|||||||||||||||||||||||||||||||||||||||||||||||||||||||||||||||||\n"
     ]
    }
   ],
   "source": [
    "@line\n",
    "@star\n",
    "\n",
    "def printer(msg):\n",
    "    print(msg)\n",
    "printer(\"Hello Mohammed Ashfaq Ali IAS\")"
   ]
  },
  {
   "cell_type": "code",
   "execution_count": null,
   "id": "6de3d260",
   "metadata": {},
   "outputs": [],
   "source": []
  },
  {
   "cell_type": "markdown",
   "id": "e23fe933",
   "metadata": {},
   "source": [
    "## 10. Write a decorator called timer that calculates the time required to execute a function. Its wrapper function called calculates should take all the parameters that are passed to the decorated function."
   ]
  },
  {
   "cell_type": "code",
   "execution_count": 2,
   "id": "e63447a4",
   "metadata": {},
   "outputs": [],
   "source": [
    "import time\n",
    "def timer(func):\n",
    "    def calculate(*args,**kwargs):\n",
    "        start_time=time.perf_counter()\n",
    "        value =func(*args,**kwargs)\n",
    "        print('*'*65)\n",
    "        end_time=time.perf_counter()\n",
    "        runtime=end_time-start_time\n",
    "        print('execute time ::: {0:20.10f} secs'.format(runtime))\n",
    "        print('*'*65)\n",
    "        return value\n",
    "    return calculate"
   ]
  },
  {
   "cell_type": "code",
   "execution_count": 3,
   "id": "c764b7af",
   "metadata": {},
   "outputs": [
    {
     "name": "stdout",
     "output_type": "stream",
     "text": [
      "Correct\n",
      "*****************************************************************\n",
      "execute time :::         0.0000851000 secs\n",
      "*****************************************************************\n",
      "None\n"
     ]
    }
   ],
   "source": [
    "@timer\n",
    "\n",
    "def addition(n):\n",
    "    x=10\n",
    "    if x+n==18:\n",
    "        print(\"Correct\")\n",
    "    else:\n",
    "        print(\"Wrong\")\n",
    "    \n",
    "    \n",
    "print(addition(8))"
   ]
  },
  {
   "cell_type": "code",
   "execution_count": null,
   "id": "48e4310b",
   "metadata": {},
   "outputs": [],
   "source": []
  }
 ],
 "metadata": {
  "kernelspec": {
   "display_name": "Python 3 (ipykernel)",
   "language": "python",
   "name": "python3"
  },
  "language_info": {
   "codemirror_mode": {
    "name": "ipython",
    "version": 3
   },
   "file_extension": ".py",
   "mimetype": "text/x-python",
   "name": "python",
   "nbconvert_exporter": "python",
   "pygments_lexer": "ipython3",
   "version": "3.9.7"
  }
 },
 "nbformat": 4,
 "nbformat_minor": 5
}
