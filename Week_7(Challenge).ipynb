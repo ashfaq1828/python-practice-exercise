{
 "cells": [
  {
   "cell_type": "markdown",
   "id": "06f75d0a",
   "metadata": {},
   "source": [
    "## 1.Create a class called number which contains an integer. It should contain various methods to set the value of the integer, return the integer value, print the integer value, check whether the integer is negative."
   ]
  },
  {
   "cell_type": "code",
   "execution_count": 3,
   "id": "54136256",
   "metadata": {},
   "outputs": [
    {
     "name": "stdout",
     "output_type": "stream",
     "text": [
      "The integer is negative\n"
     ]
    }
   ],
   "source": [
    "class Number:\n",
    "        \n",
    "    def set_data(self,integer):\n",
    "        self.integer=integer\n",
    "        \n",
    "    def display_data(self):\n",
    "        if self.integer<0:\n",
    "             print('The integer is negative')\n",
    "                \n",
    "        else:\n",
    "            print('The integer is positive')\n",
    "            \n",
    "n=Number()\n",
    "n.set_data(-7)\n",
    "n.display_data()\n",
    "\n",
    "\n",
    "        \n",
    "        "
   ]
  },
  {
   "cell_type": "code",
   "execution_count": null,
   "id": "45e09f61",
   "metadata": {},
   "outputs": [],
   "source": []
  },
  {
   "cell_type": "markdown",
   "id": "666c23f7",
   "metadata": {},
   "source": [
    "## 2.Create a class that can calculate the perimeter/ circumference and area of a regular shape. The class should also have a provision to accept the data relevant to the shape."
   ]
  },
  {
   "cell_type": "code",
   "execution_count": 4,
   "id": "a2f7c5c1",
   "metadata": {},
   "outputs": [],
   "source": [
    "class Shape:\n",
    "    def __init__(self, len_rect=0, brd_rect=0,side_square=0, rad_circle=0):\n",
    "        self.len_rect=len_rect\n",
    "        self.brd_rect=brd_rect\n",
    "        self.side_square=side_square\n",
    "        self.rad_circle=rad_circle\n",
    "    def area_rect(self):\n",
    "        a = self.len_rect * self.brd_rect\n",
    "        print('Area of rectangle is : ', a)\n",
    "        \n",
    "    def peri_rect(self):\n",
    "        p= 2 * (self.len_rect + self.brd_rect)\n",
    "        print('Perimeter of rectangle is : ', p)\n",
    "        \n",
    "    def area_square(self):\n",
    "        a = self.side_square * self.side_square\n",
    "        print('Area of square is : ', a)\n",
    "        \n",
    "    def peri_square(self):\n",
    "        p= 4 * self.side_square\n",
    "        print('Perimeter of square is : ', p)\n",
    "        \n",
    "    def area_circle(self):\n",
    "        a= 3.14 * self.rad_circle * self.rad_circle\n",
    "        print('Area of square is : ', a)\n",
    "        \n",
    "    def peri_circle(self):\n",
    "        p= 2 * 3.14 * self.rad_circle\n",
    "        print('Perimeter of circle is : ', p)\n",
    "        \n",
    "   \n",
    "            "
   ]
  },
  {
   "cell_type": "code",
   "execution_count": 6,
   "id": "872e95c3",
   "metadata": {},
   "outputs": [
    {
     "name": "stdout",
     "output_type": "stream",
     "text": [
      "1. Rectangle\n",
      "2. Square\n",
      "3.Circle\n",
      "0.Exit\n",
      "Enter the choice : 1\n",
      "Length of rectangle:4\n",
      "Breadth of rectangle:5\n",
      "Area of rectangle is :  20\n",
      "Perimeter of rectangle is :  18\n",
      "1. Rectangle\n",
      "2. Square\n",
      "3.Circle\n",
      "0.Exit\n",
      "Enter the choice : 1\n",
      "Length of rectangle:25\n",
      "Breadth of rectangle:54\n",
      "Area of rectangle is :  1350\n",
      "Perimeter of rectangle is :  158\n",
      "1. Rectangle\n",
      "2. Square\n",
      "3.Circle\n",
      "0.Exit\n",
      "Enter the choice : 0\n",
      "Exiting!\n"
     ]
    }
   ],
   "source": [
    "choice=1\n",
    "while choice!=0:\n",
    "    print('1. Rectangle')\n",
    "    print('2. Square')\n",
    "    print('3.Circle')\n",
    "    print('0.Exit')\n",
    "    choice=int(input('Enter the choice : '))\n",
    "\n",
    "    if choice==1:\n",
    "        l= int(input('Length of rectangle:'))\n",
    "        b= int(input('Breadth of rectangle:'))\n",
    "        s= Shape(len_rect=l,brd_rect=b )\n",
    "        s.area_rect()\n",
    "        s.peri_rect()\n",
    "\n",
    "    elif choice==2:\n",
    "        sd=int(input('Side of square:'))\n",
    "        s=Shape(side_square=sd)\n",
    "        s.area_square()\n",
    "        s.peri_square()\n",
    "\n",
    "    elif choice==3:\n",
    "        r=int(input('Radius of circle : '))\n",
    "        s = Shape(rad_circle=r)\n",
    "        s.area_circle()\n",
    "        s.peri_circle()\n",
    "\n",
    "    elif choice==0:\n",
    "        print('Exiting!')\n",
    "\n",
    "    else:\n",
    "        print(\"Invalid choice\")\n"
   ]
  },
  {
   "cell_type": "markdown",
   "id": "7d99fcbb",
   "metadata": {},
   "source": [
    "## 3. Create a class called student which contains the data members called rollno, sname and branch. The class should contain methods to initialize the data members and to set and display data members. Finally, the class should contain the __del__ method to release the memory at the time of object destruction. Test your class with at least two objects of the student class"
   ]
  },
  {
   "cell_type": "code",
   "execution_count": 21,
   "id": "6bdf24d2",
   "metadata": {},
   "outputs": [],
   "source": [
    "class Student:\n",
    "    def set_data(self, rollno,sname,branch):\n",
    "        self.rollno= rollno\n",
    "        self.sname= sname\n",
    "        self.branch= branch\n",
    "        \n",
    "    def display_data(self):\n",
    "        print('rollno: ', self.rollno)\n",
    "        print('sname : ', self.sname)\n",
    "        print('branch : ', self.branch)\n",
    "        \n",
    "        \n",
    "    "
   ]
  },
  {
   "cell_type": "code",
   "execution_count": 24,
   "id": "5350e1ce",
   "metadata": {},
   "outputs": [
    {
     "name": "stdout",
     "output_type": "stream",
     "text": [
      "rollno:  12345678\n",
      "sname :  Ashfaq\n",
      "branch :  IAS\n"
     ]
    }
   ],
   "source": [
    "s1 = student()\n",
    "s1.set_data(12345678, 'Ashfaq', 'IAS')\n",
    "s1.display_data()\n"
   ]
  },
  {
   "cell_type": "markdown",
   "id": "a632260e",
   "metadata": {},
   "source": [
    "## 4.Modify the student class defined in Q. No. 1 in so that it now includes a class variable to count the number of student objects created from this class and also add a class function in order to display the value of the class variable. The modified class should be named as student1 class."
   ]
  },
  {
   "cell_type": "code",
   "execution_count": 29,
   "id": "1f661a7a",
   "metadata": {},
   "outputs": [],
   "source": [
    "class student1:\n",
    "    \n",
    "    instance_count=0\n",
    "    \n",
    "    def __init__(self,rollno=0,sname='',branch=''):\n",
    "        student1.increment_instance_count()\n",
    "        self.rollno=rollno\n",
    "        self.sname=sname\n",
    "        self.branch=branch\n",
    "        \n",
    "    def set_data(self,rollno,sname,branch):\n",
    "        self.rollno= rollno\n",
    "        self.sname= sname\n",
    "        self.branch= branch\n",
    "        \n",
    "    def display_data(self):\n",
    "        print('rollno: ', self.rollno)\n",
    "        print('sname : ', self.sname)\n",
    "        print('branch : ', self.branch)\n",
    "        \n",
    "    @classmethod\n",
    "    def increment_instance_count(cls):\n",
    "        cls.instance_count +=1"
   ]
  },
  {
   "cell_type": "code",
   "execution_count": 30,
   "id": "8515e59d",
   "metadata": {},
   "outputs": [
    {
     "name": "stdout",
     "output_type": "stream",
     "text": [
      "Number of employee objects created so far:  3\n"
     ]
    }
   ],
   "source": [
    "s1= student1()\n",
    "s2= student1(12345678, 'Ashfaq', 'IAS')\n",
    "s3= student1(1234, 'Ali', 'IFS')\n",
    "print('Number of employee objects created so far: ', student1.instance_count)"
   ]
  },
  {
   "cell_type": "markdown",
   "id": "c9339a68",
   "metadata": {},
   "source": [
    "## 5.Apply the vars() and dir() global function on student and student1 classes"
   ]
  },
  {
   "cell_type": "code",
   "execution_count": 31,
   "id": "f50630b2",
   "metadata": {},
   "outputs": [
    {
     "data": {
      "text/plain": [
       "mappingproxy({'__module__': '__main__',\n",
       "              'instance_count': 3,\n",
       "              '__init__': <function __main__.student1.__init__(self, rollno=0, sname='', branch='')>,\n",
       "              'set_data': <function __main__.student1.set_data(self, rollno, sname, branch)>,\n",
       "              'display_data': <function __main__.student1.display_data(self)>,\n",
       "              'increment_instance_count': <classmethod at 0x266d301f940>,\n",
       "              '__dict__': <attribute '__dict__' of 'student1' objects>,\n",
       "              '__weakref__': <attribute '__weakref__' of 'student1' objects>,\n",
       "              '__doc__': None})"
      ]
     },
     "execution_count": 31,
     "metadata": {},
     "output_type": "execute_result"
    }
   ],
   "source": [
    "vars(student1)"
   ]
  },
  {
   "cell_type": "code",
   "execution_count": 32,
   "id": "bbb2568c",
   "metadata": {},
   "outputs": [
    {
     "data": {
      "text/plain": [
       "['__class__',\n",
       " '__delattr__',\n",
       " '__dict__',\n",
       " '__dir__',\n",
       " '__doc__',\n",
       " '__eq__',\n",
       " '__format__',\n",
       " '__ge__',\n",
       " '__getattribute__',\n",
       " '__gt__',\n",
       " '__hash__',\n",
       " '__init__',\n",
       " '__init_subclass__',\n",
       " '__le__',\n",
       " '__lt__',\n",
       " '__module__',\n",
       " '__ne__',\n",
       " '__new__',\n",
       " '__reduce__',\n",
       " '__reduce_ex__',\n",
       " '__repr__',\n",
       " '__setattr__',\n",
       " '__sizeof__',\n",
       " '__str__',\n",
       " '__subclasshook__',\n",
       " '__weakref__',\n",
       " 'display_data',\n",
       " 'increment_instance_count',\n",
       " 'instance_count',\n",
       " 'set_data']"
      ]
     },
     "execution_count": 32,
     "metadata": {},
     "output_type": "execute_result"
    }
   ],
   "source": [
    "dir(student1)"
   ]
  },
  {
   "cell_type": "markdown",
   "id": "0153d092",
   "metadata": {},
   "source": [
    "## 6.Create a class called Date. It should contain data members day, month and year. It should also contain functions to set and display date, as well as function to initialize date objects. Overload the == operator to check if two dates are equal"
   ]
  },
  {
   "cell_type": "code",
   "execution_count": 14,
   "id": "308b389e",
   "metadata": {},
   "outputs": [],
   "source": [
    "class Date:\n",
    "    def __init__(self, day,month,year):\n",
    "        self.day= day\n",
    "        self.month= month\n",
    "        self.year= year\n",
    "        \n",
    "    def display_data(self):\n",
    "        print('day : ', self.day)\n",
    "        print('month : ', self.month)\n",
    "        print('year : ', self.year)\n",
    "        \n",
    "        \n",
    "    def __eq__(self, other):\n",
    "        if self.day==other.day and self.month==other.month and self.year==other.year:\n",
    "            return('Both are equal')\n",
    "        else:\n",
    "            return('dates are not equal')\n",
    "    \n",
    "        \n",
    "\n",
    "        "
   ]
  },
  {
   "cell_type": "code",
   "execution_count": 21,
   "id": "b75ead74",
   "metadata": {},
   "outputs": [
    {
     "data": {
      "text/plain": [
       "'Both are equal'"
      ]
     },
     "execution_count": 21,
     "metadata": {},
     "output_type": "execute_result"
    }
   ],
   "source": [
    "c=Date(28,1,1996)\n",
    "d=Date(28,1,1996)\n",
    "c.__eq__(d)"
   ]
  },
  {
   "cell_type": "markdown",
   "id": "4ecb4687",
   "metadata": {},
   "source": [
    "## 7.Create a class called weather that has a list containing weather parameters. Overload the in operator that checks whether an item is present in the list or not."
   ]
  },
  {
   "cell_type": "code",
   "execution_count": 14,
   "id": "3ee85ff7",
   "metadata": {},
   "outputs": [],
   "source": [
    "class weather:\n",
    "    def __init__(self, temp, humidity):\n",
    "        self.temp= temp\n",
    "        self.humidity= humidity\n",
    "    def __contains__(self, other):\n",
    "        if other in [self.temp, self.humidity]:\n",
    "            return True\n",
    "        else:\n",
    "            return False\n",
    "       \n",
    "        "
   ]
  },
  {
   "cell_type": "code",
   "execution_count": 16,
   "id": "01af1b31",
   "metadata": {},
   "outputs": [
    {
     "data": {
      "text/plain": [
       "True"
      ]
     },
     "execution_count": 16,
     "metadata": {},
     "output_type": "execute_result"
    }
   ],
   "source": [
    "c=weather(40,15)\n",
    "c.__contains__(40)"
   ]
  },
  {
   "cell_type": "markdown",
   "id": "52334e95",
   "metadata": {},
   "source": [
    "## 8.Create a class called complex containing real and imaginary parts and then use it to check whether two objects are of the same type, whether their attributes are same and whether they are pointing to the same object"
   ]
  },
  {
   "cell_type": "code",
   "execution_count": 26,
   "id": "159f05f1",
   "metadata": {},
   "outputs": [],
   "source": [
    "class complex:\n",
    "    def __init__(self, real, imaginary):\n",
    "        self.real= real\n",
    "        self.imaginary= imaginary\n",
    "        \n",
    "    def checktype(self,other):\n",
    "        if type(self.real+self.imaginary)==type(other.real+other.imaginary):\n",
    "            print('Both are complex')\n",
    "            \n",
    "        else:\n",
    "            print('Both are different')\n",
    "        \n",
    "    def __eq__(self, other):\n",
    "        if self.real==other.real and self.imaginary==other.imaginary:\n",
    "            print('Both are equal')\n",
    "        else:\n",
    "            print('dates are not equal')\n"
   ]
  },
  {
   "cell_type": "code",
   "execution_count": 28,
   "id": "1e2a4285",
   "metadata": {},
   "outputs": [
    {
     "name": "stdout",
     "output_type": "stream",
     "text": [
      "Both are complex\n",
      "dates are not equal\n"
     ]
    }
   ],
   "source": [
    "a=complex(74,4)\n",
    "b=complex(45,5)\n",
    "a.checktype(b)\n",
    "a.__eq__(b)"
   ]
  },
  {
   "cell_type": "markdown",
   "id": "e8dde83e",
   "metadata": {},
   "source": [
    "## 9.Create a class called department with the attributes deptname and deptid. Modify the student class defined in Q.No. 3 such that it contains an object of department class. Name the new modified student class as student2."
   ]
  },
  {
   "cell_type": "code",
   "execution_count": 4,
   "id": "ae1db3e8",
   "metadata": {},
   "outputs": [
    {
     "name": "stdout",
     "output_type": "stream",
     "text": [
      "rollno:  111\n",
      "sname :  ashfaq\n",
      "branch :  cse\n",
      "deptname : data science\n",
      "deptid : 181847\n"
     ]
    }
   ],
   "source": [
    "class Department:\n",
    "    def __init__(self,deptname,deptid):\n",
    "        self.deptname=deptname\n",
    "        self.deptid=deptid\n",
    "\n",
    "class Student2(Department):\n",
    "    def __init__(self, rollno,sname,branch,deptname,deptid):\n",
    "        super().__init__(deptname,deptid)\n",
    "        self.rollno= rollno\n",
    "        self.sname= sname\n",
    "        self.branch= branch\n",
    "        self.deptname= deptname\n",
    "        self.deptid= deptid\n",
    "    def display_data(self):\n",
    "        print('rollno: ', self.rollno)\n",
    "        print('sname : ', self.sname)\n",
    "        print('branch : ', self.branch)\n",
    "        print('deptname :', self.deptname)\n",
    "        print('deptid :', self.deptid)\n",
    "        \n",
    "d=Student2(111,'ashfaq','cse','data science', 181847)\n",
    "d.display_data()\n",
    "    "
   ]
  },
  {
   "cell_type": "code",
   "execution_count": null,
   "id": "c586b956",
   "metadata": {},
   "outputs": [],
   "source": []
  },
  {
   "cell_type": "markdown",
   "id": "e9df8c1f",
   "metadata": {},
   "source": [
    "## 10. Create a class called Person. From this class, inherit another class called student. Assume suitable data members and member functions for these two classes. In both the classes, define the __str__ function and demonstrate method overriding."
   ]
  },
  {
   "cell_type": "code",
   "execution_count": 8,
   "id": "9c5f11b5",
   "metadata": {},
   "outputs": [],
   "source": [
    "class Person:\n",
    "    def __init__(self,n,a):\n",
    "        self._name =n\n",
    "        self._age =a\n",
    "        \n",
    "    def age(self):\n",
    "        print('Now your age is : ', self._age)\n",
    "        \n",
    "    def __str__(self):\n",
    "        return self._name +' is ' + str(self._age) + ' years old '\n",
    "        "
   ]
  },
  {
   "cell_type": "code",
   "execution_count": 9,
   "id": "d5764735",
   "metadata": {},
   "outputs": [],
   "source": [
    "class student(Person):\n",
    "    def __init__(self,n,a,i):\n",
    "        super().__init__(n,a) \n",
    "        self._id =i\n",
    "    def __str__(self):\n",
    "        return self._name +' is ' + str(self._age) + ' years old '\n"
   ]
  },
  {
   "cell_type": "code",
   "execution_count": 11,
   "id": "6b8f21f4",
   "metadata": {},
   "outputs": [
    {
     "name": "stdout",
     "output_type": "stream",
     "text": [
      "A person only object\n",
      "The person object p is:  Mahesh is 24 years old \n",
      "Suresh is 30 years old \n"
     ]
    }
   ],
   "source": [
    "print('A person only object')\n",
    "p = Person('Mahesh', 24)\n",
    "print('The person object p is: ', p)\n",
    "\n",
    "e= student('Suresh', 30, 7711)\n",
    "print(e)\n",
    "\n",
    "\n",
    "\n"
   ]
  },
  {
   "cell_type": "code",
   "execution_count": null,
   "id": "fad60e80",
   "metadata": {},
   "outputs": [],
   "source": []
  }
 ],
 "metadata": {
  "kernelspec": {
   "display_name": "Python 3 (ipykernel)",
   "language": "python",
   "name": "python3"
  },
  "language_info": {
   "codemirror_mode": {
    "name": "ipython",
    "version": 3
   },
   "file_extension": ".py",
   "mimetype": "text/x-python",
   "name": "python",
   "nbconvert_exporter": "python",
   "pygments_lexer": "ipython3",
   "version": "3.9.7"
  }
 },
 "nbformat": 4,
 "nbformat_minor": 5
}
