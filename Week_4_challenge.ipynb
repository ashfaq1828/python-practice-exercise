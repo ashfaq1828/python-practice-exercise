{
 "cells": [
  {
   "cell_type": "markdown",
   "id": "3e947ae8",
   "metadata": {},
   "source": [
    "## 1. A set contains names which begin either with A or with B. Write a program to separate the names into two sets, one containing names beginning with A and the other containing names beginning with B"
   ]
  },
  {
   "cell_type": "code",
   "execution_count": 10,
   "id": "7ef0b939",
   "metadata": {},
   "outputs": [
    {
     "name": "stdout",
     "output_type": "stream",
     "text": [
      "{'ashfaq', 'banana', 'ayesha', 'benjamin', 'brian', 'adarsh'}\n",
      "Set a contains :  {'ashfaq', 'ayesha', 'adarsh'}\n",
      "Set b contains :  {'benjamin', 'banana', 'brian'}\n"
     ]
    }
   ],
   "source": [
    "a = set()\n",
    "b = set()\n",
    "names = {'ashfaq', 'banana', 'benjamin', 'ayesha', 'brian', 'adarsh'}\n",
    "print(names)\n",
    "\n",
    "for ele in names:\n",
    "      if ele.startswith(\"a\"):\n",
    "           a.add(ele)\n",
    "      elif ele.startswith(\"b\"):\n",
    "           b.add(ele)\n",
    "\n",
    "print(\"Set a contains : \", a)\n",
    "print(\"Set b contains : \", b)\n"
   ]
  },
  {
   "cell_type": "markdown",
   "id": "a5834f47",
   "metadata": {},
   "source": [
    "## 2. Create a list of tuples. Each tuple should contain an item and its price in float. Write a program to print each item and its price in a proper format"
   ]
  },
  {
   "cell_type": "code",
   "execution_count": 4,
   "id": "b7743129",
   "metadata": {},
   "outputs": [
    {
     "name": "stdout",
     "output_type": "stream",
     "text": [
      "items price\n",
      "Banana 12.20\n",
      "Mango 15.10\n",
      "Kiwi 24.5\n"
     ]
    }
   ],
   "source": [
    "price = [('Banana', '12.20'), ('Mango', '15.10'), ('Kiwi', '24.5')]\n",
    "print('items', 'price')\n",
    "for i in price:\n",
    "    print(i[0],i[1])\n",
    "    "
   ]
  },
  {
   "cell_type": "code",
   "execution_count": null,
   "id": "b734122f",
   "metadata": {},
   "outputs": [],
   "source": []
  },
  {
   "cell_type": "markdown",
   "id": "ff2fa5ce",
   "metadata": {},
   "source": [
    "## 3. Write a program that reads integers from the user and stores them in a list. Your program should continue reading values until the user enters 0. Then it should display all of the values entered by the user (except for the 0) in order from smallest to largest, with one value appearing on each line. Use either the sort method or the sorted function to sort the list."
   ]
  },
  {
   "cell_type": "code",
   "execution_count": 29,
   "id": "a1e0f3bf",
   "metadata": {},
   "outputs": [
    {
     "name": "stdout",
     "output_type": "stream",
     "text": [
      "enter the value:45\n",
      "enter the value:54\n",
      "enter the value:62\n",
      "enter the value:84\n",
      "enter the value:0\n",
      "value added\n",
      "[45, 54, 62, 84]\n",
      "None\n"
     ]
    }
   ],
   "source": [
    "my_list=[]\n",
    "while True:\n",
    "    value=int(input('enter the value:'))\n",
    "    if value>0:\n",
    "        my_list.append(value)\n",
    "    else:\n",
    "        break\n",
    "print('value added')\n",
    "\n",
    "print(sorted(my_list))\n",
    "print(my_list.sort())"
   ]
  },
  {
   "cell_type": "code",
   "execution_count": null,
   "id": "bd2e235a",
   "metadata": {},
   "outputs": [],
   "source": []
  },
  {
   "cell_type": "markdown",
   "id": "ab6ac4ce",
   "metadata": {},
   "source": [
    "## 4. Write a program to read a list of numbers from the user and remove the two largest and two smallest values from it. Display the list with the values removed, followed by the original list. Your program should generate an appropriate error message if the user enters less than 5 values."
   ]
  },
  {
   "cell_type": "code",
   "execution_count": 11,
   "id": "f47fa69e",
   "metadata": {},
   "outputs": [
    {
     "name": "stdout",
     "output_type": "stream",
     "text": [
      "enter the value: 789\n",
      "enter the value: 45\n",
      "enter the value: 14\n",
      "enter the value: 12\n",
      "enter the value: 10\n",
      "enter the value: 0\n",
      "value added\n",
      "please enter the value greater than 5\n",
      "[10, 12, 14, 45, 789]\n",
      "length of list: 5\n",
      "[14]\n"
     ]
    }
   ],
   "source": [
    "list=[]\n",
    "\n",
    "while True:\n",
    "    value=int(input('enter the value: '))\n",
    "    if value>0:\n",
    "        list.append(value)\n",
    "    else:\n",
    "        break\n",
    "print('value added')\n",
    "\n",
    "\n",
    "\n",
    "if value<=5:\n",
    "    print(\"please enter the value greater than 5\")\n",
    "print(sorted(list))\n",
    "s=sorted(list)\n",
    "l=len(list)\n",
    "print('length of list:',l)\n",
    "del s[0:2]\n",
    "s.pop()\n",
    "s.pop()\n",
    "print(s)\n"
   ]
  },
  {
   "cell_type": "code",
   "execution_count": null,
   "id": "bdac3cd2",
   "metadata": {},
   "outputs": [],
   "source": []
  },
  {
   "cell_type": "markdown",
   "id": "2d42fb6c",
   "metadata": {},
   "source": [
    "## 5. In this exercise, you will create a program that reads words from the user until the user enters a blank line. After the user enters a blank line your program should display each word entered by the user exactly once\n"
   ]
  },
  {
   "cell_type": "code",
   "execution_count": 16,
   "id": "5325bd2c",
   "metadata": {},
   "outputs": [
    {
     "name": "stdout",
     "output_type": "stream",
     "text": [
      "enter the value: ashfaq\n",
      "enter the value: ali\n",
      "enter the value: mohammed\n",
      "enter the value: ashfaq\n",
      "enter the value: \n",
      "{'mohammed', 'ali', 'ashfaq'}\n"
     ]
    }
   ],
   "source": [
    "list1=[]\n",
    "\n",
    "while True:\n",
    "    value=input('enter the value: ')\n",
    "    if value!=\"\":\n",
    "        list1.append(value)\n",
    "    else:\n",
    "        break\n",
    "s=set(list1)\n",
    "print(s)"
   ]
  },
  {
   "cell_type": "code",
   "execution_count": null,
   "id": "2f5fedc5",
   "metadata": {},
   "outputs": [],
   "source": []
  },
  {
   "cell_type": "markdown",
   "id": "739ff452",
   "metadata": {},
   "source": [
    "## 6. Write a program that reads numbers from the user until a 0 is entered. Your program should display the average of all of the values entered by the user. Then the program should display all of the below average values, followed by all of the average values (if any), followed by all of the above average values. An appropriate label should be displayed before each list of values."
   ]
  },
  {
   "cell_type": "code",
   "execution_count": 13,
   "id": "b8d24ff2",
   "metadata": {},
   "outputs": [
    {
     "name": "stdout",
     "output_type": "stream",
     "text": [
      "enter the value: 1\n",
      "enter the value: 2\n",
      "enter the value: 3\n",
      "enter the value: 4\n",
      "enter the value: 5\n",
      "enter the value: 6\n",
      "enter the value: 7\n",
      "enter the value: 8\n",
      "enter the value: 9\n",
      "enter the value: 10\n",
      "enter the value: 0\n",
      "value added\n",
      "[6, 7, 8, 9, 10]\n",
      "[1, 2, 3, 4, 5]\n",
      "[]\n"
     ]
    }
   ],
   "source": [
    "list=[]\n",
    "\n",
    "while True:\n",
    "    value=int(input('enter the value: '))\n",
    "    if value>0:\n",
    "        list.append(value)\n",
    "    else:\n",
    "        break\n",
    "print('value added')\n",
    "avg=sum(list)/len(list)\n",
    "below_avg=[]\n",
    "equal_avg=[]\n",
    "above_avg=[]\n",
    "for i in list:\n",
    "    if i > avg:\n",
    "        above_avg.append(i)\n",
    "    elif i<avg:\n",
    "        below_avg.append(i)\n",
    "    else:\n",
    "        equal_avg.append(i)\n",
    "print(above_avg)\n",
    "print(below_avg)\n",
    "print(equal_avg)\n",
    "\n",
    "\n"
   ]
  },
  {
   "cell_type": "code",
   "execution_count": null,
   "id": "691f448c",
   "metadata": {},
   "outputs": [],
   "source": []
  },
  {
   "cell_type": "markdown",
   "id": "ad658577",
   "metadata": {},
   "source": [
    "##  7.Create a program that determines and displays the number of unique characters in a string entered by the user. For example, Hello World! has 9 unique characters while zzz has only one unique character. Use a dictionary to solve this problem.\n"
   ]
  },
  {
   "cell_type": "code",
   "execution_count": 27,
   "id": "724d829c",
   "metadata": {},
   "outputs": [
    {
     "name": "stdout",
     "output_type": "stream",
     "text": [
      "Enter a sentence:Hello World!\n",
      "That string contained 9 unique character.\n"
     ]
    }
   ],
   "source": [
    "sentence = input(\"Enter a sentence:\")\n",
    "d=dict()\n",
    "\n",
    "for c in sentence:\n",
    "   d[c]= True\n",
    "print(\"That string contained\", len(d),            \\\n",
    "         \"unique character.\")"
   ]
  },
  {
   "cell_type": "code",
   "execution_count": null,
   "id": "d2e19601",
   "metadata": {},
   "outputs": [],
   "source": []
  },
  {
   "cell_type": "markdown",
   "id": "cd7beca0",
   "metadata": {},
   "source": [
    "## 8. Two words are anagrams if they contain all of the same letters, but in a different order. For example, “evil” and “live” are anagrams because each contains one e, one i, one l, and one v. Create a program that reads two strings from the user, determines whether or not they are anagrams, and reports the result."
   ]
  },
  {
   "cell_type": "code",
   "execution_count": 1,
   "id": "fc73d01f",
   "metadata": {},
   "outputs": [
    {
     "name": "stdout",
     "output_type": "stream",
     "text": [
      "Enter the first string: evil\n",
      "Enter the second string: live\n",
      "Those strings are anagrams.\n"
     ]
    }
   ],
   "source": [
    "def   characterCounts(s):\n",
    "   counts  = {}\n",
    "   for c in s:\n",
    "      if c in counts:\n",
    "         counts[c] = counts[c] + 1\n",
    "      else :\n",
    "         counts[c] = 1\n",
    "   return counts\n",
    "def main():\n",
    "   s1 = input (\"Enter the first string: \")\n",
    "   s2 = input (\"Enter the second string: \")\n",
    "   counts1   = characterCounts(s1)\n",
    "   counts2   = characterCounts(s2)\n",
    "   if counts1 == counts2:\n",
    "      print (\"Those strings are anagrams.\")\n",
    "   else :\n",
    "      print (\"Those strings are not anagrams.\")\n",
    "main()"
   ]
  },
  {
   "cell_type": "code",
   "execution_count": null,
   "id": "9ccb9cd5",
   "metadata": {},
   "outputs": [],
   "source": []
  },
  {
   "cell_type": "markdown",
   "id": "a1844d49",
   "metadata": {},
   "source": [
    "## 9. An integer, n, is said to be perfect when the sum of all of the proper divisors of n is equal to n. For example, 28 is a perfect number because its proper divisors are 1, 2, 4, 7 and 14, and 1 + 2 + 4 + 7 + 14 = 28. Write a program that determines whether or not a positive integer is perfect. Your program will accept a number from the user. If that number is a perfect number then your program will display true. Otherwise it will display false."
   ]
  },
  {
   "cell_type": "code",
   "execution_count": 9,
   "id": "89ea95a6",
   "metadata": {},
   "outputs": [
    {
     "name": "stdout",
     "output_type": "stream",
     "text": [
      " Please Enter any Number: 6\n",
      " %d is a Perfect Number 6\n"
     ]
    }
   ],
   "source": [
    "Number = int(input(\" Please Enter any Number: \"))\n",
    "Sum = 0\n",
    "for i in range(1, Number):\n",
    "    if(Number % i == 0):\n",
    "        Sum = Sum + i\n",
    "if (Sum == Number):\n",
    "    print(\" %d is a Perfect Number\", Number)\n",
    "else:\n",
    "    print(\" %d is not a Perfect Number\", Number)"
   ]
  },
  {
   "cell_type": "code",
   "execution_count": null,
   "id": "76cbd34c",
   "metadata": {},
   "outputs": [],
   "source": []
  },
  {
   "cell_type": "markdown",
   "id": "109edc83",
   "metadata": {},
   "source": [
    "## 10. Write a program that finds all of the keys in a dictionary that map to a specific value. The program will take the value to search for as its input. It will display a (possibly empty) list of keys from the dictionary that map to the provided value."
   ]
  },
  {
   "cell_type": "code",
   "execution_count": 10,
   "id": "b9f7cce5",
   "metadata": {},
   "outputs": [
    {
     "name": "stdout",
     "output_type": "stream",
     "text": [
      "enter the capital:Bangalore\n",
      "Karnataka\n"
     ]
    }
   ],
   "source": [
    "capitals={'Andhra pradesh':'Hyderabad','Telangana':'Hyderabad','Karnataka':'Bangalore','West bengal':'Kolkata','Maharastra':'Mumbai'}\n",
    "state=input(\"enter the capital:\")\n",
    "for i in capitals:\n",
    "    if state==capitals[i]:\n",
    "        print(i)\n",
    "    \n",
    "\n",
    "\n"
   ]
  },
  {
   "cell_type": "code",
   "execution_count": null,
   "id": "84233bfd",
   "metadata": {},
   "outputs": [],
   "source": []
  }
 ],
 "metadata": {
  "kernelspec": {
   "display_name": "Python 3 (ipykernel)",
   "language": "python",
   "name": "python3"
  },
  "language_info": {
   "codemirror_mode": {
    "name": "ipython",
    "version": 3
   },
   "file_extension": ".py",
   "mimetype": "text/x-python",
   "name": "python",
   "nbconvert_exporter": "python",
   "pygments_lexer": "ipython3",
   "version": "3.9.7"
  }
 },
 "nbformat": 4,
 "nbformat_minor": 5
}
