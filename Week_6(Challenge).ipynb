{
 "cells": [
  {
   "cell_type": "markdown",
   "id": "3e2dbe63",
   "metadata": {},
   "source": [
    "## 1.Write a program that read contents of the file ‘messages’ one character at a time and prints each character that is read."
   ]
  },
  {
   "cell_type": "code",
   "execution_count": 16,
   "id": "09056fd0",
   "metadata": {},
   "outputs": [
    {
     "name": "stdout",
     "output_type": "stream",
     "text": [
      "a\n",
      "b\n",
      "c\n",
      "d\n",
      "e\n",
      "f\n",
      "g\n",
      "h\n",
      "B\n",
      "Y\n",
      "H\n",
      "I\n",
      "m\n",
      "n\n",
      "o\n",
      "p\n",
      "q\n",
      "r\n",
      "s\n",
      "t\n",
      "u\n",
      "v\n",
      "w\n",
      "x\n",
      "y\n",
      "z\n",
      "\n",
      "\n",
      "H\n",
      "e\n",
      "l\n",
      "l\n",
      "o\n",
      " \n",
      "w\n",
      "o\n",
      "r\n",
      "l\n",
      "d\n",
      "\n",
      "\n"
     ]
    }
   ],
   "source": [
    "file = open(\"Week6_practice_file.txt\", 'r')\n",
    "while 1:\n",
    "    char=file.read(1)\n",
    "    if not char:\n",
    "        break\n",
    "    print(char)\n",
    "    \n",
    "file.close()\n",
    "    "
   ]
  },
  {
   "cell_type": "code",
   "execution_count": null,
   "id": "81580bee",
   "metadata": {},
   "outputs": [],
   "source": []
  },
  {
   "cell_type": "markdown",
   "id": "73de16e2",
   "metadata": {},
   "source": [
    "## 2.Write a Python program that searches for a file, obtains its size and reports the size in bytes/ KB/ MB as appropriate"
   ]
  },
  {
   "cell_type": "code",
   "execution_count": 4,
   "id": "02100328",
   "metadata": {},
   "outputs": [
    {
     "name": "stdout",
     "output_type": "stream",
     "text": [
      "Enter the filename:Week6_practice_file.txt\n",
      "The size of the file is:  (112, 'bytes')\n"
     ]
    }
   ],
   "source": [
    "import sizefile as sf\n",
    "filename = input('Enter the filename:')\n",
    "print('The size of the file is: ', sf.file_size(filename))"
   ]
  },
  {
   "cell_type": "code",
   "execution_count": null,
   "id": "d428be8d",
   "metadata": {},
   "outputs": [],
   "source": [
    "##sizefile\n",
    "\n",
    "''' An application which returns the file size in bytes, KB or MB\n",
    "\n",
    "import os\n",
    "\n",
    "def convert(num):\n",
    "    for x in ['bytes','KB','MB']:\n",
    "        if num<1024:\n",
    "            return (num,x)\n",
    "        num/=1024\n",
    "        \n",
    "def file_size(file_path):\n",
    "    if os.path.isfile(file_path):\n",
    "        file_info=os.stat(file_path)\n",
    "        return convert(file_info.st_size) '''"
   ]
  },
  {
   "cell_type": "markdown",
   "id": "176f0bdd",
   "metadata": {},
   "source": [
    "## 3.Write a program to accept a filename from the user, create a file with that name(if it does not exist) and write some content into the file"
   ]
  },
  {
   "cell_type": "code",
   "execution_count": 7,
   "id": "bb8a9a0a",
   "metadata": {},
   "outputs": [
    {
     "name": "stdout",
     "output_type": "stream",
     "text": [
      "Enter the file name:ashfaq.txt\n",
      "Writing to the file....\n"
     ]
    }
   ],
   "source": [
    "filename= input('Enter the file name:')\n",
    "print('Writing to the file....')\n",
    "\n",
    "f= open(filename, 'w')\n",
    "f.write('Hello python\\n')\n",
    "f.write('Hello world\\n')\n",
    "f.write('Im Ashfaq Ali\\n')\n",
    "\n",
    "f.close()"
   ]
  },
  {
   "cell_type": "code",
   "execution_count": null,
   "id": "311de6db",
   "metadata": {},
   "outputs": [],
   "source": []
  },
  {
   "cell_type": "markdown",
   "id": "1cc34abe",
   "metadata": {},
   "source": [
    "## 4.Write a program to read a file and display its contents along with line numbers before each line"
   ]
  },
  {
   "cell_type": "code",
   "execution_count": 13,
   "id": "aae6b84e",
   "metadata": {},
   "outputs": [
    {
     "name": "stdout",
     "output_type": "stream",
     "text": [
      "Line1: Suresh\n",
      "Line2: Ramesh\n",
      "Line3: Sampoornesh\n",
      "Line4: Mahesh\n",
      "Line5: Kamesh\n",
      "Line6: Roopesh\n"
     ]
    }
   ],
   "source": [
    "file=open('student_data.txt','r')\n",
    "lines=file.readlines()\n",
    "count=0\n",
    "for i in lines:\n",
    "    count+=1\n",
    "    print(\"Line{}: {}\".format(count, i.strip()))\n",
    "    \n",
    "file.close()"
   ]
  },
  {
   "cell_type": "code",
   "execution_count": null,
   "id": "481f3ac4",
   "metadata": {},
   "outputs": [],
   "source": []
  },
  {
   "cell_type": "markdown",
   "id": "b14ec618",
   "metadata": {},
   "source": [
    "## 5.Write a program to copy the contents of one file into another"
   ]
  },
  {
   "cell_type": "code",
   "execution_count": 28,
   "id": "c63026e0",
   "metadata": {},
   "outputs": [
    {
     "name": "stdout",
     "output_type": "stream",
     "text": [
      "Enter the file name:Week6_practice_file.txt\n",
      "Enter the destination file name:filename.txt\n"
     ]
    }
   ],
   "source": [
    "source_file=input('Enter the file name:')\n",
    "destination_file=input('Enter the destination file name:')\n",
    "f1=open(source_file, 'r')\n",
    "f2=open(destination_file, 'w')\n",
    "\n",
    "while True:\n",
    "    data=f1.read(1)\n",
    "    if data=='':\n",
    "        break\n",
    "    f2.write(data)\n",
    "\n",
    "f1.close()\n",
    "f2.close()\n"
   ]
  },
  {
   "cell_type": "code",
   "execution_count": null,
   "id": "a2293a12",
   "metadata": {},
   "outputs": [],
   "source": []
  },
  {
   "cell_type": "markdown",
   "id": "004e06cf",
   "metadata": {},
   "source": [
    "## 6.Write a program to append the contents of one file into another"
   ]
  },
  {
   "cell_type": "code",
   "execution_count": 29,
   "id": "cdc81daa",
   "metadata": {},
   "outputs": [
    {
     "name": "stdout",
     "output_type": "stream",
     "text": [
      "enter the file name:filename.txt\n",
      "enter the destination file:Week6_practice_file.txt\n"
     ]
    }
   ],
   "source": [
    "source_file=input('enter the file name:')\n",
    "destination_file=input('enter the destination file:')\n",
    "\n",
    "f1=open(source_file,'r')\n",
    "f2=open(destination_file,'a')\n",
    "\n",
    "while True:\n",
    "    data=f1.read(1)\n",
    "    if data=='':\n",
    "        break\n",
    "    f2.write(data)\n",
    "    \n",
    "f1.close()\n",
    "f2.close()"
   ]
  },
  {
   "cell_type": "code",
   "execution_count": null,
   "id": "af66e354",
   "metadata": {},
   "outputs": [],
   "source": []
  },
  {
   "cell_type": "markdown",
   "id": "c19f8e8c",
   "metadata": {},
   "source": [
    "## 7.Suppose a file contains student records, with each record containing name and age of student. Write a program to read these records and display them in sorted order by name"
   ]
  },
  {
   "cell_type": "code",
   "execution_count": 27,
   "id": "427159b5",
   "metadata": {},
   "outputs": [
    {
     "name": "stdout",
     "output_type": "stream",
     "text": [
      "Mahesh : 46\n",
      "Ramesh : 12\n",
      "Sampoornesh : 45\n",
      "Suresh : 23\n"
     ]
    }
   ],
   "source": [
    "import json\n",
    "\n",
    "file=open('student_data.txt','r')\n",
    "lines=json.load(file)\n",
    "li=sorted(lines)\n",
    "for i in li:\n",
    "    print(i,':',lines[i])\n"
   ]
  },
  {
   "cell_type": "code",
   "execution_count": null,
   "id": "0336953a",
   "metadata": {},
   "outputs": [],
   "source": [
    "#{\"Suresh\":23,\"Ramesh\":12,\"Sampoornesh\":45,\"Mahesh\":46}"
   ]
  },
  {
   "cell_type": "code",
   "execution_count": null,
   "id": "f40e06ea",
   "metadata": {},
   "outputs": [],
   "source": []
  },
  {
   "cell_type": "markdown",
   "id": "d8af082b",
   "metadata": {},
   "source": [
    "## 8.Suppose there are three modules m1.py, m2.py and m3.py containing functions f1(), f2() and f3() respectively. Write a program to use these functions"
   ]
  },
  {
   "cell_type": "code",
   "execution_count": 1,
   "id": "1ce8912d",
   "metadata": {},
   "outputs": [
    {
     "name": "stdout",
     "output_type": "stream",
     "text": [
      "\n",
      "::: Welcome to the mymath module ::: \n",
      "\n",
      "::: Welcome to the mymath module ::: \n",
      "\n",
      "::: Welcome to the mymath module ::: \n",
      "Enter the first interger: 10\n",
      "Enter the second interger: 10\n",
      "The sum of 10  and  10 is : 20\n",
      "The multiplication of 10  and  10 is : 100\n",
      "The subraction of 10  and  10 is : 0\n"
     ]
    }
   ],
   "source": [
    "import addition as ad\n",
    "import Subtraction as sb\n",
    "import Multiplication as ml\n",
    "\n",
    "x=int(input('Enter the first interger: '))\n",
    "y=int(input('Enter the second interger: '))\n",
    "\n",
    "print('The sum of', x , ' and ', y ,'is :', ad.add(x,y))\n",
    "print('The multiplication of', x , ' and ', y ,'is :', ml.mult(x,y))\n",
    "print('The subraction of', x , ' and ', y ,'is :', sb.sub(x,y))"
   ]
  },
  {
   "cell_type": "code",
   "execution_count": null,
   "id": "499b45d8",
   "metadata": {},
   "outputs": [],
   "source": [
    "def sub(x,y):\n",
    "    return x-y\n",
    "\n",
    "def mult(x,y):\n",
    "    return x*y \n",
    "\n",
    "def add(x,y):\n",
    "    return x+y\n",
    "\n",
    "\n",
    "\n",
    "\n"
   ]
  },
  {
   "cell_type": "markdown",
   "id": "0fad1bb6",
   "metadata": {},
   "source": [
    "## 9.Write a program containing functions fun1(), fun2() and fun3() and some statements. Add suitable code to the program such that you can use it as a module or a normal program"
   ]
  },
  {
   "cell_type": "code",
   "execution_count": 19,
   "id": "fef62ca8",
   "metadata": {},
   "outputs": [
    {
     "name": "stdout",
     "output_type": "stream",
     "text": [
      "Inside the function fun1\n",
      "Inside the function fun2\n",
      "Inside the function fun3\n"
     ]
    }
   ],
   "source": [
    "def fun1():\n",
    "    print('Inside the function fun1')\n",
    "def fun2():\n",
    "    print('Inside the function fun2')\n",
    "def fun3():\n",
    "    print('Inside the function fun3')\n",
    "    \n",
    "def main():\n",
    "    fun1()\n",
    "    fun2()\n",
    "    fun3()\n",
    "    \n",
    "if(__name__=='__main__'):\n",
    "    main()"
   ]
  },
  {
   "cell_type": "code",
   "execution_count": null,
   "id": "aa9765d2",
   "metadata": {},
   "outputs": [],
   "source": []
  },
  {
   "cell_type": "markdown",
   "id": "9164d209",
   "metadata": {},
   "source": [
    "## 10.Suppose a module called mod.py contains functions f1(), f2() and f3(). Write three forms of import statements to use these functions in your program"
   ]
  },
  {
   "cell_type": "code",
   "execution_count": null,
   "id": "05f9d4ad",
   "metadata": {},
   "outputs": [],
   "source": [
    "import mod.f1\n",
    "from mod import f2\n",
    "from mod import *"
   ]
  },
  {
   "cell_type": "code",
   "execution_count": null,
   "id": "55649180",
   "metadata": {},
   "outputs": [],
   "source": []
  },
  {
   "cell_type": "code",
   "execution_count": null,
   "id": "c165426c",
   "metadata": {},
   "outputs": [],
   "source": []
  },
  {
   "cell_type": "code",
   "execution_count": null,
   "id": "2cf0da08",
   "metadata": {},
   "outputs": [],
   "source": []
  },
  {
   "cell_type": "code",
   "execution_count": null,
   "id": "974a3979",
   "metadata": {},
   "outputs": [],
   "source": []
  },
  {
   "cell_type": "code",
   "execution_count": null,
   "id": "9d90d9a0",
   "metadata": {},
   "outputs": [],
   "source": []
  },
  {
   "cell_type": "code",
   "execution_count": null,
   "id": "dd18a392",
   "metadata": {},
   "outputs": [],
   "source": []
  },
  {
   "cell_type": "code",
   "execution_count": null,
   "id": "0dd7c55b",
   "metadata": {},
   "outputs": [],
   "source": []
  },
  {
   "cell_type": "code",
   "execution_count": null,
   "id": "5a7e194a",
   "metadata": {},
   "outputs": [],
   "source": []
  },
  {
   "cell_type": "code",
   "execution_count": null,
   "id": "71d18ed0",
   "metadata": {},
   "outputs": [],
   "source": []
  },
  {
   "cell_type": "code",
   "execution_count": null,
   "id": "59b40b6e",
   "metadata": {},
   "outputs": [],
   "source": []
  }
 ],
 "metadata": {
  "kernelspec": {
   "display_name": "Python 3 (ipykernel)",
   "language": "python",
   "name": "python3"
  },
  "language_info": {
   "codemirror_mode": {
    "name": "ipython",
    "version": 3
   },
   "file_extension": ".py",
   "mimetype": "text/x-python",
   "name": "python",
   "nbconvert_exporter": "python",
   "pygments_lexer": "ipython3",
   "version": "3.9.7"
  }
 },
 "nbformat": 4,
 "nbformat_minor": 5
}
