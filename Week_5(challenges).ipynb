{
 "cells": [
  {
   "cell_type": "markdown",
   "id": "21d55ea8",
   "metadata": {},
   "source": [
    "## 1. Write a function that takes the lengths of the two shorter sides of a right triangle as its parameters. Return the hypotenuse of the triangle, computed using Pythagorean theorem, as the function’s result."
   ]
  },
  {
   "cell_type": "code",
   "execution_count": 4,
   "id": "66392c0d",
   "metadata": {},
   "outputs": [
    {
     "name": "stdout",
     "output_type": "stream",
     "text": [
      "enter the interger value a:3\n",
      "enter the interger value b:4\n",
      "The length of hypotenusis is:  5.0\n"
     ]
    }
   ],
   "source": [
    "from math import sqrt\n",
    "\n",
    "A = float(input('enter the interger value a:'))\n",
    "B = float(input('enter the interger value b:'))\n",
    "\n",
    "C = sqrt((A**2) + (B**2)) # Pythagorean theorem formula a^2 + b^2 = c^2\n",
    "\n",
    "print('The length of hypotenusis is: ', C)"
   ]
  },
  {
   "cell_type": "code",
   "execution_count": null,
   "id": "a1dbb663",
   "metadata": {},
   "outputs": [],
   "source": []
  },
  {
   "cell_type": "markdown",
   "id": "137bb404",
   "metadata": {},
   "source": [
    "## 2. An online retailer provides express shipping for many of its items at a rate of $10.95 for the first item, and $2.95 for each subsequent item. Write a function that takes the number of items in the order as its only parameter. Return the shipping charge for the order as the function’s result. Include a main program that reads the number of items purchased from the user and displays the shipping charge."
   ]
  },
  {
   "cell_type": "code",
   "execution_count": 3,
   "id": "db463b81",
   "metadata": {},
   "outputs": [
    {
     "name": "stdout",
     "output_type": "stream",
     "text": [
      "Entere the number of items:2\n",
      "The delivery cost: 13.899999999999999\n"
     ]
    }
   ],
   "source": [
    "a=int(input('Entere the number of items:'))\n",
    "delivery_cost=(1*10.95)+((a-1)*2.95)\n",
    "print('The delivery cost:', delivery_cost)\n"
   ]
  },
  {
   "cell_type": "code",
   "execution_count": null,
   "id": "315574e7",
   "metadata": {},
   "outputs": [],
   "source": []
  },
  {
   "cell_type": "markdown",
   "id": "a1e5c884",
   "metadata": {},
   "source": [
    "## 3.Write a function that takes three numbers as parameters, and returns the median value of those parameters as its result. Include a main program that reads three values from the user and displays their median"
   ]
  },
  {
   "cell_type": "code",
   "execution_count": 13,
   "id": "ce64f26f",
   "metadata": {},
   "outputs": [
    {
     "name": "stdout",
     "output_type": "stream",
     "text": [
      "enter the value a:2\n",
      "enter the value b:0\n",
      "enter the value c:0\n",
      "The median is: 0\n",
      "[0, 0, 2]\n"
     ]
    }
   ],
   "source": [
    "a= int(input('enter the value a:'))\n",
    "b= int(input('enter the value b:'))\n",
    "c= int(input('enter the value c:'))\n",
    "\n",
    "my_list=[a,b,c]\n",
    "\n",
    "if a>b:\n",
    "    if a<c:\n",
    "        median=a\n",
    "    elif b>c:\n",
    "        median=b\n",
    "    else:\n",
    "        median=c\n",
    "else:\n",
    "    if a>c:\n",
    "        median=a\n",
    "    elif b<c:\n",
    "        median=b\n",
    "    else:\n",
    "        median=c\n",
    "        \n",
    "print('The median is:', median)\n",
    "\n",
    "print(sorted(my_list))"
   ]
  },
  {
   "cell_type": "code",
   "execution_count": null,
   "id": "0896d435",
   "metadata": {},
   "outputs": [],
   "source": []
  },
  {
   "cell_type": "markdown",
   "id": "37d8e5e3",
   "metadata": {},
   "source": [
    "## 4.Write a function that determines whether or not three lengths can form a triangle. The function will take 3 parameters and return a Boolean result. In addition, write a program that reads 3 lengths from the user and demonstrates the behavior of this function. In general, if any one length is greater than or equal to the sum of the other two then the lengths cannot be used to form a triangle. Otherwise they can form a triangle."
   ]
  },
  {
   "cell_type": "code",
   "execution_count": 6,
   "id": "bf50a35a",
   "metadata": {},
   "outputs": [
    {
     "name": "stdout",
     "output_type": "stream",
     "text": [
      "enter the input a:1\n",
      "enter the input b:2\n",
      "enter the input c:3\n",
      "triangle cannot be formed\n"
     ]
    }
   ],
   "source": [
    "a=input('enter the input a:')\n",
    "b=input('enter the input b:')\n",
    "c=input('enter the input c:')\n",
    "\n",
    "if a>= b+c or b>=a+c or c>= b+a:\n",
    "    print('triangle cannot be formed')\n",
    "else:\n",
    "    print('triangle can be formed')"
   ]
  },
  {
   "cell_type": "code",
   "execution_count": null,
   "id": "001c0133",
   "metadata": {},
   "outputs": [],
   "source": []
  },
  {
   "cell_type": "markdown",
   "id": "452c478c",
   "metadata": {},
   "source": [
    "## 5.In this exercise you will write a function named isInteger that determines whether or not the characters in a string represent a valid integer. When determining if a string represents an integer you should ignore any leading or trailing white space. Once this white space is ignored, a string represents an integer if its length is at least 1 and it only contains digits, or if its first character is either + or - and the first character is followed by one or more characters, all of which are digits. Write a main program that reads a string from the user and reports whether or not it represents an integer."
   ]
  },
  {
   "cell_type": "code",
   "execution_count": null,
   "id": "711cc791",
   "metadata": {},
   "outputs": [],
   "source": [
    "#a=input('Enter the input:')\n",
    "\n",
    "#remove spaces\n",
    "\n",
    "#check for alphabets (for loop)\n",
    "\n",
    "#if had alphabets print false or else true\n"
   ]
  },
  {
   "cell_type": "code",
   "execution_count": 5,
   "id": "8bb4af85",
   "metadata": {},
   "outputs": [
    {
     "name": "stdout",
     "output_type": "stream",
     "text": [
      "Enter the input:123+7\n",
      "That string does not represent an integer.\n"
     ]
    }
   ],
   "source": [
    "s=input('Enter the input:')\n",
    "s=s.strip()\n",
    "def isInteger(s):\n",
    "    if s[0]=='+' or s[0]=='-' or s.isdigit():\n",
    "        return True\n",
    "    else:\n",
    "        return False\n",
    "if isInteger(s):\n",
    "    print (\"That string represents an integer.\")\n",
    "else:\n",
    "    print (\"That string does not represent an integer.\")\n",
    "    \n",
    "      \n",
    "    "
   ]
  },
  {
   "cell_type": "code",
   "execution_count": null,
   "id": "e73fcdda",
   "metadata": {},
   "outputs": [],
   "source": []
  },
  {
   "cell_type": "markdown",
   "id": "fbd68adf",
   "metadata": {},
   "source": [
    "## 6.In this exercise you will create a function named nextPrime that finds and returns the first prime number larger than some integer, n. The value of n will be passed to the function as its only parameter. Include a main program that reads an integer from the user and displays the first prime number larger than the entered value."
   ]
  },
  {
   "cell_type": "code",
   "execution_count": 2,
   "id": "b56469f0",
   "metadata": {},
   "outputs": [
    {
     "name": "stdout",
     "output_type": "stream",
     "text": [
      "15\n"
     ]
    }
   ],
   "source": [
    "\n",
    "def nextPrime(n):\n",
    "    primelist=[]\n",
    "    for num in range(n+1,n+50):\n",
    "        if num>1:\n",
    "            \n",
    "            for i in range(2,num):\n",
    "                if num%i==0:\n",
    "                    break\n",
    "                else:\n",
    "                    primelist.append(num)\n",
    "    print(primelist[0])\n",
    "\n",
    "nextPrime(13)\n",
    "       \n",
    "                \n",
    "                    \n",
    "                \n",
    "    \n",
    "        "
   ]
  },
  {
   "cell_type": "code",
   "execution_count": null,
   "id": "6ac1787a",
   "metadata": {},
   "outputs": [],
   "source": []
  },
  {
   "cell_type": "markdown",
   "id": "499d9ee4",
   "metadata": {},
   "source": [
    "## 7.In this exercise you will write a function that determines whether or not a password is good. We will define a good password to be a one that is at least 8 characters long and contains at least one uppercase letter, at least one lowercase letter, and at least one number. Your function should return true if the password passed to it as its only parameter is good. Otherwise it should return false. Include a main program that reads a password from the user and reports whether or not it is good."
   ]
  },
  {
   "cell_type": "code",
   "execution_count": 9,
   "id": "b0d5dcea",
   "metadata": {},
   "outputs": [
    {
     "name": "stdout",
     "output_type": "stream",
     "text": [
      "Ener the password:asdjmnkjh\n",
      "Password is not valid\n"
     ]
    }
   ],
   "source": [
    "import re\n",
    "\n",
    "password=input('Ener the password:')\n",
    "\n",
    "while True:\n",
    "    if len(password)<8:\n",
    "        print(\"Password is not valid\")\n",
    "        break\n",
    "    elif not re.search(\"[a-z]\",password):\n",
    "        print(\"Password is not valid\")\n",
    "        break\n",
    "    elif not re.search('[A-Z]',password):\n",
    "        print(\"Password is not valid\")\n",
    "        break\n",
    "    elif not re.search('[0-9]',password):\n",
    "        print(\"Password is not valid\")\n",
    "        break\n",
    "    else:\n",
    "        print('Password is valid')\n",
    "        break\n",
    "\n",
    "    "
   ]
  },
  {
   "cell_type": "code",
   "execution_count": null,
   "id": "863c62c6",
   "metadata": {},
   "outputs": [],
   "source": []
  },
  {
   "cell_type": "code",
   "execution_count": null,
   "id": "f04c9e19",
   "metadata": {},
   "outputs": [],
   "source": []
  },
  {
   "cell_type": "markdown",
   "id": "cca741f4",
   "metadata": {},
   "source": [
    "## 8.Write a program that reads values from the user until a blank line is entered. Display the total of all of the values entered by the user (or 0.0 if the first value entered is a blank line). Complete this task using recursion. Your program may not use any loops. The body of your recursive function will need to read one value from the user, and then determine whether or not to make a recursive call. Your function does not need to take any parameters, but it will need to return a numeric result."
   ]
  },
  {
   "cell_type": "code",
   "execution_count": 12,
   "id": "0e6d9083",
   "metadata": {},
   "outputs": [],
   "source": [
    "\n",
    "def sum_value():\n",
    "    a=int(input('Enter the input:'))\n",
    "    if a==0:\n",
    "        return 0\n",
    "    else:\n",
    "        return a+sum_value()\n",
    "    \n",
    "    \n",
    "    \n",
    "    \n",
    "    \n",
    "        \n",
    "\n",
    "        \n",
    "        \n",
    "    \n",
    "\n",
    "\n",
    "        "
   ]
  },
  {
   "cell_type": "code",
   "execution_count": 13,
   "id": "6c992bad",
   "metadata": {},
   "outputs": [
    {
     "name": "stdout",
     "output_type": "stream",
     "text": [
      "Enter the input:1\n",
      "Enter the input:2\n",
      "Enter the input:3\n",
      "Enter the input:4\n",
      "Enter the input:0\n"
     ]
    },
    {
     "data": {
      "text/plain": [
       "10"
      ]
     },
     "execution_count": 13,
     "metadata": {},
     "output_type": "execute_result"
    }
   ],
   "source": [
    "sum_value()"
   ]
  },
  {
   "cell_type": "code",
   "execution_count": null,
   "id": "f5945476",
   "metadata": {},
   "outputs": [],
   "source": []
  },
  {
   "cell_type": "markdown",
   "id": "89bed3f1",
   "metadata": {},
   "source": [
    "## 9.In this exercise you will write a recursive function that determines whether or not a string is a palindrome. The empty string is a palindrome, as is any string containing only one character. Any longer string is a palindrome if its first and last characters match, and if the string formed by removing the first and last characters is also a palindrome. Write a main program that reads a string from the user. Use your recursive function to determine whether or not the string is a palindrome. Then display an appropriate message for the user."
   ]
  },
  {
   "cell_type": "code",
   "execution_count": 50,
   "id": "91180909",
   "metadata": {},
   "outputs": [
    {
     "name": "stdout",
     "output_type": "stream",
     "text": [
      "Enter the string: asshfaq\n",
      "the string is not palindrome\n"
     ]
    }
   ],
   "source": [
    "\n",
    "def palindrome(str1):\n",
    "    if len(str1)==1:\n",
    "        return str1\n",
    "    else:\n",
    "        return palindrome(str1[1:])+str1[0]\n",
    "    \n",
    "str1=input('Enter the string: ')\n",
    "\n",
    "if str1==palindrome(str1):\n",
    "    print(\"the string is palindrome\")\n",
    "else:\n",
    "    print('the string is not palindrome')\n",
    "    \n",
    "   "
   ]
  },
  {
   "cell_type": "code",
   "execution_count": null,
   "id": "f5f6d53d",
   "metadata": {},
   "outputs": [],
   "source": []
  },
  {
   "cell_type": "markdown",
   "id": "fba6959e",
   "metadata": {},
   "source": [
    "## 10.Write a function that takes a list of strings as its only parameter. Your function should return a string that contains all of the items in the list formatted in the manner described previously as its only result. While the examples shown previously only include lists containing four elements or less, your function should behave correctly for lists of any length. Include a main program that reads several items from the user, formats them by calling your function, and then displays the result returned by the function. Consider the following four lists:\n",
    "\n",
    "apples\n",
    "\n",
    "apples and oranges\n",
    "\n",
    "apples, oranges and bananas\n",
    "\n",
    "apples, oranges, bananas and lemons"
   ]
  },
  {
   "cell_type": "code",
   "execution_count": 62,
   "id": "7acfef37",
   "metadata": {},
   "outputs": [],
   "source": [
    "def name(str1):\n",
    "    string=str()\n",
    "    for i in str1[:-1]:\n",
    "        string=string + i +\" , \"\n",
    "    return string + ' and ' + str1[-1]\n"
   ]
  },
  {
   "cell_type": "code",
   "execution_count": 63,
   "id": "204a0f4c",
   "metadata": {},
   "outputs": [
    {
     "data": {
      "text/plain": [
       "'apple,banana,pot,bat, and kiwi'"
      ]
     },
     "execution_count": 63,
     "metadata": {},
     "output_type": "execute_result"
    }
   ],
   "source": [
    "str1=['apple','banana', 'pot', 'bat', 'kiwi']\n",
    "name(str1)"
   ]
  },
  {
   "cell_type": "code",
   "execution_count": null,
   "id": "0070f2dd",
   "metadata": {},
   "outputs": [],
   "source": []
  }
 ],
 "metadata": {
  "kernelspec": {
   "display_name": "Python 3 (ipykernel)",
   "language": "python",
   "name": "python3"
  },
  "language_info": {
   "codemirror_mode": {
    "name": "ipython",
    "version": 3
   },
   "file_extension": ".py",
   "mimetype": "text/x-python",
   "name": "python",
   "nbconvert_exporter": "python",
   "pygments_lexer": "ipython3",
   "version": "3.9.7"
  }
 },
 "nbformat": 4,
 "nbformat_minor": 5
}
