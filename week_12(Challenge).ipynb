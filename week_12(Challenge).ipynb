{
 "cells": [
  {
   "cell_type": "markdown",
   "id": "e20e5ce1",
   "metadata": {},
   "source": [
    "## 1.Create a database called temp_db. Open a cursor to this newly created database."
   ]
  },
  {
   "cell_type": "code",
   "execution_count": 42,
   "id": "20c4b3c0",
   "metadata": {},
   "outputs": [],
   "source": [
    "import sqlite3"
   ]
  },
  {
   "cell_type": "code",
   "execution_count": 43,
   "id": "70595c29",
   "metadata": {},
   "outputs": [],
   "source": [
    "con =sqlite3.connect('temp_db')\n",
    "cursorObj = con.cursor()"
   ]
  },
  {
   "cell_type": "code",
   "execution_count": null,
   "id": "084eaeb3",
   "metadata": {},
   "outputs": [],
   "source": []
  },
  {
   "cell_type": "markdown",
   "id": "7b17dbe7",
   "metadata": {},
   "source": [
    "## 2.In the database temp_db created in Q.No.1, create a table called emp with the attributes empno, ename, salary and deptno\\"
   ]
  },
  {
   "cell_type": "code",
   "execution_count": 44,
   "id": "5266cc7d",
   "metadata": {},
   "outputs": [
    {
     "data": {
      "text/plain": [
       "<sqlite3.Cursor at 0x29f36ca3c70>"
      ]
     },
     "execution_count": 44,
     "metadata": {},
     "output_type": "execute_result"
    }
   ],
   "source": [
    "cursorObj.execute('CREATE TABLE IF NOT EXISTS emp(empno INTEGER, ename TEXT, salary REAL, deptno INTEGER)')"
   ]
  },
  {
   "cell_type": "code",
   "execution_count": null,
   "id": "969ed88f",
   "metadata": {},
   "outputs": [],
   "source": []
  },
  {
   "cell_type": "code",
   "execution_count": null,
   "id": "87499be9",
   "metadata": {},
   "outputs": [],
   "source": []
  },
  {
   "cell_type": "markdown",
   "id": "610c3ad5",
   "metadata": {},
   "source": [
    "## 3.In the emp table created in Q.No. 2, insert any five records.\n",
    " "
   ]
  },
  {
   "cell_type": "code",
   "execution_count": 45,
   "id": "993d4cfa",
   "metadata": {},
   "outputs": [
    {
     "data": {
      "text/plain": [
       "<sqlite3.Cursor at 0x29f36ca3c70>"
      ]
     },
     "execution_count": 45,
     "metadata": {},
     "output_type": "execute_result"
    }
   ],
   "source": [
    "cursorObj.execute('CREATE TABLE IF NOT EXISTS emp(empno INTEGER, ename TEXT, salary REAL, deptno INTEGER)')"
   ]
  },
  {
   "cell_type": "code",
   "execution_count": 46,
   "id": "0f6c0d1d",
   "metadata": {},
   "outputs": [],
   "source": [
    "cursorObj.execute('INSERT INTO emp values(101,\"Ramesh\",900000,1)')\n",
    "\n",
    "def insert(e,n,s,d):\n",
    "    con=sqlite3.connect('temp_db')\n",
    "    cursorObj = con.cursor()\n",
    "    cursorObj.execute('INSERT INTO emp values(?,?,?,?)',(e,n,s,d))\n",
    "    con.commit()\n",
    "    con.close()"
   ]
  },
  {
   "cell_type": "code",
   "execution_count": 47,
   "id": "9b4527f4",
   "metadata": {},
   "outputs": [],
   "source": [
    "con.close()"
   ]
  },
  {
   "cell_type": "code",
   "execution_count": 48,
   "id": "82d6bf14",
   "metadata": {},
   "outputs": [],
   "source": [
    "insert (102,\"Suresh\",8900,20)\n",
    "insert (103,\"Mahesh\",23000,30)\n",
    "insert (104,\"Kamesh\",95000,10)\n",
    "insert (105,\"Sampoornesh\",20000,40)"
   ]
  },
  {
   "cell_type": "code",
   "execution_count": 49,
   "id": "ce9f2b8d",
   "metadata": {},
   "outputs": [],
   "source": [
    "def create_table():\n",
    "    con=sqlite3.connect('temp_db')\n",
    "    cur=con.cursor()\n",
    "    cur.execute('CREATE TABLE IF NOT EXISTS emp(empno INTEGER, ename TEXT, salary REAL, deptno INTEGER)')\n",
    "    con.commit()\n",
    "    con.close()"
   ]
  },
  {
   "cell_type": "code",
   "execution_count": 50,
   "id": "28d078aa",
   "metadata": {},
   "outputs": [],
   "source": [
    "create_table()"
   ]
  },
  {
   "cell_type": "code",
   "execution_count": null,
   "id": "d3036f89",
   "metadata": {},
   "outputs": [],
   "source": []
  },
  {
   "cell_type": "markdown",
   "id": "4e042b98",
   "metadata": {},
   "source": [
    "## 4.From the emp table, display all the records."
   ]
  },
  {
   "cell_type": "code",
   "execution_count": 51,
   "id": "85056bbe",
   "metadata": {},
   "outputs": [],
   "source": [
    "def view():\n",
    "    conn = sqlite3.connect('temp_db')\n",
    "    cur=conn.cursor()\n",
    "    cur.execute('SELECT * FROM emp')\n",
    "    rows = cur.fetchall()\n",
    "    conn.close()\n",
    "    return rows"
   ]
  },
  {
   "cell_type": "code",
   "execution_count": 52,
   "id": "b12cefc4",
   "metadata": {},
   "outputs": [
    {
     "data": {
      "text/plain": [
       "[(102, 'Suresh', 8900.0, 20),\n",
       " (103, 'Mahesh', 23000.0, 30),\n",
       " (104, 'Kamesh', 95000.0, 10),\n",
       " (105, 'Sampoornesh', 20000.0, 40)]"
      ]
     },
     "execution_count": 52,
     "metadata": {},
     "output_type": "execute_result"
    }
   ],
   "source": [
    "view()"
   ]
  },
  {
   "cell_type": "code",
   "execution_count": null,
   "id": "bb2ce97d",
   "metadata": {},
   "outputs": [],
   "source": []
  },
  {
   "cell_type": "markdown",
   "id": "8bf10d57",
   "metadata": {},
   "source": [
    "## 5.From the emp table, display the records of only those employees whose salary is greater than 15000 and who belong to deptno 10"
   ]
  },
  {
   "cell_type": "code",
   "execution_count": 53,
   "id": "fdd79ce8",
   "metadata": {},
   "outputs": [],
   "source": [
    "def view1(s,d):\n",
    "    conn =sqlite3.connect('temp_db')\n",
    "    cur=conn.cursor()\n",
    "    cur.execute('SELECT salary, salary FROM emp where salary > ? and deptno = ? ',(s,d))\n",
    "    rows=cur.fetchall()\n",
    "    conn.close()\n",
    "    return rows"
   ]
  },
  {
   "cell_type": "code",
   "execution_count": 54,
   "id": "2c2664bd",
   "metadata": {},
   "outputs": [
    {
     "data": {
      "text/plain": [
       "[(95000.0, 95000.0)]"
      ]
     },
     "execution_count": 54,
     "metadata": {},
     "output_type": "execute_result"
    }
   ],
   "source": [
    "view1(15000,10)"
   ]
  },
  {
   "cell_type": "code",
   "execution_count": null,
   "id": "45eacc02",
   "metadata": {},
   "outputs": [],
   "source": []
  },
  {
   "cell_type": "markdown",
   "id": "46856999",
   "metadata": {},
   "source": [
    "## 6.From the emp table, display the records of only those employees whose salary lies between 20000 and 25000 and who do not belong to the deptno 10"
   ]
  },
  {
   "cell_type": "code",
   "execution_count": 55,
   "id": "a736a1d7",
   "metadata": {},
   "outputs": [
    {
     "data": {
      "text/plain": [
       "[(103, 'Mahesh', 23000.0, 30), (105, 'Sampoornesh', 20000.0, 40)]"
      ]
     },
     "execution_count": 55,
     "metadata": {},
     "output_type": "execute_result"
    }
   ],
   "source": [
    "conn =sqlite3.connect('temp_db')\n",
    "cur=conn.cursor()\n",
    "cur.execute('SELECT * FROM emp where salary between 20000 and 25000 and deptno != 10 ')\n",
    "cur.fetchall()"
   ]
  },
  {
   "cell_type": "code",
   "execution_count": null,
   "id": "0c5b5892",
   "metadata": {},
   "outputs": [],
   "source": []
  },
  {
   "cell_type": "markdown",
   "id": "0428bb37",
   "metadata": {},
   "source": [
    "## 7.From the emp table, display the records of only those employees whose name begins with M."
   ]
  },
  {
   "cell_type": "code",
   "execution_count": 56,
   "id": "649e16f1",
   "metadata": {},
   "outputs": [
    {
     "data": {
      "text/plain": [
       "[(103, 'Mahesh', 23000.0, 30)]"
      ]
     },
     "execution_count": 56,
     "metadata": {},
     "output_type": "execute_result"
    }
   ],
   "source": [
    "\n",
    "conn =sqlite3.connect('temp_db')\n",
    "cur=conn.cursor()\n",
    "cur.execute(\"SELECT * FROM emp where ename like 'M%' \")\n",
    "cur.fetchall()\n"
   ]
  },
  {
   "cell_type": "code",
   "execution_count": null,
   "id": "d16483db",
   "metadata": {},
   "outputs": [],
   "source": []
  },
  {
   "cell_type": "markdown",
   "id": "51f89748",
   "metadata": {},
   "source": [
    "## 8.In the emp table, delete the records of those employees who belong to deptno 30"
   ]
  },
  {
   "cell_type": "code",
   "execution_count": 60,
   "id": "431de187",
   "metadata": {},
   "outputs": [],
   "source": [
    "def delete(d):\n",
    "    conn = sqlite3.connect('temp_db')\n",
    "    cur = conn.cursor()\n",
    "    cur.execute('DELETE FROM emp where deptno = ?',(d,))\n",
    "    conn.commit()\n",
    "    conn.close()"
   ]
  },
  {
   "cell_type": "code",
   "execution_count": 61,
   "id": "9aaa304e",
   "metadata": {},
   "outputs": [],
   "source": [
    "delete(30)"
   ]
  },
  {
   "cell_type": "code",
   "execution_count": 62,
   "id": "e4c4ae07",
   "metadata": {},
   "outputs": [
    {
     "data": {
      "text/plain": [
       "[(102, 'Suresh', 8900.0, 20),\n",
       " (104, 'Kamesh', 95000.0, 10),\n",
       " (105, 'Sampoornesh', 20000.0, 40)]"
      ]
     },
     "execution_count": 62,
     "metadata": {},
     "output_type": "execute_result"
    }
   ],
   "source": [
    "view()"
   ]
  },
  {
   "cell_type": "code",
   "execution_count": null,
   "id": "eb5cd495",
   "metadata": {},
   "outputs": [],
   "source": []
  },
  {
   "cell_type": "markdown",
   "id": "411449fd",
   "metadata": {},
   "source": [
    "## 9.In the emp table, update the salary of an employee by 10 % by accepting the empno from the user.\n",
    " "
   ]
  },
  {
   "cell_type": "code",
   "execution_count": 64,
   "id": "c9f57d41",
   "metadata": {},
   "outputs": [
    {
     "name": "stdout",
     "output_type": "stream",
     "text": [
      "Enter the input:104\n"
     ]
    },
    {
     "data": {
      "text/plain": [
       "[(102, 'Suresh', 8900.0, 20),\n",
       " (104, 'Kamesh', 104500.00000000001, 10),\n",
       " (105, 'Sampoornesh', 20000.0, 40)]"
      ]
     },
     "execution_count": 64,
     "metadata": {},
     "output_type": "execute_result"
    }
   ],
   "source": [
    "x=int(input('Enter the input:'))\n",
    "str1=\"update emp set salary=salary*1.1 where empno = \" + str(x)\n",
    "conn =sqlite3.connect('temp_db')\n",
    "cur=conn.cursor()\n",
    "cur.execute(str1)\n",
    "cur.execute('SELECT * FROM emp')\n",
    "cur.fetchall()\n"
   ]
  },
  {
   "cell_type": "code",
   "execution_count": null,
   "id": "cd3e3667",
   "metadata": {},
   "outputs": [],
   "source": []
  },
  {
   "cell_type": "code",
   "execution_count": null,
   "id": "2b664ea3",
   "metadata": {},
   "outputs": [],
   "source": []
  },
  {
   "cell_type": "markdown",
   "id": "a70dfc6b",
   "metadata": {},
   "source": [
    "## 10.Delete the emp table."
   ]
  },
  {
   "cell_type": "code",
   "execution_count": 65,
   "id": "0c92e47c",
   "metadata": {},
   "outputs": [],
   "source": [
    "\n",
    "cur.execute('Drop table emp')\n",
    "conn.commit()\n",
    "conn.close()"
   ]
  },
  {
   "cell_type": "code",
   "execution_count": 66,
   "id": "43bd763b",
   "metadata": {},
   "outputs": [
    {
     "ename": "OperationalError",
     "evalue": "no such table: emp",
     "output_type": "error",
     "traceback": [
      "\u001b[1;31m---------------------------------------------------------------------------\u001b[0m",
      "\u001b[1;31mOperationalError\u001b[0m                          Traceback (most recent call last)",
      "\u001b[1;32m~\\AppData\\Local\\Temp/ipykernel_5156/3561359898.py\u001b[0m in \u001b[0;36m<module>\u001b[1;34m\u001b[0m\n\u001b[1;32m----> 1\u001b[1;33m \u001b[0mview\u001b[0m\u001b[1;33m(\u001b[0m\u001b[1;33m)\u001b[0m\u001b[1;33m\u001b[0m\u001b[1;33m\u001b[0m\u001b[0m\n\u001b[0m",
      "\u001b[1;32m~\\AppData\\Local\\Temp/ipykernel_5156/3694114141.py\u001b[0m in \u001b[0;36mview\u001b[1;34m()\u001b[0m\n\u001b[0;32m      2\u001b[0m     \u001b[0mconn\u001b[0m \u001b[1;33m=\u001b[0m \u001b[0msqlite3\u001b[0m\u001b[1;33m.\u001b[0m\u001b[0mconnect\u001b[0m\u001b[1;33m(\u001b[0m\u001b[1;34m'temp_db'\u001b[0m\u001b[1;33m)\u001b[0m\u001b[1;33m\u001b[0m\u001b[1;33m\u001b[0m\u001b[0m\n\u001b[0;32m      3\u001b[0m     \u001b[0mcur\u001b[0m\u001b[1;33m=\u001b[0m\u001b[0mconn\u001b[0m\u001b[1;33m.\u001b[0m\u001b[0mcursor\u001b[0m\u001b[1;33m(\u001b[0m\u001b[1;33m)\u001b[0m\u001b[1;33m\u001b[0m\u001b[1;33m\u001b[0m\u001b[0m\n\u001b[1;32m----> 4\u001b[1;33m     \u001b[0mcur\u001b[0m\u001b[1;33m.\u001b[0m\u001b[0mexecute\u001b[0m\u001b[1;33m(\u001b[0m\u001b[1;34m'SELECT * FROM emp'\u001b[0m\u001b[1;33m)\u001b[0m\u001b[1;33m\u001b[0m\u001b[1;33m\u001b[0m\u001b[0m\n\u001b[0m\u001b[0;32m      5\u001b[0m     \u001b[0mrows\u001b[0m \u001b[1;33m=\u001b[0m \u001b[0mcur\u001b[0m\u001b[1;33m.\u001b[0m\u001b[0mfetchall\u001b[0m\u001b[1;33m(\u001b[0m\u001b[1;33m)\u001b[0m\u001b[1;33m\u001b[0m\u001b[1;33m\u001b[0m\u001b[0m\n\u001b[0;32m      6\u001b[0m     \u001b[0mconn\u001b[0m\u001b[1;33m.\u001b[0m\u001b[0mclose\u001b[0m\u001b[1;33m(\u001b[0m\u001b[1;33m)\u001b[0m\u001b[1;33m\u001b[0m\u001b[1;33m\u001b[0m\u001b[0m\n",
      "\u001b[1;31mOperationalError\u001b[0m: no such table: emp"
     ]
    }
   ],
   "source": [
    "view()"
   ]
  },
  {
   "cell_type": "code",
   "execution_count": null,
   "id": "f77d364c",
   "metadata": {},
   "outputs": [],
   "source": []
  }
 ],
 "metadata": {
  "kernelspec": {
   "display_name": "Python 3 (ipykernel)",
   "language": "python",
   "name": "python3"
  },
  "language_info": {
   "codemirror_mode": {
    "name": "ipython",
    "version": 3
   },
   "file_extension": ".py",
   "mimetype": "text/x-python",
   "name": "python",
   "nbconvert_exporter": "python",
   "pygments_lexer": "ipython3",
   "version": "3.9.7"
  }
 },
 "nbformat": 4,
 "nbformat_minor": 5
}
