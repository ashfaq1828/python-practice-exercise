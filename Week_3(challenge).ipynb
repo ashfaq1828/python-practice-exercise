{
 "cells": [
  {
   "cell_type": "markdown",
   "id": "c594821e",
   "metadata": {},
   "source": [
    "## 1. Write a program to accept an integer n greater than 10. Then print all the odd numbers from 1 to n"
   ]
  },
  {
   "cell_type": "code",
   "execution_count": 11,
   "id": "dc754b44",
   "metadata": {},
   "outputs": [
    {
     "name": "stdout",
     "output_type": "stream",
     "text": [
      "enter the integer greater than 10:12\n",
      "1\n",
      "3\n",
      "5\n",
      "7\n",
      "9\n",
      "11\n"
     ]
    }
   ],
   "source": [
    "n=int(input('enter the integer greater than 10:'))\n",
    "if n>10:\n",
    "    for i in range(1,n+1):\n",
    "        if i%2!=0:\n",
    "            print(i)\n",
    "else:\n",
    "    print(\"invalid value of n\")"
   ]
  },
  {
   "cell_type": "markdown",
   "id": "ce8f6ef4",
   "metadata": {},
   "source": [
    "## 2. Write a program to accept an integer n greater than 10. Then print all the prime numbers from 1 to n."
   ]
  },
  {
   "cell_type": "code",
   "execution_count": 18,
   "id": "c458d01b",
   "metadata": {},
   "outputs": [
    {
     "name": "stdout",
     "output_type": "stream",
     "text": [
      "Enter the number :12\n",
      "2\n",
      "3\n",
      "5\n",
      "7\n",
      "11\n"
     ]
    }
   ],
   "source": [
    "numbr=int(input('Enter the number :'))\n",
    "\n",
    "if numbr>10:\n",
    "     for n in range(2,numbr):\n",
    "            for i in range(2,n):\n",
    "                 if(n%i==0):\n",
    "                    break\n",
    "            else:\n",
    "                print(n)\n",
    "                \n",
    "else:\n",
    "    print('The value entered is less than 10')"
   ]
  },
  {
   "cell_type": "markdown",
   "id": "4a982f59",
   "metadata": {},
   "source": [
    "## 3. In this exercise you will create a program that computes the average of a collection of values entered by the user. The user will enter 0 as a sentinel value to indicate that no further values will be provided. Your program should display an appropriate error message if the first value entered by the user is 0"
   ]
  },
  {
   "cell_type": "code",
   "execution_count": null,
   "id": "62cc57d3",
   "metadata": {},
   "outputs": [
    {
     "name": "stdout",
     "output_type": "stream",
     "text": [
      "enter the value:1\n",
      "1.0\n",
      "enter the value:5\n",
      "3.0\n",
      "enter the value:4\n",
      "3.3333333333333335\n"
     ]
    }
   ],
   "source": [
    "\n",
    "sum=0\n",
    "count=0\n",
    "\n",
    "while True:\n",
    "    num=int(input(\"enter the value:\"))\n",
    "    if num==0:\n",
    "        print(\"Initial value should not be zero\")\n",
    "        break\n",
    "    else:\n",
    "        sum+=num\n",
    "        count+=1\n",
    "    avg=sum/count\n",
    "    print(avg)\n",
    "\n",
    "       "
   ]
  },
  {
   "cell_type": "markdown",
   "id": "4599b861",
   "metadata": {},
   "source": [
    "## 4. Write a program that takes a number as input and prints its multiplication table.\n",
    "\n"
   ]
  },
  {
   "cell_type": "code",
   "execution_count": 8,
   "id": "d52d71db",
   "metadata": {},
   "outputs": [
    {
     "name": "stdout",
     "output_type": "stream",
     "text": [
      "enter the number:5\n",
      "5 x 1 = 5\n",
      "5 x 2 = 10\n",
      "5 x 3 = 15\n",
      "5 x 4 = 20\n",
      "5 x 5 = 25\n",
      "5 x 6 = 30\n",
      "5 x 7 = 35\n",
      "5 x 8 = 40\n",
      "5 x 9 = 45\n",
      "5 x 10 = 50\n",
      "5 x 11 = 55\n"
     ]
    }
   ],
   "source": [
    "n =int(input(\"enter the number:\"))\n",
    "\n",
    "for i in range(1,12):\n",
    "    print(n,'x',i,'=',n*i)\n",
    "    "
   ]
  },
  {
   "cell_type": "markdown",
   "id": "bac8686a",
   "metadata": {},
   "source": [
    "## 5. Write a program that displays a temperature conversion table for degrees Celsius and degrees Fahrenheit. The table should include rows for all temperatures between 0 and 100 degrees Celsius that are multiples of 10 degrees Celsius. Include appropriate headings on your columns."
   ]
  },
  {
   "cell_type": "code",
   "execution_count": 9,
   "id": "08d3cac4",
   "metadata": {},
   "outputs": [
    {
     "name": "stdout",
     "output_type": "stream",
     "text": [
      "celcius          Fahrenheit\n",
      "0          32.0\n",
      "10          50.0\n",
      "20          68.0\n",
      "30          86.0\n",
      "40          104.0\n",
      "50          122.0\n",
      "60          140.0\n",
      "70          158.0\n",
      "80          176.0\n",
      "90          194.0\n",
      "100          212.0\n"
     ]
    }
   ],
   "source": [
    "print('celcius          Fahrenheit')\n",
    "\n",
    "C=0\n",
    "\n",
    "while C<=100:\n",
    "    F=(C*1.8)+32\n",
    "    print(C,'        ',F)\n",
    "    C+=10\n",
    "    "
   ]
  },
  {
   "cell_type": "markdown",
   "id": "c26da387",
   "metadata": {},
   "source": [
    "## 6. A string is a palindrome if it is identical forward and backward. For example “anna”, “civic”, “level” and “madam” are all examples of palindrome words. Write a program that reads a string from the user and uses a loop to determine whether or not it is a palindrome. Display the result, including a meaningful output message."
   ]
  },
  {
   "cell_type": "code",
   "execution_count": 1,
   "id": "3a1cefc3",
   "metadata": {},
   "outputs": [
    {
     "name": "stdout",
     "output_type": "stream",
     "text": [
      "Enter the string: appa\n",
      "The string appa is a panlindrome\n"
     ]
    }
   ],
   "source": [
    "str1=input('Enter the string: ')\n",
    "\n",
    "rev=str1[::-1]   \n",
    "\n",
    "for i in range(len(str1)):\n",
    "    if str1[i]!=rev[i]:\n",
    "        print('The string', str1, 'is not a palindrome')\n",
    "        break\n",
    "        \n",
    "else:\n",
    "    print('The string', str1, 'is a panlindrome')\n"
   ]
  },
  {
   "cell_type": "markdown",
   "id": "a48e23a2",
   "metadata": {},
   "source": [
    "## 7. The greatest common divisor (GCD) of two positive integers, n and m, is the largest number, d, which divides evenly into both n and m. The following algorithm is used to find GCD of n and m :\n",
    "\n",
    "Initialize d to the smaller of m and n.\n",
    "While d does not evenly divide m or d does not evenly divide n do\n",
    "Decrease the value of d by 1\n",
    "Report d as the greatest common divisor of n and m\n",
    "\n",
    "Write a program that reads two positive integers from the user and uses this algorithm to determine and report their greatest common divisor."
   ]
  },
  {
   "cell_type": "code",
   "execution_count": 9,
   "id": "e21a5ae3",
   "metadata": {},
   "outputs": [
    {
     "name": "stdout",
     "output_type": "stream",
     "text": [
      "enter the first number 50\n",
      "enter the second number 75\n",
      "GCD is 25\n"
     ]
    }
   ],
   "source": [
    "num1=int(input('enter the first number'))\n",
    "num2=int(input('enter the second number'))\n",
    "if num1>num2:\n",
    "    d=num2\n",
    "else:\n",
    "    d=num1\n",
    "while (num1%d!=0 or num2%d!=0):\n",
    "    d=d-1\n",
    "print(\"GCD is\", d)"
   ]
  },
  {
   "cell_type": "markdown",
   "id": "764a284e",
   "metadata": {},
   "source": [
    "## 8. The prime factorization of an integer, n, can be determined using the following steps:\n",
    "\n",
    "Initialize factor to two\n",
    "While factor is less than or equal to n do\n",
    "If n is evenly divisible by factor then\n",
    "           Conclude that factor is a factor of n\n",
    "           Divide n by factor using integer division\n",
    "Else\n",
    "Increase factor by one\n",
    "\n",
    "Write a program that reads an integer from the user. If the value entered by the user is less than 2 then your program should display an appropriate error message. Otherwise your program should display the prime numbers that can be multiplied together to compute n, with one factor appearing on each line."
   ]
  },
  {
   "cell_type": "code",
   "execution_count": 10,
   "id": "66b210e2",
   "metadata": {},
   "outputs": [
    {
     "name": "stdout",
     "output_type": "stream",
     "text": [
      "enter the integer45\n",
      "3\n",
      "3\n",
      "5\n"
     ]
    }
   ],
   "source": [
    "num=int(input('enter the integer'))\n",
    "factor=2\n",
    "while factor<=num:\n",
    "    if num%factor==0:\n",
    "        print(factor)\n",
    "        num=num//factor\n",
    "    else:\n",
    "        factor=factor+1"
   ]
  },
  {
   "cell_type": "markdown",
   "id": "a430da53",
   "metadata": {},
   "source": [
    "## 9. Write a program that converts a binary (base 2) number to decimal (base 10). Your program should begin by reading the binary number from the user as a string. Then it should compute the equivalent decimal number by processing each digit in the binary number. Finally, your program should display the equivalent decimal number with an appropriate message."
   ]
  },
  {
   "cell_type": "code",
   "execution_count": 12,
   "id": "d716202f",
   "metadata": {},
   "outputs": [
    {
     "name": "stdout",
     "output_type": "stream",
     "text": [
      "Enter the Binary Number: 10100\n",
      "Equivalent Decimal Value =  20\n"
     ]
    }
   ],
   "source": [
    "binnum = int(input('Enter the Binary Number: '))\n",
    "\n",
    "decnum = 0\n",
    "i = 1\n",
    "length = len(str(binnum))\n",
    "\n",
    "for k in range(length):\n",
    "    reminder = binnum % 10\n",
    "    decnum = decnum + (reminder * i)\n",
    "    i = i * 2\n",
    "    binnum = int(binnum/10)\n",
    "\n",
    "print('Equivalent Decimal Value = ', decnum)"
   ]
  },
  {
   "cell_type": "markdown",
   "id": "323dfd85",
   "metadata": {},
   "source": [
    "## 10. Demonstrate the formatting capabilities of format function on integers, floats and strings.\n",
    "\n",
    "\n",
    "\n",
    "\n",
    "\n",
    "\n",
    "\n",
    "\n",
    "\n",
    "\n",
    "\n",
    " \n"
   ]
  },
  {
   "cell_type": "code",
   "execution_count": 13,
   "id": "025ee1b4",
   "metadata": {},
   "outputs": [
    {
     "name": "stdout",
     "output_type": "stream",
     "text": [
      "age29,weight67.364,height58,nameArun\n",
      "name=Arun                                              ,height=           58\n",
      "weight                67.4\n"
     ]
    }
   ],
   "source": [
    "# Format function can be used to print in any desired order\n",
    "\n",
    "name,height,weight,age = 'Arun',58,67.364,29\n",
    "\n",
    "print('age{3},weight{2},height{1},name{0}'.format(name,height,weight,age))\n",
    "\n",
    "\n",
    "# print name in 50 columns and salary in 13 columns\n",
    "\n",
    "print('name={1:50},height={0:13}'.format(height,name))       # we can assign numbers in curly brackets based on the correct order and requirement\n",
    "\n",
    "#Here strings are left justified and integers are right justified\n",
    "\n",
    "\n",
    "# we can print weight in 20 columns with only 1 decimal spaces\n",
    "\n",
    "print('weight{0:20.1f}'.format(weight))"
   ]
  },
  {
   "cell_type": "code",
   "execution_count": null,
   "id": "c2ee23dc",
   "metadata": {},
   "outputs": [],
   "source": []
  }
 ],
 "metadata": {
  "kernelspec": {
   "display_name": "Python 3 (ipykernel)",
   "language": "python",
   "name": "python3"
  },
  "language_info": {
   "codemirror_mode": {
    "name": "ipython",
    "version": 3
   },
   "file_extension": ".py",
   "mimetype": "text/x-python",
   "name": "python",
   "nbconvert_exporter": "python",
   "pygments_lexer": "ipython3",
   "version": "3.9.7"
  }
 },
 "nbformat": 4,
 "nbformat_minor": 5
}
