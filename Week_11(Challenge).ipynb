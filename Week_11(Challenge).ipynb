{
 "cells": [
  {
   "cell_type": "markdown",
   "id": "334bc88d",
   "metadata": {},
   "source": [
    "## 1.Create a simple tkinter application to display a welcome message in a window using the label widget.\n",
    " "
   ]
  },
  {
   "cell_type": "code",
   "execution_count": 1,
   "id": "91c9841f",
   "metadata": {},
   "outputs": [],
   "source": [
    "from tkinter import *"
   ]
  },
  {
   "cell_type": "code",
   "execution_count": 2,
   "id": "a7793b32",
   "metadata": {},
   "outputs": [],
   "source": [
    "import tkinter as tk\n",
    "window = tk.Tk()\n",
    "window.geometry(\"350x350\")\n",
    "window.config(bg='yellow')\n",
    "window.resizable(width=False,height=False)\n",
    "window.title('Welcome')\n",
    "\n",
    "l1= tk.Label(window,text = 'Welcome',font=(\"Arial\",20),fg='red',bg='white')\n",
    "\n",
    "l1.pack()\n",
    "window.mainloop()"
   ]
  },
  {
   "cell_type": "code",
   "execution_count": null,
   "id": "25510d45",
   "metadata": {},
   "outputs": [],
   "source": []
  },
  {
   "cell_type": "markdown",
   "id": "99787e1b",
   "metadata": {},
   "source": [
    "## 2.Create tkinter application to accept user name in a text widget. Then display the user name with a welcome message in a label widget\n",
    " "
   ]
  },
  {
   "cell_type": "code",
   "execution_count": 2,
   "id": "cf3b2a4d",
   "metadata": {},
   "outputs": [],
   "source": [
    "import tkinter as tk\n",
    "\n",
    "def Welcome():\n",
    "    x=t1.get(1.0,END)\n",
    "    l1.config(text='Welcome  ' + x)\n",
    "window = tk.Tk()\n",
    "window.geometry(\"350x350\")\n",
    "window.config(bg='yellow')\n",
    "window.resizable(width=False,height=False)\n",
    "window.title('Welcome')\n",
    "\n",
    "t1=Text(window,height=1,width=20,font='arial')\n",
    "t1.pack()\n",
    "\n",
    "b1=tk.Button(window,text= 'Proceed', font=('Arial', 10,'bold'),command=Welcome)\n",
    "b1.pack()\n",
    "\n",
    "l1=tk.Label(window,text='')\n",
    "l1.pack()\n",
    "\n",
    "window.mainloop()\n"
   ]
  },
  {
   "cell_type": "code",
   "execution_count": 35,
   "id": "6630b470",
   "metadata": {},
   "outputs": [],
   "source": [
    "\n"
   ]
  },
  {
   "cell_type": "code",
   "execution_count": null,
   "id": "ca33a755",
   "metadata": {},
   "outputs": [],
   "source": []
  },
  {
   "cell_type": "markdown",
   "id": "54368d64",
   "metadata": {},
   "source": [
    "## 3.Modify the tkinter application developed in Q.No. 2 so that it uses a grid layout"
   ]
  },
  {
   "cell_type": "code",
   "execution_count": 6,
   "id": "3607fadb",
   "metadata": {},
   "outputs": [],
   "source": [
    "\n",
    "import tkinter as tk\n",
    "\n",
    "def Welcome():\n",
    "    x=t1.get(1.0,END)\n",
    "    l1.config(text='Welcome  ' + x)\n",
    "window = tk.Tk()\n",
    "window.geometry(\"350x350\")\n",
    "window.config(bg='yellow')\n",
    "window.resizable(width=False,height=False)\n",
    "window.title('Welcome')\n",
    "\n",
    "t1=Text(window,height=1,width=20,font='arial')\n",
    "t1.grid(row=0,column=0)\n",
    "\n",
    "b1=tk.Button(window,text= 'Proceed', font=('Arial', 10,'bold'),command=Welcome)\n",
    "b1.grid(row=0,column=1)\n",
    "\n",
    "l1=tk.Label(window,text='')\n",
    "l1.grid(row=1,column=0)\n",
    "\n",
    "window.mainloop()"
   ]
  },
  {
   "cell_type": "code",
   "execution_count": null,
   "id": "707fb781",
   "metadata": {},
   "outputs": [],
   "source": []
  },
  {
   "cell_type": "code",
   "execution_count": null,
   "id": "8ce9f4be",
   "metadata": {},
   "outputs": [],
   "source": []
  },
  {
   "cell_type": "markdown",
   "id": "13c48fc9",
   "metadata": {},
   "source": [
    "## 4.Create a tkinter application to accept radius of a circle and display the area.\n",
    " "
   ]
  },
  {
   "cell_type": "code",
   "execution_count": 3,
   "id": "a3c7cb6f",
   "metadata": {},
   "outputs": [],
   "source": [
    "import tkinter as tk\n",
    "\n",
    "def findarea():\n",
    "    PI = 3.14\n",
    "    x= PI * float(r.get()) * float(r.get())\n",
    "    t1.delete('1.0', END)\n",
    "    t1.insert(END,x)\n",
    "\n",
    "\n",
    "window = tk.Tk()\n",
    "window.geometry(\"350x350\")\n",
    "window.config(bg='yellow')\n",
    "window.resizable(width=False,height=False)\n",
    "window.title('Welcome')\n",
    "\n",
    "l1= tk.Label(window,text = 'Radius',font=(\"Arial\",12),fg='red',bg='white')\n",
    "l1.pack()\n",
    "\n",
    "r= StringVar()\n",
    "\n",
    "e1 = tk.Entry(window, textvariable=r, font=('Arial',10))\n",
    "e1.pack()\n",
    "\n",
    "t1=tk.Text(window, height=1, width=20)\n",
    "t1.pack()\n",
    "\n",
    "btn1 = tk.Button(window,text= 'Proceed', font=('Arial', 10,'bold'),command=findarea)\n",
    "btn1.pack()\n",
    "\n",
    "window.mainloop()"
   ]
  },
  {
   "cell_type": "code",
   "execution_count": null,
   "id": "73f9eb13",
   "metadata": {},
   "outputs": [],
   "source": []
  },
  {
   "cell_type": "code",
   "execution_count": 6,
   "id": "3da86f52",
   "metadata": {},
   "outputs": [],
   "source": [
    "from tkinter import *\n",
    "window = Tk()\n",
    "\n",
    "def area():\n",
    "    area_c = float(r.get())*float(r.get())*3.14\n",
    "    t1.delete('1.0',END)\n",
    "    t1.insert(END,area_c)\n",
    "\n",
    "\n",
    "\n",
    "l1= Label(window,text='Enter the radius for circle :')\n",
    "l1.grid(row=0,column=0)\n",
    "\n",
    "r=StringVar() \n",
    "\n",
    "e1 = Entry(window,textvariable = r)\n",
    "e1.grid(row=0,column=1)\n",
    "\n",
    "l2 = Label(window,text='Area of circle = ')\n",
    "l2.grid(row=1,column=0)\n",
    "\n",
    "t1 = Text(window,height=1,width=15)\n",
    "t1.grid(row=1,column=1)\n",
    "\n",
    "b1= Button(window,text ='Calculate',command=area)\n",
    "b1.grid(row=2,column=1)\n",
    "\n",
    "window.mainloop()"
   ]
  },
  {
   "cell_type": "code",
   "execution_count": null,
   "id": "c398d72c",
   "metadata": {},
   "outputs": [],
   "source": []
  },
  {
   "cell_type": "markdown",
   "id": "151d3b72",
   "metadata": {},
   "source": [
    "##  5.Create a tkinter application to accept temperature in Celsius and convert and display the temperature in Fahrenheit."
   ]
  },
  {
   "cell_type": "code",
   "execution_count": 24,
   "id": "28eee5ac",
   "metadata": {},
   "outputs": [],
   "source": [
    "def exit():\n",
    "    window.destroy()\n",
    "\n",
    "def convert():\n",
    "    c = int(e1.get())\n",
    "    f = ((c*9)/(5))+32\n",
    "    t1.config(state='normal')\n",
    "    t1.delete('1.0', tk.END)\n",
    "    t1.insert(tk.END,f)\n",
    "    t1.config(state='disabled')\n",
    "\n",
    "import tkinter as tk\n",
    "window = tk.Tk()\n",
    "window.geometry(\"350x350\")\n",
    "window.config(bg='yellow')\n",
    "window.resizable(width=False,height=False)\n",
    "window.title('Celsius to Fahrenheit converter')\n",
    "\n",
    "l1= tk.Label(window,text = 'Celsius to Fahrenheit converter',font=(\"Arial\",12),fg='red',bg='white')\n",
    "\n",
    "l2= tk.Label(window,text = 'Enter temperature in celsius',font=(\"Arial\",12,\"bold\"),fg='white',bg='red')\n",
    "\n",
    "l3= tk.Label(window,text = 'Temperature in Fahrenheit',font=(\"Arial\",10,\"bold\"),fg='red',bg='white')\n",
    "\n",
    "empty_l1 = tk.Label(window,bg='white')\n",
    "empty_l2 = tk.Label(window,bg='white')\n",
    "\n",
    "e1 = tk.Entry(window,font=('Arial',10))\n",
    "\n",
    "btn1 = tk.Button(window,text= 'Convert to Fahrenheit', font=('Arial', 10,'bold'),command=convert)\n",
    "btn2 = tk.Button(window,text= 'Exit application', font=('Arial', 10,'bold'),command=exit)\n",
    "\n",
    "t1=tk.Text(window,state = 'disabled', width=15,height=1)\n"
   ]
  },
  {
   "cell_type": "code",
   "execution_count": 25,
   "id": "2beee82f",
   "metadata": {},
   "outputs": [],
   "source": [
    "l1.pack()\n",
    "l2.pack()\n",
    "e1.pack()\n",
    "empty_l1.pack()\n",
    "btn1.pack()\n",
    "l3.pack()\n",
    "t1.pack()\n",
    "empty_l2.pack()\n",
    "btn2.pack()\n",
    "\n",
    "window.mainloop()"
   ]
  },
  {
   "cell_type": "markdown",
   "id": "fbcd294d",
   "metadata": {},
   "source": [
    "## 6.Create a tkinter application to accept distance in kilometers and convert and display distance in miles."
   ]
  },
  {
   "cell_type": "code",
   "execution_count": 40,
   "id": "fcbbbc5f",
   "metadata": {},
   "outputs": [],
   "source": [
    "from tkinter import *\n",
    "\n"
   ]
  },
  {
   "cell_type": "code",
   "execution_count": 41,
   "id": "cecccfde",
   "metadata": {},
   "outputs": [
    {
     "name": "stdout",
     "output_type": "stream",
     "text": [
      "Successfully executed\n"
     ]
    }
   ],
   "source": [
    "window = Tk()\n",
    "def km_to_miles():\n",
    "    miles =float(e1_val.get()) *1.6\n",
    "    t1.delete('1.0', END)\n",
    "    t1.insert(END,miles)\n",
    "    print('Successfully executed')\n",
    "    \n",
    "l1 = Label(window,text = 'Enter Kilometers :')\n",
    "l1.grid(row=0,column=0)\n",
    "e1_val = StringVar()\n",
    "\n",
    "e1= Entry(window,textvariable=e1_val)\n",
    "e1.grid(row=0,column=1)\n",
    "\n",
    "l2= Label(window, text='Kilometers in miles is :')\n",
    "l2.grid(row=1,column=0)\n",
    "\n",
    "t1=Text(window, height=1, width=20)\n",
    "t1.grid(row=1,column=1)\n",
    "\n",
    "b1= Button(window, text='Convert', command=km_to_miles)\n",
    "b1.grid(row=2,column=1)\n",
    "\n",
    "window.mainloop()"
   ]
  },
  {
   "cell_type": "code",
   "execution_count": null,
   "id": "4cc9c3d0",
   "metadata": {},
   "outputs": [],
   "source": []
  },
  {
   "cell_type": "markdown",
   "id": "27c09dcd",
   "metadata": {},
   "source": [
    "## 7.Create a tkinter application to display a menu with three items. A separate message should be display when each of the three menu items is clicked."
   ]
  },
  {
   "cell_type": "code",
   "execution_count": 51,
   "id": "e77937db",
   "metadata": {},
   "outputs": [],
   "source": [
    "from tkinter import *"
   ]
  },
  {
   "cell_type": "code",
   "execution_count": 52,
   "id": "7719723f",
   "metadata": {},
   "outputs": [
    {
     "name": "stdout",
     "output_type": "stream",
     "text": [
      "Hello Ashfaq\n",
      "Ali\n",
      "IAS\n"
     ]
    }
   ],
   "source": [
    "\n",
    "window = Tk()\n",
    "\n",
    "def hello():\n",
    "    print('Hello Ashfaq')\n",
    "def world():\n",
    "    print('Ali')\n",
    "def activities():\n",
    "    print('IAS')\n",
    "    \n",
    "# Create a top level menu in the main window\n",
    "\n",
    "menubar = Menu(window)\n",
    "\n",
    "# Create a pulldown menu and add it to the menu bar\n",
    "\n",
    "filemenu = Menu(menubar)\n",
    "filemenu.add_command(label = 'Open', command = hello)\n",
    "filemenu.add_separator()\n",
    "filemenu.add_command(label = 'Edit', command = world)\n",
    "filemenu.add_separator()\n",
    "filemenu.add_command(label = 'Check', command = activities)\n",
    "filemenu.add_separator()\n",
    "filemenu.add_command(label='Exit', command=window.destroy)\n",
    "filemenu.add_separator()\n",
    "menubar.add_cascade(label='File', menu=filemenu)\n",
    "window.config(menu=menubar)\n",
    "window.mainloop()"
   ]
  },
  {
   "cell_type": "code",
   "execution_count": null,
   "id": "a1d83c19",
   "metadata": {},
   "outputs": [],
   "source": []
  },
  {
   "cell_type": "markdown",
   "id": "3bb04b09",
   "metadata": {},
   "source": [
    "## 8.Create a tkinter application to display a radio button group with three items. A separate message should be display when each of the three radio buttons items is clicked."
   ]
  },
  {
   "cell_type": "code",
   "execution_count": 8,
   "id": "baffa667",
   "metadata": {},
   "outputs": [],
   "source": [
    "window = Tk()\n",
    "\n",
    "def sel():\n",
    "    selection = 'you selected the option' + str(var.get())\n",
    "    label.config(text= selection)\n",
    "    \n",
    "var = StringVar()\n",
    "R1 =Radiobutton(window,text='Option 1',variable=var,value=1,command=sel)\n",
    "R1.pack()\n",
    "R2 =Radiobutton(window,text='Option 2',variable=var,value=2,command=sel)\n",
    "R2.pack()\n",
    "R3 =Radiobutton(window,text='Option 3',variable=var,value=3,command=sel)\n",
    "R3.pack()\n",
    "\n",
    "label = Label(window)\n",
    "label.pack()\n",
    "\n",
    "window.mainloop()"
   ]
  },
  {
   "cell_type": "code",
   "execution_count": null,
   "id": "bf3e2f2f",
   "metadata": {},
   "outputs": [],
   "source": []
  },
  {
   "cell_type": "code",
   "execution_count": null,
   "id": "39fc79c0",
   "metadata": {},
   "outputs": [],
   "source": []
  },
  {
   "cell_type": "markdown",
   "id": "a70ba040",
   "metadata": {},
   "source": [
    "## 9.Create a tkinter application to display three check boxes. A separate message should be display when each of the three check boxes items is selected."
   ]
  },
  {
   "cell_type": "code",
   "execution_count": 9,
   "id": "2a062387",
   "metadata": {},
   "outputs": [],
   "source": [
    "def sel1():\n",
    "    if (CheckVar1.get() == 1):\n",
    "        selection = 'Hello'\n",
    "        \n",
    "    else:\n",
    "        selection = 'Good'\n",
    "        \n",
    "    label.config(text=selection)\n",
    "    \n",
    "def sel2():\n",
    "    if (CheckVar2.get() ==1):\n",
    "        selection = 'Ashfaq Ali'\n",
    "    else:\n",
    "        selection = 'Bye'\n",
    "        \n",
    "    label.config(text=selection)\n",
    "    \n",
    "def sel3():\n",
    "    if (CheckVar3.get() ==1):\n",
    "        selection = 'IAS'\n",
    "    else:\n",
    "        selection = 'Buddy'\n",
    "        \n",
    "    label.config(text=selection)"
   ]
  },
  {
   "cell_type": "code",
   "execution_count": 10,
   "id": "26d317f6",
   "metadata": {},
   "outputs": [],
   "source": [
    "window =Tk()\n",
    "CheckVar1 = IntVar()\n",
    "CheckVar2 = IntVar()\n",
    "CheckVar3 = IntVar()\n",
    "\n",
    "C1 = Checkbutton(window,text= 'Python Programming', variable = CheckVar1, onvalue=1, offvalue=0,height=5,width=20,command=sel1)\n",
    "C2 = Checkbutton(window,text= 'Tkinter', variable = CheckVar2, onvalue=1, offvalue=0,height=5,width=20,command=sel2)\n",
    "C3 = Checkbutton(window,text= 'Data science', variable = CheckVar3, onvalue=1, offvalue=0,height=5,width=20,command=sel3)\n",
    "\n",
    "C1.pack()\n",
    "C2.pack()\n",
    "C3.pack()\n",
    "\n",
    "label = Label(window)\n",
    "label.pack()\n",
    "\n",
    "window.mainloop()"
   ]
  },
  {
   "cell_type": "code",
   "execution_count": null,
   "id": "4ba9a592",
   "metadata": {},
   "outputs": [],
   "source": []
  },
  {
   "cell_type": "markdown",
   "id": "d9d4edca",
   "metadata": {},
   "source": [
    "## 10.Create a tkinter application which contains a list box with five items. Whenever an item in the list box is selected, the item’s text should be displayed"
   ]
  },
  {
   "cell_type": "code",
   "execution_count": null,
   "id": "80f2418f",
   "metadata": {},
   "outputs": [],
   "source": [
    "from tkinter import *"
   ]
  },
  {
   "cell_type": "code",
   "execution_count": 11,
   "id": "878de0e6",
   "metadata": {},
   "outputs": [
    {
     "name": "stdout",
     "output_type": "stream",
     "text": [
      "json\n",
      "pandas\n",
      "Numpy\n",
      "python\n",
      "tkinter\n"
     ]
    }
   ],
   "source": [
    "window = Tk()\n",
    "def my_upd():\n",
    "    print(l1.get(ACTIVE)) # Get the active / selected element\n",
    "    \n",
    "l1 = Listbox(window, height =4)\n",
    "#l1.grid(row=1, column=1)\n",
    "l1.pack()\n",
    "\n",
    "my_list =['tkinter','python','Numpy','pandas','json']\n",
    "\n",
    "for element in my_list:\n",
    "    l1.insert(END,element)\n",
    "    \n",
    "b1 = Button(window,text='Show',width=10, bg= 'yellow',command=my_upd)\n",
    "#b1.grid(row=1,column=2)\n",
    "b1.pack()\n",
    "window.mainloop()"
   ]
  },
  {
   "cell_type": "code",
   "execution_count": null,
   "id": "e8e979dd",
   "metadata": {},
   "outputs": [],
   "source": []
  },
  {
   "cell_type": "code",
   "execution_count": null,
   "id": "e05a5c0e",
   "metadata": {},
   "outputs": [],
   "source": []
  },
  {
   "cell_type": "code",
   "execution_count": null,
   "id": "b0d389c9",
   "metadata": {},
   "outputs": [],
   "source": []
  },
  {
   "cell_type": "code",
   "execution_count": null,
   "id": "73a926fb",
   "metadata": {},
   "outputs": [],
   "source": []
  },
  {
   "cell_type": "markdown",
   "id": "a9bf1dfd",
   "metadata": {},
   "source": []
  }
 ],
 "metadata": {
  "kernelspec": {
   "display_name": "Python 3 (ipykernel)",
   "language": "python",
   "name": "python3"
  },
  "language_info": {
   "codemirror_mode": {
    "name": "ipython",
    "version": 3
   },
   "file_extension": ".py",
   "mimetype": "text/x-python",
   "name": "python",
   "nbconvert_exporter": "python",
   "pygments_lexer": "ipython3",
   "version": "3.9.7"
  }
 },
 "nbformat": 4,
 "nbformat_minor": 5
}
