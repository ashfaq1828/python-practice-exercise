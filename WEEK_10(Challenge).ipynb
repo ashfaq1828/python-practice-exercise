{
 "cells": [
  {
   "cell_type": "markdown",
   "id": "c0646ec9",
   "metadata": {},
   "source": [
    "## 1.Create two numpy arrays. The first array, called arr1 should be of one dimension and consist of six elements of float type. The second array, called arr2 should be of two dimensions and each sub-array should consist of 5 elements of string type. Display these two numpy arrays."
   ]
  },
  {
   "cell_type": "code",
   "execution_count": 1,
   "id": "56cb7d9e",
   "metadata": {},
   "outputs": [],
   "source": [
    "import numpy as np\n"
   ]
  },
  {
   "cell_type": "code",
   "execution_count": 6,
   "id": "d42a81d2",
   "metadata": {},
   "outputs": [],
   "source": [
    "# Create a 1-D array\n",
    "\n",
    "arr1=np.array([1.0,2.0,3.0,4.0,5.0,6.0])\n",
    "\n",
    "# Create a 2D array\n",
    "\n",
    "arr2=np.array([['one','Two','Three','four','five'],['one','Two','Three','four','five']])"
   ]
  },
  {
   "cell_type": "code",
   "execution_count": 7,
   "id": "d1ef425b",
   "metadata": {},
   "outputs": [
    {
     "name": "stdout",
     "output_type": "stream",
     "text": [
      "float64\n"
     ]
    }
   ],
   "source": [
    "print(arr1.dtype)"
   ]
  },
  {
   "cell_type": "code",
   "execution_count": 8,
   "id": "0331e59a",
   "metadata": {},
   "outputs": [
    {
     "name": "stdout",
     "output_type": "stream",
     "text": [
      "[1. 2. 3. 4. 5. 6.]\n"
     ]
    }
   ],
   "source": [
    "print(arr1)"
   ]
  },
  {
   "cell_type": "code",
   "execution_count": 9,
   "id": "7e621729",
   "metadata": {},
   "outputs": [
    {
     "name": "stdout",
     "output_type": "stream",
     "text": [
      "<U5\n"
     ]
    }
   ],
   "source": [
    "print(arr2.dtype)"
   ]
  },
  {
   "cell_type": "code",
   "execution_count": 10,
   "id": "a10a2172",
   "metadata": {},
   "outputs": [
    {
     "name": "stdout",
     "output_type": "stream",
     "text": [
      "[['one' 'Two' 'Three' 'four' 'five']\n",
      " ['one' 'Two' 'Three' 'four' 'five']]\n"
     ]
    }
   ],
   "source": [
    "print(arr2)"
   ]
  },
  {
   "cell_type": "markdown",
   "id": "921804e1",
   "metadata": {},
   "source": [
    "## 2.For the arrays arr1 and arr2 created in Q.No.1, display the following properties: data type and dimensions. Reshape arr1 into a two dimensional array of 2 rows and three columns, and display the reshaped array. Similarly, reshape arr2 into a single dimensional array and display the reshaped array."
   ]
  },
  {
   "cell_type": "code",
   "execution_count": 11,
   "id": "c7063015",
   "metadata": {},
   "outputs": [
    {
     "name": "stdout",
     "output_type": "stream",
     "text": [
      "data type of arr1 :  float64\n",
      "data type of arr2 :  <U5\n"
     ]
    }
   ],
   "source": [
    "arr1=np.array([1.0,2.0,3.0,4.0,5.0,6.0])\n",
    "arr2=np.array([['one','Two','Three','four','five'],['one','Two','Three','four','five']])\n",
    "\n",
    "print('data type of arr1 : ', arr1.dtype)\n",
    "print('data type of arr2 : ', arr2.dtype)"
   ]
  },
  {
   "cell_type": "code",
   "execution_count": 12,
   "id": "d23e5f7b",
   "metadata": {},
   "outputs": [
    {
     "name": "stdout",
     "output_type": "stream",
     "text": [
      "[[1. 2. 3.]\n",
      " [4. 5. 6.]]\n"
     ]
    }
   ],
   "source": [
    "a3=arr1.reshape(2,3)\n",
    "print(a3)"
   ]
  },
  {
   "cell_type": "code",
   "execution_count": 13,
   "id": "8a481e89",
   "metadata": {},
   "outputs": [
    {
     "name": "stdout",
     "output_type": "stream",
     "text": [
      "[['one' 'Two' 'Three' 'four' 'five' 'one' 'Two' 'Three' 'four' 'five']]\n"
     ]
    }
   ],
   "source": [
    "a4=arr2.reshape(1,10)\n",
    "print(a4)\n"
   ]
  },
  {
   "cell_type": "markdown",
   "id": "bc2b8114",
   "metadata": {},
   "source": []
  },
  {
   "cell_type": "markdown",
   "id": "1370b506",
   "metadata": {},
   "source": [
    "## 3.Create a two dimensional array called arr3, of 3 rows and 4 columns which is initialized to zeroes. Create another single dimensional array called arr4, with 6 elements and which is initialized to ones. The type of arr4 is int."
   ]
  },
  {
   "cell_type": "code",
   "execution_count": 15,
   "id": "e0386ce0",
   "metadata": {},
   "outputs": [
    {
     "name": "stdout",
     "output_type": "stream",
     "text": [
      "[[0. 0. 0. 0.]\n",
      " [0. 0. 0. 0.]\n",
      " [0. 0. 0. 0.]]\n",
      "[[0 0 0 0]\n",
      " [0 0 0 0]\n",
      " [0 0 0 0]]\n"
     ]
    }
   ],
   "source": [
    "ar3=np.zeros([3,4])\n",
    "print(ar3)\n",
    "\n",
    "arr3= np.array([[0,0,0,0],[0,0,0,0],[0,0,0,0]])\n",
    "\n",
    "arr4=np.array([1,1,1,1,1,1])\n",
    "\n",
    "print(arr3)\n"
   ]
  },
  {
   "cell_type": "code",
   "execution_count": 28,
   "id": "0c4a64f2",
   "metadata": {},
   "outputs": [
    {
     "name": "stdout",
     "output_type": "stream",
     "text": [
      "[1 1 1 1 1 1]\n",
      "int32\n"
     ]
    }
   ],
   "source": [
    "print(arr4)\n",
    "print(arr4.dtype)"
   ]
  },
  {
   "cell_type": "code",
   "execution_count": null,
   "id": "028e4dc9",
   "metadata": {},
   "outputs": [],
   "source": []
  },
  {
   "cell_type": "markdown",
   "id": "c39f1edc",
   "metadata": {},
   "source": [
    "## 4.Create a list called list1 with the elements 10,20,30,40,50. Now, create a numpy array called arr5 from list1, using the method asarray. The data type of arr5 is float. Similarly, create another array called arr6, from list1, using the method fromiter, whose data type is int. Display arr5 and arr6."
   ]
  },
  {
   "cell_type": "code",
   "execution_count": 32,
   "id": "c633ad29",
   "metadata": {},
   "outputs": [
    {
     "name": "stdout",
     "output_type": "stream",
     "text": [
      "[10. 20. 30. 40. 50.]\n",
      "float64\n"
     ]
    }
   ],
   "source": [
    "list1=[10,20,30,40,50]\n",
    "arr5 = np.asarray(list1,dtype=float)\n",
    "print(arr5)\n",
    "print(arr5.dtype)\n",
    "\n"
   ]
  },
  {
   "cell_type": "code",
   "execution_count": 34,
   "id": "476083bd",
   "metadata": {},
   "outputs": [
    {
     "name": "stdout",
     "output_type": "stream",
     "text": [
      "[10 20 30 40 50]\n",
      "int32\n"
     ]
    }
   ],
   "source": [
    "arr6=np.fromiter(list1,dtype=int)\n",
    "\n",
    "print(arr6)\n",
    "print(arr6.dtype)"
   ]
  },
  {
   "cell_type": "code",
   "execution_count": null,
   "id": "8c7d62e5",
   "metadata": {},
   "outputs": [],
   "source": []
  },
  {
   "cell_type": "markdown",
   "id": "2c6f2f00",
   "metadata": {},
   "source": [
    "## 5.Create a numpy array called arr7 using the method arange. The starting value of this array is 12 and ending value is 99, with a step size of 3. Use the linspace method to create another array called arr8, where the starting value is 12 and ending value is 99 and which contains 50 evenly spaced elements.\n"
   ]
  },
  {
   "cell_type": "code",
   "execution_count": 3,
   "id": "82e7d89f",
   "metadata": {},
   "outputs": [
    {
     "name": "stdout",
     "output_type": "stream",
     "text": [
      "[12 15 18 21 24 27 30 33 36 39 42 45 48 51 54 57 60 63 66 69 72 75 78 81\n",
      " 84 87 90 93 96]\n"
     ]
    }
   ],
   "source": [
    "arr7 = np.arange(12,99,3)\n",
    "print(arr7)"
   ]
  },
  {
   "cell_type": "code",
   "execution_count": 2,
   "id": "cef263e3",
   "metadata": {},
   "outputs": [
    {
     "name": "stdout",
     "output_type": "stream",
     "text": [
      "[12.         13.7755102  15.55102041 17.32653061 19.10204082 20.87755102\n",
      " 22.65306122 24.42857143 26.20408163 27.97959184 29.75510204 31.53061224\n",
      " 33.30612245 35.08163265 36.85714286 38.63265306 40.40816327 42.18367347\n",
      " 43.95918367 45.73469388 47.51020408 49.28571429 51.06122449 52.83673469\n",
      " 54.6122449  56.3877551  58.16326531 59.93877551 61.71428571 63.48979592\n",
      " 65.26530612 67.04081633 68.81632653 70.59183673 72.36734694 74.14285714\n",
      " 75.91836735 77.69387755 79.46938776 81.24489796 83.02040816 84.79591837\n",
      " 86.57142857 88.34693878 90.12244898 91.89795918 93.67346939 95.44897959\n",
      " 97.2244898  99.        ]\n"
     ]
    }
   ],
   "source": [
    "arr8 = np.linspace(12,99,50)\n",
    "print(arr8)"
   ]
  },
  {
   "cell_type": "code",
   "execution_count": null,
   "id": "35cbe298",
   "metadata": {},
   "outputs": [],
   "source": []
  },
  {
   "cell_type": "markdown",
   "id": "7d8752f6",
   "metadata": {},
   "source": [
    "## 6.In the array arr2 defined in Q.No. 1, what is the output of the following statements: print(arr2), print(arr2[0:1]), print(arr2[1][3]), print (arr2[1])"
   ]
  },
  {
   "cell_type": "code",
   "execution_count": 16,
   "id": "cd6a31fa",
   "metadata": {},
   "outputs": [
    {
     "name": "stdout",
     "output_type": "stream",
     "text": [
      "[['one' 'Two' 'Three' 'four' 'five']\n",
      " ['one' 'Two' 'Three' 'four' 'five']]\n"
     ]
    }
   ],
   "source": [
    "print(arr2)"
   ]
  },
  {
   "cell_type": "code",
   "execution_count": 17,
   "id": "733bec24",
   "metadata": {},
   "outputs": [
    {
     "name": "stdout",
     "output_type": "stream",
     "text": [
      "[['one' 'Two' 'Three' 'four' 'five']]\n",
      "four\n",
      "['one' 'Two' 'Three' 'four' 'five']\n"
     ]
    }
   ],
   "source": [
    "\n",
    "print(arr2[0:1]) # It will print first row\n",
    "print(arr2[1][3]) # It will print element corresponding to second row fourth colounm (element 4)\n",
    "print(arr2[1]) #It will print second row"
   ]
  },
  {
   "cell_type": "code",
   "execution_count": null,
   "id": "83a035b8",
   "metadata": {},
   "outputs": [],
   "source": []
  },
  {
   "cell_type": "markdown",
   "id": "0197f38b",
   "metadata": {},
   "source": [
    "## 7.Create a two dimensional array called arr9 with the following elements: [101, 322, 768], [233, 124, 390], [534, 122, 216]. From arr9, create an array called arr10 which contains the elements 101, 322, 390, 122 using advanced integer indexing. Create another array called arr11 which contains elements of first and second rows, and second and third columns using slicing operations."
   ]
  },
  {
   "cell_type": "code",
   "execution_count": 19,
   "id": "1bfdeb92",
   "metadata": {},
   "outputs": [
    {
     "name": "stdout",
     "output_type": "stream",
     "text": [
      "[[101 322 768]\n",
      " [233 124 390]\n",
      " [534 122 216]]\n",
      "[101 322 390 122]\n"
     ]
    }
   ],
   "source": [
    "arr9 = np.array([[101, 322, 768], [233, 124, 390], [534, 122, 216]])\n",
    "\n",
    "arr10= arr9[[0,0,1,2],[0,1,2,1]]\n",
    "\n",
    "print(arr9)\n",
    "print(arr10)"
   ]
  },
  {
   "cell_type": "code",
   "execution_count": null,
   "id": "d2d15706",
   "metadata": {},
   "outputs": [],
   "source": []
  },
  {
   "cell_type": "code",
   "execution_count": null,
   "id": "f5fe12dc",
   "metadata": {},
   "outputs": [],
   "source": []
  },
  {
   "cell_type": "markdown",
   "id": "6f42102f",
   "metadata": {},
   "source": [
    "## 8.From array arr9 created in Q.No. 7, find all elements greater than 200 using boolean indexing, find all non-NaN elements, and find all non-float elements. Find the result of adding arrays arr9 and another array of 3 elements, using the concept of broadcasting."
   ]
  },
  {
   "cell_type": "code",
   "execution_count": 20,
   "id": "a93beb74",
   "metadata": {},
   "outputs": [
    {
     "data": {
      "text/plain": [
       "array([[101, 322, 768],\n",
       "       [233, 124, 390],\n",
       "       [534, 122, 216]])"
      ]
     },
     "execution_count": 20,
     "metadata": {},
     "output_type": "execute_result"
    }
   ],
   "source": [
    "arr9 "
   ]
  },
  {
   "cell_type": "code",
   "execution_count": 21,
   "id": "a9863ceb",
   "metadata": {},
   "outputs": [
    {
     "name": "stdout",
     "output_type": "stream",
     "text": [
      "[322 768 233 390 534 216]\n",
      "[101 322 768 233 124 390 534 122 216]\n",
      "[[[101 322 768]\n",
      "  [233 124 390]\n",
      "  [534 122 216]]]\n"
     ]
    }
   ],
   "source": [
    "print(arr9[arr9>200])\n",
    "print(arr9[~np.isnan(arr9)])\n",
    "print(arr9[arr9.dtype!= 'float'])"
   ]
  },
  {
   "cell_type": "code",
   "execution_count": 22,
   "id": "e98b26b7",
   "metadata": {},
   "outputs": [
    {
     "name": "stdout",
     "output_type": "stream",
     "text": [
      "[10.   1.   0.5]\n"
     ]
    }
   ],
   "source": [
    "arr10=np.array([10,1,0.5])\n",
    "print(arr10)"
   ]
  },
  {
   "cell_type": "code",
   "execution_count": 24,
   "id": "489e6a2f",
   "metadata": {},
   "outputs": [
    {
     "name": "stdout",
     "output_type": "stream",
     "text": [
      "First arraySecond array :\n",
      "[[111.  323.  768.5]\n",
      " [243.  125.  390.5]\n",
      " [544.  123.  216.5]]\n"
     ]
    }
   ],
   "source": [
    "print('First array' + 'Second array :')\n",
    "print(arr9 + arr10)"
   ]
  },
  {
   "cell_type": "code",
   "execution_count": null,
   "id": "e17195bf",
   "metadata": {},
   "outputs": [],
   "source": []
  },
  {
   "cell_type": "code",
   "execution_count": null,
   "id": "9a2c6101",
   "metadata": {},
   "outputs": [],
   "source": []
  },
  {
   "cell_type": "markdown",
   "id": "c7e748b6",
   "metadata": {},
   "source": [
    "## 9.For the array arr9, find its transpose. Find the result of joining the arrays arr1 and arr4 along axis 0."
   ]
  },
  {
   "cell_type": "code",
   "execution_count": 25,
   "id": "ac6f67e7",
   "metadata": {},
   "outputs": [
    {
     "data": {
      "text/plain": [
       "array([[101, 322, 768],\n",
       "       [233, 124, 390],\n",
       "       [534, 122, 216]])"
      ]
     },
     "execution_count": 25,
     "metadata": {},
     "output_type": "execute_result"
    }
   ],
   "source": [
    " arr9"
   ]
  },
  {
   "cell_type": "code",
   "execution_count": 26,
   "id": "7830cd5a",
   "metadata": {},
   "outputs": [
    {
     "name": "stdout",
     "output_type": "stream",
     "text": [
      "Transpose of arr9:\n",
      "[[101 233 534]\n",
      " [322 124 122]\n",
      " [768 390 216]]\n"
     ]
    }
   ],
   "source": [
    "print('Transpose of arr9:')\n",
    "print(arr9.T)"
   ]
  },
  {
   "cell_type": "code",
   "execution_count": null,
   "id": "bb07253b",
   "metadata": {},
   "outputs": [],
   "source": []
  },
  {
   "cell_type": "markdown",
   "id": "2f0e7a97",
   "metadata": {},
   "source": [
    "## 10.Using any two 2-dimensional arrays, demonstrate the working of the methods, hstack, vstack, hsplit and vsplit."
   ]
  },
  {
   "cell_type": "code",
   "execution_count": 27,
   "id": "4c56b504",
   "metadata": {},
   "outputs": [
    {
     "data": {
      "text/plain": [
       "array([['one', 'Two', 'Three', 'four', 'five'],\n",
       "       ['one', 'Two', 'Three', 'four', 'five']], dtype='<U5')"
      ]
     },
     "execution_count": 27,
     "metadata": {},
     "output_type": "execute_result"
    }
   ],
   "source": [
    "arr2"
   ]
  },
  {
   "cell_type": "code",
   "execution_count": 28,
   "id": "0492c422",
   "metadata": {},
   "outputs": [
    {
     "name": "stdout",
     "output_type": "stream",
     "text": [
      "[['one' 'Two' 'Three' 'four' 'five' 'one' 'Two' 'Three' 'four' 'five']\n",
      " ['one' 'Two' 'Three' 'four' 'five' 'one' 'Two' 'Three' 'four' 'five']]\n"
     ]
    }
   ],
   "source": [
    "im_h = np.hstack((arr2,arr2))\n",
    "print(im_h)"
   ]
  },
  {
   "cell_type": "code",
   "execution_count": 29,
   "id": "4c9d0f31",
   "metadata": {},
   "outputs": [
    {
     "name": "stdout",
     "output_type": "stream",
     "text": [
      "[['one' 'Two' 'Three' 'four' 'five']\n",
      " ['one' 'Two' 'Three' 'four' 'five']\n",
      " ['one' 'Two' 'Three' 'four' 'five']\n",
      " ['one' 'Two' 'Three' 'four' 'five']]\n"
     ]
    }
   ],
   "source": [
    "im_v = np.vstack((arr2,arr2))\n",
    "print(im_v)"
   ]
  },
  {
   "cell_type": "code",
   "execution_count": 30,
   "id": "267bbe1a",
   "metadata": {},
   "outputs": [
    {
     "name": "stdout",
     "output_type": "stream",
     "text": [
      "[array([['one', 'Two', 'Three', 'four', 'five'],\n",
      "       ['one', 'Two', 'Three', 'four', 'five']], dtype='<U5'), array([['one', 'Two', 'Three', 'four', 'five'],\n",
      "       ['one', 'Two', 'Three', 'four', 'five']], dtype='<U5')]\n"
     ]
    }
   ],
   "source": [
    "im_sp_h= np.hsplit(im_h,2)\n",
    "print(im_sp_h)"
   ]
  },
  {
   "cell_type": "code",
   "execution_count": 31,
   "id": "26b8f692",
   "metadata": {},
   "outputs": [
    {
     "name": "stdout",
     "output_type": "stream",
     "text": [
      "[array([['one', 'Two', 'Three', 'four', 'five'],\n",
      "       ['one', 'Two', 'Three', 'four', 'five']], dtype='<U5'), array([['one', 'Two', 'Three', 'four', 'five'],\n",
      "       ['one', 'Two', 'Three', 'four', 'five']], dtype='<U5')]\n"
     ]
    }
   ],
   "source": [
    "im_sp_v = np.vsplit(im_v,2)\n",
    "\n",
    "print(im_sp_v)"
   ]
  },
  {
   "cell_type": "code",
   "execution_count": null,
   "id": "a3956903",
   "metadata": {},
   "outputs": [],
   "source": []
  },
  {
   "cell_type": "code",
   "execution_count": null,
   "id": "9f15ca43",
   "metadata": {},
   "outputs": [],
   "source": []
  },
  {
   "cell_type": "code",
   "execution_count": null,
   "id": "4daea7b8",
   "metadata": {},
   "outputs": [],
   "source": []
  },
  {
   "cell_type": "code",
   "execution_count": null,
   "id": "afa99808",
   "metadata": {},
   "outputs": [],
   "source": []
  },
  {
   "cell_type": "code",
   "execution_count": null,
   "id": "6408b608",
   "metadata": {},
   "outputs": [],
   "source": []
  },
  {
   "cell_type": "code",
   "execution_count": null,
   "id": "c0b571b2",
   "metadata": {},
   "outputs": [],
   "source": []
  }
 ],
 "metadata": {
  "kernelspec": {
   "display_name": "Python 3 (ipykernel)",
   "language": "python",
   "name": "python3"
  },
  "language_info": {
   "codemirror_mode": {
    "name": "ipython",
    "version": 3
   },
   "file_extension": ".py",
   "mimetype": "text/x-python",
   "name": "python",
   "nbconvert_exporter": "python",
   "pygments_lexer": "ipython3",
   "version": "3.9.7"
  }
 },
 "nbformat": 4,
 "nbformat_minor": 5
}
