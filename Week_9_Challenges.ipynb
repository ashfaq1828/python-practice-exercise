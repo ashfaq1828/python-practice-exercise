{
 "cells": [
  {
   "cell_type": "markdown",
   "id": "106e7aa2",
   "metadata": {},
   "source": [
    "## 1.Create a data frame called DataFrame1. It should contain data about five employees. Each employee data consists of employee number, name, salary, department number and designation."
   ]
  },
  {
   "cell_type": "code",
   "execution_count": 1,
   "id": "7a79bcff",
   "metadata": {},
   "outputs": [],
   "source": [
    "import pandas as pd\n"
   ]
  },
  {
   "cell_type": "code",
   "execution_count": 2,
   "id": "4506bd84",
   "metadata": {},
   "outputs": [],
   "source": [
    "DataFrame1=pd.DataFrame([[101,'Ramesh',50000,1,'IAS'],[102,'Mahesh',60000,2,'IFS'],[103,'Amir',65000,3,'IPS'],\n",
    "                 [104,'Abdul',70000,4,'Scientist'],[105,'Nelson',55000,1,'IAS']],\n",
    "                 columns=['Employee_No','Employee_name','Salary','Dept_no','Designation'],\n",
    "                index=['First_Employee','Second_Employee','Third_Employee','Forth_Employee','Fifth_Employee'])"
   ]
  },
  {
   "cell_type": "code",
   "execution_count": 4,
   "id": "fc12e689",
   "metadata": {},
   "outputs": [
    {
     "data": {
      "text/html": [
       "<div>\n",
       "<style scoped>\n",
       "    .dataframe tbody tr th:only-of-type {\n",
       "        vertical-align: middle;\n",
       "    }\n",
       "\n",
       "    .dataframe tbody tr th {\n",
       "        vertical-align: top;\n",
       "    }\n",
       "\n",
       "    .dataframe thead th {\n",
       "        text-align: right;\n",
       "    }\n",
       "</style>\n",
       "<table border=\"1\" class=\"dataframe\">\n",
       "  <thead>\n",
       "    <tr style=\"text-align: right;\">\n",
       "      <th></th>\n",
       "      <th>Employee_No</th>\n",
       "      <th>Employee_name</th>\n",
       "      <th>Salary</th>\n",
       "      <th>Dept_no</th>\n",
       "      <th>Designation</th>\n",
       "    </tr>\n",
       "  </thead>\n",
       "  <tbody>\n",
       "    <tr>\n",
       "      <th>First_Employee</th>\n",
       "      <td>101</td>\n",
       "      <td>Ramesh</td>\n",
       "      <td>50000</td>\n",
       "      <td>1</td>\n",
       "      <td>IAS</td>\n",
       "    </tr>\n",
       "    <tr>\n",
       "      <th>Second_Employee</th>\n",
       "      <td>102</td>\n",
       "      <td>Mahesh</td>\n",
       "      <td>60000</td>\n",
       "      <td>2</td>\n",
       "      <td>IFS</td>\n",
       "    </tr>\n",
       "    <tr>\n",
       "      <th>Third_Employee</th>\n",
       "      <td>103</td>\n",
       "      <td>Amir</td>\n",
       "      <td>65000</td>\n",
       "      <td>3</td>\n",
       "      <td>IPS</td>\n",
       "    </tr>\n",
       "    <tr>\n",
       "      <th>Forth_Employee</th>\n",
       "      <td>104</td>\n",
       "      <td>Abdul</td>\n",
       "      <td>70000</td>\n",
       "      <td>4</td>\n",
       "      <td>Scientist</td>\n",
       "    </tr>\n",
       "    <tr>\n",
       "      <th>Fifth_Employee</th>\n",
       "      <td>105</td>\n",
       "      <td>Nelson</td>\n",
       "      <td>55000</td>\n",
       "      <td>1</td>\n",
       "      <td>IAS</td>\n",
       "    </tr>\n",
       "  </tbody>\n",
       "</table>\n",
       "</div>"
      ],
      "text/plain": [
       "                 Employee_No Employee_name  Salary  Dept_no Designation\n",
       "First_Employee           101        Ramesh   50000        1         IAS\n",
       "Second_Employee          102        Mahesh   60000        2         IFS\n",
       "Third_Employee           103          Amir   65000        3         IPS\n",
       "Forth_Employee           104         Abdul   70000        4   Scientist\n",
       "Fifth_Employee           105        Nelson   55000        1         IAS"
      ]
     },
     "execution_count": 4,
     "metadata": {},
     "output_type": "execute_result"
    }
   ],
   "source": [
    "DataFrame1"
   ]
  },
  {
   "cell_type": "code",
   "execution_count": null,
   "id": "f1b19192",
   "metadata": {},
   "outputs": [],
   "source": []
  },
  {
   "cell_type": "markdown",
   "id": "3807fa22",
   "metadata": {},
   "source": [
    "## 2.In the DataFrame1 defined in Q.No. 1, add appropriate column names to the columns. Find the mean of the salary in the DataFrame1."
   ]
  },
  {
   "cell_type": "code",
   "execution_count": 9,
   "id": "8b12c9a5",
   "metadata": {},
   "outputs": [
    {
     "data": {
      "text/html": [
       "<div>\n",
       "<style scoped>\n",
       "    .dataframe tbody tr th:only-of-type {\n",
       "        vertical-align: middle;\n",
       "    }\n",
       "\n",
       "    .dataframe tbody tr th {\n",
       "        vertical-align: top;\n",
       "    }\n",
       "\n",
       "    .dataframe thead th {\n",
       "        text-align: right;\n",
       "    }\n",
       "</style>\n",
       "<table border=\"1\" class=\"dataframe\">\n",
       "  <thead>\n",
       "    <tr style=\"text-align: right;\">\n",
       "      <th></th>\n",
       "      <th>Employee_No</th>\n",
       "      <th>Employee_name</th>\n",
       "      <th>Salary</th>\n",
       "      <th>Dept_no</th>\n",
       "      <th>Designation</th>\n",
       "    </tr>\n",
       "  </thead>\n",
       "  <tbody>\n",
       "    <tr>\n",
       "      <th>First_Employee</th>\n",
       "      <td>101</td>\n",
       "      <td>Ramesh</td>\n",
       "      <td>50000</td>\n",
       "      <td>1</td>\n",
       "      <td>IAS</td>\n",
       "    </tr>\n",
       "    <tr>\n",
       "      <th>Second_Employee</th>\n",
       "      <td>102</td>\n",
       "      <td>Mahesh</td>\n",
       "      <td>60000</td>\n",
       "      <td>2</td>\n",
       "      <td>IFS</td>\n",
       "    </tr>\n",
       "    <tr>\n",
       "      <th>Third_Employee</th>\n",
       "      <td>103</td>\n",
       "      <td>Amir</td>\n",
       "      <td>65000</td>\n",
       "      <td>3</td>\n",
       "      <td>IPS</td>\n",
       "    </tr>\n",
       "    <tr>\n",
       "      <th>Forth_Employee</th>\n",
       "      <td>104</td>\n",
       "      <td>Abdul</td>\n",
       "      <td>70000</td>\n",
       "      <td>4</td>\n",
       "      <td>Scientist</td>\n",
       "    </tr>\n",
       "    <tr>\n",
       "      <th>Fifth_Employee</th>\n",
       "      <td>105</td>\n",
       "      <td>Nelson</td>\n",
       "      <td>55000</td>\n",
       "      <td>1</td>\n",
       "      <td>IAS</td>\n",
       "    </tr>\n",
       "  </tbody>\n",
       "</table>\n",
       "</div>"
      ],
      "text/plain": [
       "                 Employee_No Employee_name  Salary  Dept_no Designation\n",
       "First_Employee           101        Ramesh   50000        1         IAS\n",
       "Second_Employee          102        Mahesh   60000        2         IFS\n",
       "Third_Employee           103          Amir   65000        3         IPS\n",
       "Forth_Employee           104         Abdul   70000        4   Scientist\n",
       "Fifth_Employee           105        Nelson   55000        1         IAS"
      ]
     },
     "execution_count": 9,
     "metadata": {},
     "output_type": "execute_result"
    }
   ],
   "source": [
    "DataFrame1"
   ]
  },
  {
   "cell_type": "code",
   "execution_count": 10,
   "id": "b033d754",
   "metadata": {},
   "outputs": [
    {
     "name": "stderr",
     "output_type": "stream",
     "text": [
      "C:\\Users\\User\\AppData\\Local\\Temp/ipykernel_17848/3815105665.py:1: FutureWarning: Dropping of nuisance columns in DataFrame reductions (with 'numeric_only=None') is deprecated; in a future version this will raise TypeError.  Select only valid columns before calling the reduction.\n",
      "  DataFrame1.mean()\n"
     ]
    },
    {
     "data": {
      "text/plain": [
       "Employee_No      103.0\n",
       "Salary         60000.0\n",
       "Dept_no            2.2\n",
       "dtype: float64"
      ]
     },
     "execution_count": 10,
     "metadata": {},
     "output_type": "execute_result"
    }
   ],
   "source": [
    "DataFrame1.mean()"
   ]
  },
  {
   "cell_type": "code",
   "execution_count": null,
   "id": "04477658",
   "metadata": {},
   "outputs": [],
   "source": []
  },
  {
   "cell_type": "code",
   "execution_count": null,
   "id": "9f57910f",
   "metadata": {},
   "outputs": [],
   "source": []
  },
  {
   "cell_type": "markdown",
   "id": "4dde6ef4",
   "metadata": {},
   "source": [
    "## 3.Create a dictionary called dept. In this dictionary, the columns are deptno, deptname and location. Create a data frame called DataFrame2 from the dictionary dept."
   ]
  },
  {
   "cell_type": "code",
   "execution_count": 5,
   "id": "40ec4958",
   "metadata": {},
   "outputs": [],
   "source": [
    "Dept={'Dept_no':(101,102,103,104,105),\n",
    "     'Dept_Name':('IAS','IFS','IPS','Scientist','Doctor'),\n",
    "     'Location':('Visakhapatnam','Hyderabad','Mumbai','Delhi','Bangalore')}\n",
    "\n",
    "DataFrame2=pd.DataFrame(Dept)"
   ]
  },
  {
   "cell_type": "code",
   "execution_count": 6,
   "id": "5e3bb8fc",
   "metadata": {},
   "outputs": [
    {
     "data": {
      "text/html": [
       "<div>\n",
       "<style scoped>\n",
       "    .dataframe tbody tr th:only-of-type {\n",
       "        vertical-align: middle;\n",
       "    }\n",
       "\n",
       "    .dataframe tbody tr th {\n",
       "        vertical-align: top;\n",
       "    }\n",
       "\n",
       "    .dataframe thead th {\n",
       "        text-align: right;\n",
       "    }\n",
       "</style>\n",
       "<table border=\"1\" class=\"dataframe\">\n",
       "  <thead>\n",
       "    <tr style=\"text-align: right;\">\n",
       "      <th></th>\n",
       "      <th>Dept_no</th>\n",
       "      <th>Dept_Name</th>\n",
       "      <th>Location</th>\n",
       "    </tr>\n",
       "  </thead>\n",
       "  <tbody>\n",
       "    <tr>\n",
       "      <th>0</th>\n",
       "      <td>101</td>\n",
       "      <td>IAS</td>\n",
       "      <td>Visakhapatnam</td>\n",
       "    </tr>\n",
       "    <tr>\n",
       "      <th>1</th>\n",
       "      <td>102</td>\n",
       "      <td>IFS</td>\n",
       "      <td>Hyderabad</td>\n",
       "    </tr>\n",
       "    <tr>\n",
       "      <th>2</th>\n",
       "      <td>103</td>\n",
       "      <td>IPS</td>\n",
       "      <td>Mumbai</td>\n",
       "    </tr>\n",
       "    <tr>\n",
       "      <th>3</th>\n",
       "      <td>104</td>\n",
       "      <td>Scientist</td>\n",
       "      <td>Delhi</td>\n",
       "    </tr>\n",
       "    <tr>\n",
       "      <th>4</th>\n",
       "      <td>105</td>\n",
       "      <td>Doctor</td>\n",
       "      <td>Bangalore</td>\n",
       "    </tr>\n",
       "  </tbody>\n",
       "</table>\n",
       "</div>"
      ],
      "text/plain": [
       "   Dept_no  Dept_Name       Location\n",
       "0      101        IAS  Visakhapatnam\n",
       "1      102        IFS      Hyderabad\n",
       "2      103        IPS         Mumbai\n",
       "3      104  Scientist          Delhi\n",
       "4      105     Doctor      Bangalore"
      ]
     },
     "execution_count": 6,
     "metadata": {},
     "output_type": "execute_result"
    }
   ],
   "source": [
    "DataFrame2"
   ]
  },
  {
   "cell_type": "code",
   "execution_count": null,
   "id": "f41b4725",
   "metadata": {},
   "outputs": [],
   "source": []
  },
  {
   "cell_type": "code",
   "execution_count": null,
   "id": "ea433065",
   "metadata": {},
   "outputs": [],
   "source": []
  },
  {
   "cell_type": "markdown",
   "id": "3e104233",
   "metadata": {},
   "source": [
    "## 4.Consider a sales.csv file with the following data:\n",
    "The data represents salesman name and sales in three regions: region1, region2 and region3. Load sles.csv into a data frame called DataFrame3. Give appropriate column names to the columns in DataFrame3. Display the contents of DataFrame3."
   ]
  },
  {
   "cell_type": "code",
   "execution_count": null,
   "id": "6b81461b",
   "metadata": {},
   "outputs": [],
   "source": [
    "''''''\n",
    "Dinesh\n",
    "\n",
    "7800\n",
    "\n",
    "6500\n",
    "\n",
    "4590\n",
    "\n",
    "Mahesh\n",
    "\n",
    "8900\n",
    "\n",
    " \n",
    "\n",
    "3790\n",
    "\n",
    "Ramesh\n",
    "\n",
    "10800\n",
    "\n",
    "2300\n",
    "\n",
    " \n",
    "\n",
    "Suresh\n",
    "\n",
    "5600\n",
    "\n",
    "6790\n",
    "\n",
    "2300\n",
    "\n",
    "Basha\n",
    "\n",
    "7600\n",
    "\n",
    "2300\n",
    "\n",
    "2400\n",
    "\n",
    "''''''"
   ]
  },
  {
   "cell_type": "code",
   "execution_count": 4,
   "id": "4d99e262",
   "metadata": {},
   "outputs": [],
   "source": [
    "DataFrame3=pd.read_csv('sales.csv')"
   ]
  },
  {
   "cell_type": "code",
   "execution_count": 5,
   "id": "213aeebb",
   "metadata": {},
   "outputs": [
    {
     "data": {
      "text/html": [
       "<div>\n",
       "<style scoped>\n",
       "    .dataframe tbody tr th:only-of-type {\n",
       "        vertical-align: middle;\n",
       "    }\n",
       "\n",
       "    .dataframe tbody tr th {\n",
       "        vertical-align: top;\n",
       "    }\n",
       "\n",
       "    .dataframe thead th {\n",
       "        text-align: right;\n",
       "    }\n",
       "</style>\n",
       "<table border=\"1\" class=\"dataframe\">\n",
       "  <thead>\n",
       "    <tr style=\"text-align: right;\">\n",
       "      <th></th>\n",
       "      <th>Employee</th>\n",
       "      <th>region1</th>\n",
       "      <th>region2</th>\n",
       "      <th>region3</th>\n",
       "    </tr>\n",
       "  </thead>\n",
       "  <tbody>\n",
       "    <tr>\n",
       "      <th>0</th>\n",
       "      <td>Dinesh</td>\n",
       "      <td>7800</td>\n",
       "      <td>6500.0</td>\n",
       "      <td>4590.0</td>\n",
       "    </tr>\n",
       "    <tr>\n",
       "      <th>1</th>\n",
       "      <td>Mahesh</td>\n",
       "      <td>8900</td>\n",
       "      <td>NaN</td>\n",
       "      <td>3790.0</td>\n",
       "    </tr>\n",
       "    <tr>\n",
       "      <th>2</th>\n",
       "      <td>Ramesh</td>\n",
       "      <td>10800</td>\n",
       "      <td>2300.0</td>\n",
       "      <td>NaN</td>\n",
       "    </tr>\n",
       "    <tr>\n",
       "      <th>3</th>\n",
       "      <td>Suresh</td>\n",
       "      <td>5600</td>\n",
       "      <td>6790.0</td>\n",
       "      <td>2300.0</td>\n",
       "    </tr>\n",
       "    <tr>\n",
       "      <th>4</th>\n",
       "      <td>Basha</td>\n",
       "      <td>7600</td>\n",
       "      <td>2300.0</td>\n",
       "      <td>2400.0</td>\n",
       "    </tr>\n",
       "  </tbody>\n",
       "</table>\n",
       "</div>"
      ],
      "text/plain": [
       "  Employee  region1  region2  region3\n",
       "0   Dinesh     7800   6500.0   4590.0\n",
       "1   Mahesh     8900      NaN   3790.0\n",
       "2   Ramesh    10800   2300.0      NaN\n",
       "3   Suresh     5600   6790.0   2300.0\n",
       "4    Basha     7600   2300.0   2400.0"
      ]
     },
     "execution_count": 5,
     "metadata": {},
     "output_type": "execute_result"
    }
   ],
   "source": [
    "DataFrame3"
   ]
  },
  {
   "cell_type": "code",
   "execution_count": null,
   "id": "24451b0a",
   "metadata": {},
   "outputs": [],
   "source": []
  },
  {
   "cell_type": "code",
   "execution_count": null,
   "id": "92ebefad",
   "metadata": {},
   "outputs": [],
   "source": []
  },
  {
   "cell_type": "code",
   "execution_count": null,
   "id": "2783f6fb",
   "metadata": {},
   "outputs": [],
   "source": []
  },
  {
   "cell_type": "markdown",
   "id": "5af2e35c",
   "metadata": {},
   "source": [
    "## 5.In this exercise, demonstrate different methods of handling missing data in data frames. For reference, consider the DataFrame3 created in Q.No. 4. In DataFrame3, do the following: fill missing values with zeroes, fill missing values with the mean of their respective column, drop the rows containing missing values, drop the columns containing missing values."
   ]
  },
  {
   "cell_type": "code",
   "execution_count": 36,
   "id": "85b8b32c",
   "metadata": {},
   "outputs": [
    {
     "data": {
      "text/html": [
       "<div>\n",
       "<style scoped>\n",
       "    .dataframe tbody tr th:only-of-type {\n",
       "        vertical-align: middle;\n",
       "    }\n",
       "\n",
       "    .dataframe tbody tr th {\n",
       "        vertical-align: top;\n",
       "    }\n",
       "\n",
       "    .dataframe thead th {\n",
       "        text-align: right;\n",
       "    }\n",
       "</style>\n",
       "<table border=\"1\" class=\"dataframe\">\n",
       "  <thead>\n",
       "    <tr style=\"text-align: right;\">\n",
       "      <th></th>\n",
       "      <th>Employee</th>\n",
       "      <th>region1</th>\n",
       "      <th>region2</th>\n",
       "      <th>region3</th>\n",
       "    </tr>\n",
       "  </thead>\n",
       "  <tbody>\n",
       "    <tr>\n",
       "      <th>0</th>\n",
       "      <td>Dinesh</td>\n",
       "      <td>7800</td>\n",
       "      <td>6500.0</td>\n",
       "      <td>4590.0</td>\n",
       "    </tr>\n",
       "    <tr>\n",
       "      <th>1</th>\n",
       "      <td>Mahesh</td>\n",
       "      <td>8900</td>\n",
       "      <td>NaN</td>\n",
       "      <td>3790.0</td>\n",
       "    </tr>\n",
       "    <tr>\n",
       "      <th>2</th>\n",
       "      <td>Ramesh</td>\n",
       "      <td>10800</td>\n",
       "      <td>2300.0</td>\n",
       "      <td>NaN</td>\n",
       "    </tr>\n",
       "    <tr>\n",
       "      <th>3</th>\n",
       "      <td>Suresh</td>\n",
       "      <td>5600</td>\n",
       "      <td>6790.0</td>\n",
       "      <td>2300.0</td>\n",
       "    </tr>\n",
       "    <tr>\n",
       "      <th>4</th>\n",
       "      <td>Basha</td>\n",
       "      <td>7600</td>\n",
       "      <td>2300.0</td>\n",
       "      <td>2400.0</td>\n",
       "    </tr>\n",
       "  </tbody>\n",
       "</table>\n",
       "</div>"
      ],
      "text/plain": [
       "  Employee  region1  region2  region3\n",
       "0   Dinesh     7800   6500.0   4590.0\n",
       "1   Mahesh     8900      NaN   3790.0\n",
       "2   Ramesh    10800   2300.0      NaN\n",
       "3   Suresh     5600   6790.0   2300.0\n",
       "4    Basha     7600   2300.0   2400.0"
      ]
     },
     "execution_count": 36,
     "metadata": {},
     "output_type": "execute_result"
    }
   ],
   "source": [
    "DataFrame3"
   ]
  },
  {
   "cell_type": "code",
   "execution_count": 37,
   "id": "5e4f900e",
   "metadata": {},
   "outputs": [
    {
     "data": {
      "text/html": [
       "<div>\n",
       "<style scoped>\n",
       "    .dataframe tbody tr th:only-of-type {\n",
       "        vertical-align: middle;\n",
       "    }\n",
       "\n",
       "    .dataframe tbody tr th {\n",
       "        vertical-align: top;\n",
       "    }\n",
       "\n",
       "    .dataframe thead th {\n",
       "        text-align: right;\n",
       "    }\n",
       "</style>\n",
       "<table border=\"1\" class=\"dataframe\">\n",
       "  <thead>\n",
       "    <tr style=\"text-align: right;\">\n",
       "      <th></th>\n",
       "      <th>Employee</th>\n",
       "      <th>region1</th>\n",
       "      <th>region2</th>\n",
       "      <th>region3</th>\n",
       "    </tr>\n",
       "  </thead>\n",
       "  <tbody>\n",
       "    <tr>\n",
       "      <th>0</th>\n",
       "      <td>Dinesh</td>\n",
       "      <td>7800</td>\n",
       "      <td>6500.0</td>\n",
       "      <td>4590.0</td>\n",
       "    </tr>\n",
       "    <tr>\n",
       "      <th>1</th>\n",
       "      <td>Mahesh</td>\n",
       "      <td>8900</td>\n",
       "      <td>0.0</td>\n",
       "      <td>3790.0</td>\n",
       "    </tr>\n",
       "    <tr>\n",
       "      <th>2</th>\n",
       "      <td>Ramesh</td>\n",
       "      <td>10800</td>\n",
       "      <td>2300.0</td>\n",
       "      <td>0.0</td>\n",
       "    </tr>\n",
       "    <tr>\n",
       "      <th>3</th>\n",
       "      <td>Suresh</td>\n",
       "      <td>5600</td>\n",
       "      <td>6790.0</td>\n",
       "      <td>2300.0</td>\n",
       "    </tr>\n",
       "    <tr>\n",
       "      <th>4</th>\n",
       "      <td>Basha</td>\n",
       "      <td>7600</td>\n",
       "      <td>2300.0</td>\n",
       "      <td>2400.0</td>\n",
       "    </tr>\n",
       "  </tbody>\n",
       "</table>\n",
       "</div>"
      ],
      "text/plain": [
       "  Employee  region1  region2  region3\n",
       "0   Dinesh     7800   6500.0   4590.0\n",
       "1   Mahesh     8900      0.0   3790.0\n",
       "2   Ramesh    10800   2300.0      0.0\n",
       "3   Suresh     5600   6790.0   2300.0\n",
       "4    Basha     7600   2300.0   2400.0"
      ]
     },
     "execution_count": 37,
     "metadata": {},
     "output_type": "execute_result"
    }
   ],
   "source": [
    "DataFrame3.fillna(0)"
   ]
  },
  {
   "cell_type": "code",
   "execution_count": 42,
   "id": "907812f4",
   "metadata": {},
   "outputs": [
    {
     "data": {
      "text/plain": [
       "0    6500.0\n",
       "1    4472.5\n",
       "2    2300.0\n",
       "3    6790.0\n",
       "4    2300.0\n",
       "Name: region2, dtype: float64"
      ]
     },
     "execution_count": 42,
     "metadata": {},
     "output_type": "execute_result"
    }
   ],
   "source": [
    "DataFrame3[\"region2\"].fillna(DataFrame3[\"region2\"].mean())"
   ]
  },
  {
   "cell_type": "code",
   "execution_count": 43,
   "id": "eebf071f",
   "metadata": {},
   "outputs": [
    {
     "data": {
      "text/plain": [
       "0    4590.0\n",
       "1    3790.0\n",
       "2    3270.0\n",
       "3    2300.0\n",
       "4    2400.0\n",
       "Name: region3, dtype: float64"
      ]
     },
     "execution_count": 43,
     "metadata": {},
     "output_type": "execute_result"
    }
   ],
   "source": [
    "DataFrame3[\"region3\"].fillna(DataFrame3[\"region3\"].mean())"
   ]
  },
  {
   "cell_type": "code",
   "execution_count": 44,
   "id": "6deae633",
   "metadata": {},
   "outputs": [
    {
     "data": {
      "text/html": [
       "<div>\n",
       "<style scoped>\n",
       "    .dataframe tbody tr th:only-of-type {\n",
       "        vertical-align: middle;\n",
       "    }\n",
       "\n",
       "    .dataframe tbody tr th {\n",
       "        vertical-align: top;\n",
       "    }\n",
       "\n",
       "    .dataframe thead th {\n",
       "        text-align: right;\n",
       "    }\n",
       "</style>\n",
       "<table border=\"1\" class=\"dataframe\">\n",
       "  <thead>\n",
       "    <tr style=\"text-align: right;\">\n",
       "      <th></th>\n",
       "      <th>Employee</th>\n",
       "      <th>region1</th>\n",
       "      <th>region2</th>\n",
       "      <th>region3</th>\n",
       "    </tr>\n",
       "  </thead>\n",
       "  <tbody>\n",
       "    <tr>\n",
       "      <th>0</th>\n",
       "      <td>Dinesh</td>\n",
       "      <td>7800</td>\n",
       "      <td>6500.0</td>\n",
       "      <td>4590.0</td>\n",
       "    </tr>\n",
       "    <tr>\n",
       "      <th>3</th>\n",
       "      <td>Suresh</td>\n",
       "      <td>5600</td>\n",
       "      <td>6790.0</td>\n",
       "      <td>2300.0</td>\n",
       "    </tr>\n",
       "    <tr>\n",
       "      <th>4</th>\n",
       "      <td>Basha</td>\n",
       "      <td>7600</td>\n",
       "      <td>2300.0</td>\n",
       "      <td>2400.0</td>\n",
       "    </tr>\n",
       "  </tbody>\n",
       "</table>\n",
       "</div>"
      ],
      "text/plain": [
       "  Employee  region1  region2  region3\n",
       "0   Dinesh     7800   6500.0   4590.0\n",
       "3   Suresh     5600   6790.0   2300.0\n",
       "4    Basha     7600   2300.0   2400.0"
      ]
     },
     "execution_count": 44,
     "metadata": {},
     "output_type": "execute_result"
    }
   ],
   "source": [
    "DataFrame3.dropna() #Rows"
   ]
  },
  {
   "cell_type": "code",
   "execution_count": 45,
   "id": "baf80cd8",
   "metadata": {},
   "outputs": [
    {
     "data": {
      "text/html": [
       "<div>\n",
       "<style scoped>\n",
       "    .dataframe tbody tr th:only-of-type {\n",
       "        vertical-align: middle;\n",
       "    }\n",
       "\n",
       "    .dataframe tbody tr th {\n",
       "        vertical-align: top;\n",
       "    }\n",
       "\n",
       "    .dataframe thead th {\n",
       "        text-align: right;\n",
       "    }\n",
       "</style>\n",
       "<table border=\"1\" class=\"dataframe\">\n",
       "  <thead>\n",
       "    <tr style=\"text-align: right;\">\n",
       "      <th></th>\n",
       "      <th>Employee</th>\n",
       "      <th>region1</th>\n",
       "    </tr>\n",
       "  </thead>\n",
       "  <tbody>\n",
       "    <tr>\n",
       "      <th>0</th>\n",
       "      <td>Dinesh</td>\n",
       "      <td>7800</td>\n",
       "    </tr>\n",
       "    <tr>\n",
       "      <th>1</th>\n",
       "      <td>Mahesh</td>\n",
       "      <td>8900</td>\n",
       "    </tr>\n",
       "    <tr>\n",
       "      <th>2</th>\n",
       "      <td>Ramesh</td>\n",
       "      <td>10800</td>\n",
       "    </tr>\n",
       "    <tr>\n",
       "      <th>3</th>\n",
       "      <td>Suresh</td>\n",
       "      <td>5600</td>\n",
       "    </tr>\n",
       "    <tr>\n",
       "      <th>4</th>\n",
       "      <td>Basha</td>\n",
       "      <td>7600</td>\n",
       "    </tr>\n",
       "  </tbody>\n",
       "</table>\n",
       "</div>"
      ],
      "text/plain": [
       "  Employee  region1\n",
       "0   Dinesh     7800\n",
       "1   Mahesh     8900\n",
       "2   Ramesh    10800\n",
       "3   Suresh     5600\n",
       "4    Basha     7600"
      ]
     },
     "execution_count": 45,
     "metadata": {},
     "output_type": "execute_result"
    }
   ],
   "source": [
    "DataFrame3.dropna(axis=1) #Column"
   ]
  },
  {
   "cell_type": "code",
   "execution_count": null,
   "id": "5cbf6c4d",
   "metadata": {},
   "outputs": [],
   "source": []
  },
  {
   "cell_type": "code",
   "execution_count": null,
   "id": "06aeb346",
   "metadata": {},
   "outputs": [],
   "source": []
  },
  {
   "cell_type": "markdown",
   "id": "b36efc91",
   "metadata": {},
   "source": [
    "## 6.From DataFrame1 create a new data frame called DataFrame4. In DataFrame4, set the employee number as an in-place index. Display data from the 3rd row and 4th column using label-based and integer-based indexing."
   ]
  },
  {
   "cell_type": "code",
   "execution_count": 80,
   "id": "574957bf",
   "metadata": {},
   "outputs": [
    {
     "data": {
      "text/html": [
       "<div>\n",
       "<style scoped>\n",
       "    .dataframe tbody tr th:only-of-type {\n",
       "        vertical-align: middle;\n",
       "    }\n",
       "\n",
       "    .dataframe tbody tr th {\n",
       "        vertical-align: top;\n",
       "    }\n",
       "\n",
       "    .dataframe thead th {\n",
       "        text-align: right;\n",
       "    }\n",
       "</style>\n",
       "<table border=\"1\" class=\"dataframe\">\n",
       "  <thead>\n",
       "    <tr style=\"text-align: right;\">\n",
       "      <th></th>\n",
       "      <th>Employee_No</th>\n",
       "      <th>Employee_name</th>\n",
       "      <th>Salary</th>\n",
       "      <th>Dept_no</th>\n",
       "      <th>Designation</th>\n",
       "    </tr>\n",
       "  </thead>\n",
       "  <tbody>\n",
       "    <tr>\n",
       "      <th>First_Employee</th>\n",
       "      <td>101</td>\n",
       "      <td>Ramesh</td>\n",
       "      <td>50000</td>\n",
       "      <td>1</td>\n",
       "      <td>IAS</td>\n",
       "    </tr>\n",
       "    <tr>\n",
       "      <th>Second_Employee</th>\n",
       "      <td>102</td>\n",
       "      <td>Mahesh</td>\n",
       "      <td>60000</td>\n",
       "      <td>2</td>\n",
       "      <td>IFS</td>\n",
       "    </tr>\n",
       "    <tr>\n",
       "      <th>Third_Employee</th>\n",
       "      <td>103</td>\n",
       "      <td>Amir</td>\n",
       "      <td>65000</td>\n",
       "      <td>3</td>\n",
       "      <td>IPS</td>\n",
       "    </tr>\n",
       "    <tr>\n",
       "      <th>Forth_Employee</th>\n",
       "      <td>104</td>\n",
       "      <td>Abdul</td>\n",
       "      <td>70000</td>\n",
       "      <td>4</td>\n",
       "      <td>Scientist</td>\n",
       "    </tr>\n",
       "    <tr>\n",
       "      <th>Fifth_Employee</th>\n",
       "      <td>105</td>\n",
       "      <td>Nelson</td>\n",
       "      <td>55000</td>\n",
       "      <td>1</td>\n",
       "      <td>IAS</td>\n",
       "    </tr>\n",
       "  </tbody>\n",
       "</table>\n",
       "</div>"
      ],
      "text/plain": [
       "                 Employee_No Employee_name  Salary  Dept_no Designation\n",
       "First_Employee           101        Ramesh   50000        1         IAS\n",
       "Second_Employee          102        Mahesh   60000        2         IFS\n",
       "Third_Employee           103          Amir   65000        3         IPS\n",
       "Forth_Employee           104         Abdul   70000        4   Scientist\n",
       "Fifth_Employee           105        Nelson   55000        1         IAS"
      ]
     },
     "execution_count": 80,
     "metadata": {},
     "output_type": "execute_result"
    }
   ],
   "source": [
    "DataFrame1"
   ]
  },
  {
   "cell_type": "code",
   "execution_count": 81,
   "id": "d6c33326",
   "metadata": {},
   "outputs": [],
   "source": [
    "DataFrame4 = DataFrame1.set_index('Employee_No')"
   ]
  },
  {
   "cell_type": "code",
   "execution_count": 82,
   "id": "f091c479",
   "metadata": {},
   "outputs": [
    {
     "data": {
      "text/html": [
       "<div>\n",
       "<style scoped>\n",
       "    .dataframe tbody tr th:only-of-type {\n",
       "        vertical-align: middle;\n",
       "    }\n",
       "\n",
       "    .dataframe tbody tr th {\n",
       "        vertical-align: top;\n",
       "    }\n",
       "\n",
       "    .dataframe thead th {\n",
       "        text-align: right;\n",
       "    }\n",
       "</style>\n",
       "<table border=\"1\" class=\"dataframe\">\n",
       "  <thead>\n",
       "    <tr style=\"text-align: right;\">\n",
       "      <th></th>\n",
       "      <th>Employee_name</th>\n",
       "      <th>Salary</th>\n",
       "      <th>Dept_no</th>\n",
       "      <th>Designation</th>\n",
       "    </tr>\n",
       "    <tr>\n",
       "      <th>Employee_No</th>\n",
       "      <th></th>\n",
       "      <th></th>\n",
       "      <th></th>\n",
       "      <th></th>\n",
       "    </tr>\n",
       "  </thead>\n",
       "  <tbody>\n",
       "    <tr>\n",
       "      <th>101</th>\n",
       "      <td>Ramesh</td>\n",
       "      <td>50000</td>\n",
       "      <td>1</td>\n",
       "      <td>IAS</td>\n",
       "    </tr>\n",
       "    <tr>\n",
       "      <th>102</th>\n",
       "      <td>Mahesh</td>\n",
       "      <td>60000</td>\n",
       "      <td>2</td>\n",
       "      <td>IFS</td>\n",
       "    </tr>\n",
       "    <tr>\n",
       "      <th>103</th>\n",
       "      <td>Amir</td>\n",
       "      <td>65000</td>\n",
       "      <td>3</td>\n",
       "      <td>IPS</td>\n",
       "    </tr>\n",
       "    <tr>\n",
       "      <th>104</th>\n",
       "      <td>Abdul</td>\n",
       "      <td>70000</td>\n",
       "      <td>4</td>\n",
       "      <td>Scientist</td>\n",
       "    </tr>\n",
       "    <tr>\n",
       "      <th>105</th>\n",
       "      <td>Nelson</td>\n",
       "      <td>55000</td>\n",
       "      <td>1</td>\n",
       "      <td>IAS</td>\n",
       "    </tr>\n",
       "  </tbody>\n",
       "</table>\n",
       "</div>"
      ],
      "text/plain": [
       "            Employee_name  Salary  Dept_no Designation\n",
       "Employee_No                                           \n",
       "101                Ramesh   50000        1         IAS\n",
       "102                Mahesh   60000        2         IFS\n",
       "103                  Amir   65000        3         IPS\n",
       "104                 Abdul   70000        4   Scientist\n",
       "105                Nelson   55000        1         IAS"
      ]
     },
     "execution_count": 82,
     "metadata": {},
     "output_type": "execute_result"
    }
   ],
   "source": [
    "DataFrame4"
   ]
  },
  {
   "cell_type": "code",
   "execution_count": null,
   "id": "be6c30f1",
   "metadata": {},
   "outputs": [],
   "source": [
    "DataFrame4"
   ]
  },
  {
   "cell_type": "code",
   "execution_count": 84,
   "id": "9c0f7846",
   "metadata": {},
   "outputs": [
    {
     "data": {
      "text/plain": [
       "3"
      ]
     },
     "execution_count": 84,
     "metadata": {},
     "output_type": "execute_result"
    }
   ],
   "source": [
    "DataFrame4.loc[103,'Dept_no']"
   ]
  },
  {
   "cell_type": "code",
   "execution_count": 1,
   "id": "0495a9c4",
   "metadata": {},
   "outputs": [
    {
     "ename": "NameError",
     "evalue": "name 'DataFrame4' is not defined",
     "output_type": "error",
     "traceback": [
      "\u001b[1;31m---------------------------------------------------------------------------\u001b[0m",
      "\u001b[1;31mNameError\u001b[0m                                 Traceback (most recent call last)",
      "\u001b[1;32m~\\AppData\\Local\\Temp/ipykernel_20732/2649747081.py\u001b[0m in \u001b[0;36m<module>\u001b[1;34m\u001b[0m\n\u001b[1;32m----> 1\u001b[1;33m \u001b[0mDataFrame4\u001b[0m\u001b[1;33m.\u001b[0m\u001b[0miloc\u001b[0m\u001b[1;33m[\u001b[0m\u001b[1;33m[\u001b[0m\u001b[1;36m2\u001b[0m\u001b[1;33m,\u001b[0m\u001b[1;36m2\u001b[0m\u001b[1;33m]\u001b[0m\u001b[1;33m]\u001b[0m\u001b[1;33m\u001b[0m\u001b[1;33m\u001b[0m\u001b[0m\n\u001b[0m",
      "\u001b[1;31mNameError\u001b[0m: name 'DataFrame4' is not defined"
     ]
    }
   ],
   "source": [
    "DataFrame4.iloc[[2,2]]"
   ]
  },
  {
   "cell_type": "code",
   "execution_count": null,
   "id": "1cd92cbf",
   "metadata": {},
   "outputs": [],
   "source": []
  },
  {
   "cell_type": "markdown",
   "id": "9760c6e6",
   "metadata": {},
   "source": [
    "## 7.In DataFrame3 created in Q.No. 5, find the salesmen whose sales are greater than 7000 in region1 but less than 3000 in region2"
   ]
  },
  {
   "cell_type": "code",
   "execution_count": 85,
   "id": "cf788ce3",
   "metadata": {},
   "outputs": [
    {
     "data": {
      "text/html": [
       "<div>\n",
       "<style scoped>\n",
       "    .dataframe tbody tr th:only-of-type {\n",
       "        vertical-align: middle;\n",
       "    }\n",
       "\n",
       "    .dataframe tbody tr th {\n",
       "        vertical-align: top;\n",
       "    }\n",
       "\n",
       "    .dataframe thead th {\n",
       "        text-align: right;\n",
       "    }\n",
       "</style>\n",
       "<table border=\"1\" class=\"dataframe\">\n",
       "  <thead>\n",
       "    <tr style=\"text-align: right;\">\n",
       "      <th></th>\n",
       "      <th>Employee</th>\n",
       "      <th>region1</th>\n",
       "      <th>region2</th>\n",
       "      <th>region3</th>\n",
       "    </tr>\n",
       "  </thead>\n",
       "  <tbody>\n",
       "    <tr>\n",
       "      <th>0</th>\n",
       "      <td>Dinesh</td>\n",
       "      <td>7800</td>\n",
       "      <td>6500.0</td>\n",
       "      <td>4590.0</td>\n",
       "    </tr>\n",
       "    <tr>\n",
       "      <th>1</th>\n",
       "      <td>Mahesh</td>\n",
       "      <td>8900</td>\n",
       "      <td>NaN</td>\n",
       "      <td>3790.0</td>\n",
       "    </tr>\n",
       "    <tr>\n",
       "      <th>2</th>\n",
       "      <td>Ramesh</td>\n",
       "      <td>10800</td>\n",
       "      <td>2300.0</td>\n",
       "      <td>NaN</td>\n",
       "    </tr>\n",
       "    <tr>\n",
       "      <th>3</th>\n",
       "      <td>Suresh</td>\n",
       "      <td>5600</td>\n",
       "      <td>6790.0</td>\n",
       "      <td>2300.0</td>\n",
       "    </tr>\n",
       "    <tr>\n",
       "      <th>4</th>\n",
       "      <td>Basha</td>\n",
       "      <td>7600</td>\n",
       "      <td>2300.0</td>\n",
       "      <td>2400.0</td>\n",
       "    </tr>\n",
       "  </tbody>\n",
       "</table>\n",
       "</div>"
      ],
      "text/plain": [
       "  Employee  region1  region2  region3\n",
       "0   Dinesh     7800   6500.0   4590.0\n",
       "1   Mahesh     8900      NaN   3790.0\n",
       "2   Ramesh    10800   2300.0      NaN\n",
       "3   Suresh     5600   6790.0   2300.0\n",
       "4    Basha     7600   2300.0   2400.0"
      ]
     },
     "execution_count": 85,
     "metadata": {},
     "output_type": "execute_result"
    }
   ],
   "source": [
    "DataFrame3"
   ]
  },
  {
   "cell_type": "code",
   "execution_count": 86,
   "id": "c2206b29",
   "metadata": {},
   "outputs": [
    {
     "data": {
      "text/html": [
       "<div>\n",
       "<style scoped>\n",
       "    .dataframe tbody tr th:only-of-type {\n",
       "        vertical-align: middle;\n",
       "    }\n",
       "\n",
       "    .dataframe tbody tr th {\n",
       "        vertical-align: top;\n",
       "    }\n",
       "\n",
       "    .dataframe thead th {\n",
       "        text-align: right;\n",
       "    }\n",
       "</style>\n",
       "<table border=\"1\" class=\"dataframe\">\n",
       "  <thead>\n",
       "    <tr style=\"text-align: right;\">\n",
       "      <th></th>\n",
       "      <th>Employee</th>\n",
       "      <th>region1</th>\n",
       "      <th>region2</th>\n",
       "      <th>region3</th>\n",
       "    </tr>\n",
       "  </thead>\n",
       "  <tbody>\n",
       "    <tr>\n",
       "      <th>2</th>\n",
       "      <td>Ramesh</td>\n",
       "      <td>10800</td>\n",
       "      <td>2300.0</td>\n",
       "      <td>NaN</td>\n",
       "    </tr>\n",
       "    <tr>\n",
       "      <th>4</th>\n",
       "      <td>Basha</td>\n",
       "      <td>7600</td>\n",
       "      <td>2300.0</td>\n",
       "      <td>2400.0</td>\n",
       "    </tr>\n",
       "  </tbody>\n",
       "</table>\n",
       "</div>"
      ],
      "text/plain": [
       "  Employee  region1  region2  region3\n",
       "2   Ramesh    10800   2300.0      NaN\n",
       "4    Basha     7600   2300.0   2400.0"
      ]
     },
     "execution_count": 86,
     "metadata": {},
     "output_type": "execute_result"
    }
   ],
   "source": [
    "DataFrame3[(DataFrame3['region1']>7000) & (DataFrame3['region2']<3000)]"
   ]
  },
  {
   "cell_type": "code",
   "execution_count": null,
   "id": "10f1fdb3",
   "metadata": {},
   "outputs": [],
   "source": []
  },
  {
   "cell_type": "code",
   "execution_count": null,
   "id": "360a4d06",
   "metadata": {},
   "outputs": [],
   "source": []
  },
  {
   "cell_type": "code",
   "execution_count": null,
   "id": "601c69ac",
   "metadata": {},
   "outputs": [],
   "source": []
  },
  {
   "cell_type": "markdown",
   "id": "addb85fc",
   "metadata": {},
   "source": [
    "## 8.In DataFrame1 created in Q. No. 1, find the employees with the highest salary in each department. Use the group by clause and the max() function. Similarly, in DataFrame3 created in Q. No. 5, find the salesman with the highest amount of sales for each region."
   ]
  },
  {
   "cell_type": "code",
   "execution_count": 7,
   "id": "afee26f9",
   "metadata": {},
   "outputs": [
    {
     "data": {
      "text/html": [
       "<div>\n",
       "<style scoped>\n",
       "    .dataframe tbody tr th:only-of-type {\n",
       "        vertical-align: middle;\n",
       "    }\n",
       "\n",
       "    .dataframe tbody tr th {\n",
       "        vertical-align: top;\n",
       "    }\n",
       "\n",
       "    .dataframe thead th {\n",
       "        text-align: right;\n",
       "    }\n",
       "</style>\n",
       "<table border=\"1\" class=\"dataframe\">\n",
       "  <thead>\n",
       "    <tr style=\"text-align: right;\">\n",
       "      <th></th>\n",
       "      <th>Employee_No</th>\n",
       "      <th>Employee_name</th>\n",
       "      <th>Salary</th>\n",
       "      <th>Dept_no</th>\n",
       "      <th>Designation</th>\n",
       "    </tr>\n",
       "  </thead>\n",
       "  <tbody>\n",
       "    <tr>\n",
       "      <th>First_Employee</th>\n",
       "      <td>101</td>\n",
       "      <td>Ramesh</td>\n",
       "      <td>50000</td>\n",
       "      <td>1</td>\n",
       "      <td>IAS</td>\n",
       "    </tr>\n",
       "    <tr>\n",
       "      <th>Second_Employee</th>\n",
       "      <td>102</td>\n",
       "      <td>Mahesh</td>\n",
       "      <td>60000</td>\n",
       "      <td>2</td>\n",
       "      <td>IFS</td>\n",
       "    </tr>\n",
       "    <tr>\n",
       "      <th>Third_Employee</th>\n",
       "      <td>103</td>\n",
       "      <td>Amir</td>\n",
       "      <td>65000</td>\n",
       "      <td>3</td>\n",
       "      <td>IPS</td>\n",
       "    </tr>\n",
       "    <tr>\n",
       "      <th>Forth_Employee</th>\n",
       "      <td>104</td>\n",
       "      <td>Abdul</td>\n",
       "      <td>70000</td>\n",
       "      <td>4</td>\n",
       "      <td>Scientist</td>\n",
       "    </tr>\n",
       "    <tr>\n",
       "      <th>Fifth_Employee</th>\n",
       "      <td>105</td>\n",
       "      <td>Nelson</td>\n",
       "      <td>55000</td>\n",
       "      <td>1</td>\n",
       "      <td>IAS</td>\n",
       "    </tr>\n",
       "  </tbody>\n",
       "</table>\n",
       "</div>"
      ],
      "text/plain": [
       "                 Employee_No Employee_name  Salary  Dept_no Designation\n",
       "First_Employee           101        Ramesh   50000        1         IAS\n",
       "Second_Employee          102        Mahesh   60000        2         IFS\n",
       "Third_Employee           103          Amir   65000        3         IPS\n",
       "Forth_Employee           104         Abdul   70000        4   Scientist\n",
       "Fifth_Employee           105        Nelson   55000        1         IAS"
      ]
     },
     "execution_count": 7,
     "metadata": {},
     "output_type": "execute_result"
    }
   ],
   "source": [
    "DataFrame1"
   ]
  },
  {
   "cell_type": "code",
   "execution_count": 8,
   "id": "d95e3993",
   "metadata": {},
   "outputs": [
    {
     "data": {
      "text/plain": [
       "Employee_name\n",
       "Abdul     70000\n",
       "Amir      65000\n",
       "Mahesh    60000\n",
       "Nelson    55000\n",
       "Ramesh    50000\n",
       "Name: Salary, dtype: int64"
      ]
     },
     "execution_count": 8,
     "metadata": {},
     "output_type": "execute_result"
    }
   ],
   "source": [
    "DataFrame1.groupby(['Employee_name']).max()['Salary']"
   ]
  },
  {
   "cell_type": "code",
   "execution_count": null,
   "id": "2350edba",
   "metadata": {},
   "outputs": [],
   "source": []
  },
  {
   "cell_type": "markdown",
   "id": "95e1dde0",
   "metadata": {},
   "source": [
    "## 9.In DataFrame1 created in Q. No. 1, add a new column called Address. In this new column, set the value as ‘Chennai’ for all the existing rows"
   ]
  },
  {
   "cell_type": "code",
   "execution_count": 29,
   "id": "f4d232eb",
   "metadata": {},
   "outputs": [
    {
     "data": {
      "text/html": [
       "<div>\n",
       "<style scoped>\n",
       "    .dataframe tbody tr th:only-of-type {\n",
       "        vertical-align: middle;\n",
       "    }\n",
       "\n",
       "    .dataframe tbody tr th {\n",
       "        vertical-align: top;\n",
       "    }\n",
       "\n",
       "    .dataframe thead th {\n",
       "        text-align: right;\n",
       "    }\n",
       "</style>\n",
       "<table border=\"1\" class=\"dataframe\">\n",
       "  <thead>\n",
       "    <tr style=\"text-align: right;\">\n",
       "      <th></th>\n",
       "      <th>Employee_No</th>\n",
       "      <th>Employee_name</th>\n",
       "      <th>Salary</th>\n",
       "      <th>Dept_no</th>\n",
       "      <th>Designation</th>\n",
       "    </tr>\n",
       "  </thead>\n",
       "  <tbody>\n",
       "    <tr>\n",
       "      <th>First_Employee</th>\n",
       "      <td>101</td>\n",
       "      <td>Ramesh</td>\n",
       "      <td>50000</td>\n",
       "      <td>1</td>\n",
       "      <td>IAS</td>\n",
       "    </tr>\n",
       "    <tr>\n",
       "      <th>Second_Employee</th>\n",
       "      <td>102</td>\n",
       "      <td>Mahesh</td>\n",
       "      <td>60000</td>\n",
       "      <td>2</td>\n",
       "      <td>IFS</td>\n",
       "    </tr>\n",
       "    <tr>\n",
       "      <th>Third_Employee</th>\n",
       "      <td>103</td>\n",
       "      <td>Amir</td>\n",
       "      <td>65000</td>\n",
       "      <td>3</td>\n",
       "      <td>IPS</td>\n",
       "    </tr>\n",
       "    <tr>\n",
       "      <th>Forth_Employee</th>\n",
       "      <td>104</td>\n",
       "      <td>Abdul</td>\n",
       "      <td>70000</td>\n",
       "      <td>4</td>\n",
       "      <td>Scientist</td>\n",
       "    </tr>\n",
       "    <tr>\n",
       "      <th>Fifth_Employee</th>\n",
       "      <td>105</td>\n",
       "      <td>Nelson</td>\n",
       "      <td>55000</td>\n",
       "      <td>1</td>\n",
       "      <td>IAS</td>\n",
       "    </tr>\n",
       "  </tbody>\n",
       "</table>\n",
       "</div>"
      ],
      "text/plain": [
       "                 Employee_No Employee_name  Salary  Dept_no Designation\n",
       "First_Employee           101        Ramesh   50000        1         IAS\n",
       "Second_Employee          102        Mahesh   60000        2         IFS\n",
       "Third_Employee           103          Amir   65000        3         IPS\n",
       "Forth_Employee           104         Abdul   70000        4   Scientist\n",
       "Fifth_Employee           105        Nelson   55000        1         IAS"
      ]
     },
     "execution_count": 29,
     "metadata": {},
     "output_type": "execute_result"
    }
   ],
   "source": [
    "DataFrame1"
   ]
  },
  {
   "cell_type": "code",
   "execution_count": 35,
   "id": "eaee0019",
   "metadata": {},
   "outputs": [],
   "source": [
    "df1=DataFrame1"
   ]
  },
  {
   "cell_type": "code",
   "execution_count": 36,
   "id": "a6db9b94",
   "metadata": {},
   "outputs": [],
   "source": [
    "df1['Address'] = df1.shape[0]*['Chennai']"
   ]
  },
  {
   "cell_type": "code",
   "execution_count": 37,
   "id": "e25de3f5",
   "metadata": {
    "scrolled": true
   },
   "outputs": [
    {
     "data": {
      "text/html": [
       "<div>\n",
       "<style scoped>\n",
       "    .dataframe tbody tr th:only-of-type {\n",
       "        vertical-align: middle;\n",
       "    }\n",
       "\n",
       "    .dataframe tbody tr th {\n",
       "        vertical-align: top;\n",
       "    }\n",
       "\n",
       "    .dataframe thead th {\n",
       "        text-align: right;\n",
       "    }\n",
       "</style>\n",
       "<table border=\"1\" class=\"dataframe\">\n",
       "  <thead>\n",
       "    <tr style=\"text-align: right;\">\n",
       "      <th></th>\n",
       "      <th>Employee_No</th>\n",
       "      <th>Employee_name</th>\n",
       "      <th>Salary</th>\n",
       "      <th>Dept_no</th>\n",
       "      <th>Designation</th>\n",
       "      <th>Address</th>\n",
       "    </tr>\n",
       "  </thead>\n",
       "  <tbody>\n",
       "    <tr>\n",
       "      <th>First_Employee</th>\n",
       "      <td>101</td>\n",
       "      <td>Ramesh</td>\n",
       "      <td>50000</td>\n",
       "      <td>1</td>\n",
       "      <td>IAS</td>\n",
       "      <td>Chennai</td>\n",
       "    </tr>\n",
       "    <tr>\n",
       "      <th>Second_Employee</th>\n",
       "      <td>102</td>\n",
       "      <td>Mahesh</td>\n",
       "      <td>60000</td>\n",
       "      <td>2</td>\n",
       "      <td>IFS</td>\n",
       "      <td>Chennai</td>\n",
       "    </tr>\n",
       "    <tr>\n",
       "      <th>Third_Employee</th>\n",
       "      <td>103</td>\n",
       "      <td>Amir</td>\n",
       "      <td>65000</td>\n",
       "      <td>3</td>\n",
       "      <td>IPS</td>\n",
       "      <td>Chennai</td>\n",
       "    </tr>\n",
       "    <tr>\n",
       "      <th>Forth_Employee</th>\n",
       "      <td>104</td>\n",
       "      <td>Abdul</td>\n",
       "      <td>70000</td>\n",
       "      <td>4</td>\n",
       "      <td>Scientist</td>\n",
       "      <td>Chennai</td>\n",
       "    </tr>\n",
       "    <tr>\n",
       "      <th>Fifth_Employee</th>\n",
       "      <td>105</td>\n",
       "      <td>Nelson</td>\n",
       "      <td>55000</td>\n",
       "      <td>1</td>\n",
       "      <td>IAS</td>\n",
       "      <td>Chennai</td>\n",
       "    </tr>\n",
       "  </tbody>\n",
       "</table>\n",
       "</div>"
      ],
      "text/plain": [
       "                 Employee_No Employee_name  Salary  Dept_no Designation  \\\n",
       "First_Employee           101        Ramesh   50000        1         IAS   \n",
       "Second_Employee          102        Mahesh   60000        2         IFS   \n",
       "Third_Employee           103          Amir   65000        3         IPS   \n",
       "Forth_Employee           104         Abdul   70000        4   Scientist   \n",
       "Fifth_Employee           105        Nelson   55000        1         IAS   \n",
       "\n",
       "                 Address  \n",
       "First_Employee   Chennai  \n",
       "Second_Employee  Chennai  \n",
       "Third_Employee   Chennai  \n",
       "Forth_Employee   Chennai  \n",
       "Fifth_Employee   Chennai  "
      ]
     },
     "execution_count": 37,
     "metadata": {},
     "output_type": "execute_result"
    }
   ],
   "source": [
    "df1"
   ]
  },
  {
   "cell_type": "code",
   "execution_count": 38,
   "id": "21ab2e81",
   "metadata": {},
   "outputs": [],
   "source": [
    "df1_t=DataFrame1.T"
   ]
  },
  {
   "cell_type": "code",
   "execution_count": 39,
   "id": "beaf8e97",
   "metadata": {},
   "outputs": [],
   "source": [
    "df1_t['Address'] = df1_t.shape[0]*['Chennai']"
   ]
  },
  {
   "cell_type": "code",
   "execution_count": 40,
   "id": "e0a1ca17",
   "metadata": {
    "scrolled": false
   },
   "outputs": [
    {
     "data": {
      "text/html": [
       "<div>\n",
       "<style scoped>\n",
       "    .dataframe tbody tr th:only-of-type {\n",
       "        vertical-align: middle;\n",
       "    }\n",
       "\n",
       "    .dataframe tbody tr th {\n",
       "        vertical-align: top;\n",
       "    }\n",
       "\n",
       "    .dataframe thead th {\n",
       "        text-align: right;\n",
       "    }\n",
       "</style>\n",
       "<table border=\"1\" class=\"dataframe\">\n",
       "  <thead>\n",
       "    <tr style=\"text-align: right;\">\n",
       "      <th></th>\n",
       "      <th>First_Employee</th>\n",
       "      <th>Second_Employee</th>\n",
       "      <th>Third_Employee</th>\n",
       "      <th>Forth_Employee</th>\n",
       "      <th>Fifth_Employee</th>\n",
       "      <th>Address</th>\n",
       "    </tr>\n",
       "  </thead>\n",
       "  <tbody>\n",
       "    <tr>\n",
       "      <th>Employee_No</th>\n",
       "      <td>101</td>\n",
       "      <td>102</td>\n",
       "      <td>103</td>\n",
       "      <td>104</td>\n",
       "      <td>105</td>\n",
       "      <td>Chennai</td>\n",
       "    </tr>\n",
       "    <tr>\n",
       "      <th>Employee_name</th>\n",
       "      <td>Ramesh</td>\n",
       "      <td>Mahesh</td>\n",
       "      <td>Amir</td>\n",
       "      <td>Abdul</td>\n",
       "      <td>Nelson</td>\n",
       "      <td>Chennai</td>\n",
       "    </tr>\n",
       "    <tr>\n",
       "      <th>Salary</th>\n",
       "      <td>50000</td>\n",
       "      <td>60000</td>\n",
       "      <td>65000</td>\n",
       "      <td>70000</td>\n",
       "      <td>55000</td>\n",
       "      <td>Chennai</td>\n",
       "    </tr>\n",
       "    <tr>\n",
       "      <th>Dept_no</th>\n",
       "      <td>1</td>\n",
       "      <td>2</td>\n",
       "      <td>3</td>\n",
       "      <td>4</td>\n",
       "      <td>1</td>\n",
       "      <td>Chennai</td>\n",
       "    </tr>\n",
       "    <tr>\n",
       "      <th>Designation</th>\n",
       "      <td>IAS</td>\n",
       "      <td>IFS</td>\n",
       "      <td>IPS</td>\n",
       "      <td>Scientist</td>\n",
       "      <td>IAS</td>\n",
       "      <td>Chennai</td>\n",
       "    </tr>\n",
       "    <tr>\n",
       "      <th>Address</th>\n",
       "      <td>Chennai</td>\n",
       "      <td>Chennai</td>\n",
       "      <td>Chennai</td>\n",
       "      <td>Chennai</td>\n",
       "      <td>Chennai</td>\n",
       "      <td>Chennai</td>\n",
       "    </tr>\n",
       "  </tbody>\n",
       "</table>\n",
       "</div>"
      ],
      "text/plain": [
       "              First_Employee Second_Employee Third_Employee Forth_Employee  \\\n",
       "Employee_No              101             102            103            104   \n",
       "Employee_name         Ramesh          Mahesh           Amir          Abdul   \n",
       "Salary                 50000           60000          65000          70000   \n",
       "Dept_no                    1               2              3              4   \n",
       "Designation              IAS             IFS            IPS      Scientist   \n",
       "Address              Chennai         Chennai        Chennai        Chennai   \n",
       "\n",
       "              Fifth_Employee  Address  \n",
       "Employee_No              105  Chennai  \n",
       "Employee_name         Nelson  Chennai  \n",
       "Salary                 55000  Chennai  \n",
       "Dept_no                    1  Chennai  \n",
       "Designation              IAS  Chennai  \n",
       "Address              Chennai  Chennai  "
      ]
     },
     "execution_count": 40,
     "metadata": {},
     "output_type": "execute_result"
    }
   ],
   "source": [
    "df1_t"
   ]
  },
  {
   "cell_type": "code",
   "execution_count": null,
   "id": "c8f1a1f7",
   "metadata": {},
   "outputs": [],
   "source": []
  },
  {
   "cell_type": "markdown",
   "id": "a2fe594f",
   "metadata": {},
   "source": [
    "## 10.Create a line graph and bar chart to visualize the two data frames, DataFrame1 and DataFrame3."
   ]
  },
  {
   "cell_type": "code",
   "execution_count": 87,
   "id": "bfe4e2b7",
   "metadata": {},
   "outputs": [
    {
     "data": {
      "text/html": [
       "<div>\n",
       "<style scoped>\n",
       "    .dataframe tbody tr th:only-of-type {\n",
       "        vertical-align: middle;\n",
       "    }\n",
       "\n",
       "    .dataframe tbody tr th {\n",
       "        vertical-align: top;\n",
       "    }\n",
       "\n",
       "    .dataframe thead th {\n",
       "        text-align: right;\n",
       "    }\n",
       "</style>\n",
       "<table border=\"1\" class=\"dataframe\">\n",
       "  <thead>\n",
       "    <tr style=\"text-align: right;\">\n",
       "      <th></th>\n",
       "      <th>Employee_No</th>\n",
       "      <th>Employee_name</th>\n",
       "      <th>Salary</th>\n",
       "      <th>Dept_no</th>\n",
       "      <th>Designation</th>\n",
       "    </tr>\n",
       "  </thead>\n",
       "  <tbody>\n",
       "    <tr>\n",
       "      <th>First_Employee</th>\n",
       "      <td>101</td>\n",
       "      <td>Ramesh</td>\n",
       "      <td>50000</td>\n",
       "      <td>1</td>\n",
       "      <td>IAS</td>\n",
       "    </tr>\n",
       "    <tr>\n",
       "      <th>Second_Employee</th>\n",
       "      <td>102</td>\n",
       "      <td>Mahesh</td>\n",
       "      <td>60000</td>\n",
       "      <td>2</td>\n",
       "      <td>IFS</td>\n",
       "    </tr>\n",
       "    <tr>\n",
       "      <th>Third_Employee</th>\n",
       "      <td>103</td>\n",
       "      <td>Amir</td>\n",
       "      <td>65000</td>\n",
       "      <td>3</td>\n",
       "      <td>IPS</td>\n",
       "    </tr>\n",
       "    <tr>\n",
       "      <th>Forth_Employee</th>\n",
       "      <td>104</td>\n",
       "      <td>Abdul</td>\n",
       "      <td>70000</td>\n",
       "      <td>4</td>\n",
       "      <td>Scientist</td>\n",
       "    </tr>\n",
       "    <tr>\n",
       "      <th>Fifth_Employee</th>\n",
       "      <td>105</td>\n",
       "      <td>Nelson</td>\n",
       "      <td>55000</td>\n",
       "      <td>1</td>\n",
       "      <td>IAS</td>\n",
       "    </tr>\n",
       "  </tbody>\n",
       "</table>\n",
       "</div>"
      ],
      "text/plain": [
       "                 Employee_No Employee_name  Salary  Dept_no Designation\n",
       "First_Employee           101        Ramesh   50000        1         IAS\n",
       "Second_Employee          102        Mahesh   60000        2         IFS\n",
       "Third_Employee           103          Amir   65000        3         IPS\n",
       "Forth_Employee           104         Abdul   70000        4   Scientist\n",
       "Fifth_Employee           105        Nelson   55000        1         IAS"
      ]
     },
     "execution_count": 87,
     "metadata": {},
     "output_type": "execute_result"
    }
   ],
   "source": [
    " DataFrame1"
   ]
  },
  {
   "cell_type": "code",
   "execution_count": 89,
   "id": "83f7cf66",
   "metadata": {},
   "outputs": [
    {
     "data": {
      "text/plain": [
       "<AxesSubplot:>"
      ]
     },
     "execution_count": 89,
     "metadata": {},
     "output_type": "execute_result"
    },
    {
     "data": {
      "image/png": "[encoded data removed]",
      "text/plain": [
       "<Figure size 432x288 with 1 Axes>"
      ]
     },
     "metadata": {
      "needs_background": "light"
     },
     "output_type": "display_data"
    }
   ],
   "source": [
    " DataFrame1.plot()"
   ]
  },
  {
   "cell_type": "code",
   "execution_count": 90,
   "id": "deaf7b7e",
   "metadata": {},
   "outputs": [
    {
     "data": {
      "text/plain": [
       "<AxesSubplot:>"
      ]
     },
     "execution_count": 90,
     "metadata": {},
     "output_type": "execute_result"
    },
    {
     "data": {
      "image/png": "[encoded data removed]",
      "text/plain": [
       "<Figure size 432x288 with 1 Axes>"
      ]
     },
     "metadata": {
      "needs_background": "light"
     },
     "output_type": "display_data"
    }
   ],
   "source": [
    "DataFrame1.plot.bar()"
   ]
  },
  {
   "cell_type": "code",
   "execution_count": null,
   "id": "16792e0f",
   "metadata": {},
   "outputs": [],
   "source": []
  },
  {
   "cell_type": "code",
   "execution_count": 6,
   "id": "c19b00c9",
   "metadata": {},
   "outputs": [
    {
     "data": {
      "text/html": [
       "<div>\n",
       "<style scoped>\n",
       "    .dataframe tbody tr th:only-of-type {\n",
       "        vertical-align: middle;\n",
       "    }\n",
       "\n",
       "    .dataframe tbody tr th {\n",
       "        vertical-align: top;\n",
       "    }\n",
       "\n",
       "    .dataframe thead th {\n",
       "        text-align: right;\n",
       "    }\n",
       "</style>\n",
       "<table border=\"1\" class=\"dataframe\">\n",
       "  <thead>\n",
       "    <tr style=\"text-align: right;\">\n",
       "      <th></th>\n",
       "      <th>Employee</th>\n",
       "      <th>region1</th>\n",
       "      <th>region2</th>\n",
       "      <th>region3</th>\n",
       "    </tr>\n",
       "  </thead>\n",
       "  <tbody>\n",
       "    <tr>\n",
       "      <th>0</th>\n",
       "      <td>Dinesh</td>\n",
       "      <td>7800</td>\n",
       "      <td>6500.0</td>\n",
       "      <td>4590.0</td>\n",
       "    </tr>\n",
       "    <tr>\n",
       "      <th>1</th>\n",
       "      <td>Mahesh</td>\n",
       "      <td>8900</td>\n",
       "      <td>NaN</td>\n",
       "      <td>3790.0</td>\n",
       "    </tr>\n",
       "    <tr>\n",
       "      <th>2</th>\n",
       "      <td>Ramesh</td>\n",
       "      <td>10800</td>\n",
       "      <td>2300.0</td>\n",
       "      <td>NaN</td>\n",
       "    </tr>\n",
       "    <tr>\n",
       "      <th>3</th>\n",
       "      <td>Suresh</td>\n",
       "      <td>5600</td>\n",
       "      <td>6790.0</td>\n",
       "      <td>2300.0</td>\n",
       "    </tr>\n",
       "    <tr>\n",
       "      <th>4</th>\n",
       "      <td>Basha</td>\n",
       "      <td>7600</td>\n",
       "      <td>2300.0</td>\n",
       "      <td>2400.0</td>\n",
       "    </tr>\n",
       "  </tbody>\n",
       "</table>\n",
       "</div>"
      ],
      "text/plain": [
       "  Employee  region1  region2  region3\n",
       "0   Dinesh     7800   6500.0   4590.0\n",
       "1   Mahesh     8900      NaN   3790.0\n",
       "2   Ramesh    10800   2300.0      NaN\n",
       "3   Suresh     5600   6790.0   2300.0\n",
       "4    Basha     7600   2300.0   2400.0"
      ]
     },
     "execution_count": 6,
     "metadata": {},
     "output_type": "execute_result"
    }
   ],
   "source": [
    "DataFrame3"
   ]
  },
  {
   "cell_type": "code",
   "execution_count": 7,
   "id": "5f64b778",
   "metadata": {},
   "outputs": [],
   "source": [
    "dt3=DataFrame3.fillna(0)"
   ]
  },
  {
   "cell_type": "code",
   "execution_count": 8,
   "id": "9600502a",
   "metadata": {},
   "outputs": [
    {
     "data": {
      "text/html": [
       "<div>\n",
       "<style scoped>\n",
       "    .dataframe tbody tr th:only-of-type {\n",
       "        vertical-align: middle;\n",
       "    }\n",
       "\n",
       "    .dataframe tbody tr th {\n",
       "        vertical-align: top;\n",
       "    }\n",
       "\n",
       "    .dataframe thead th {\n",
       "        text-align: right;\n",
       "    }\n",
       "</style>\n",
       "<table border=\"1\" class=\"dataframe\">\n",
       "  <thead>\n",
       "    <tr style=\"text-align: right;\">\n",
       "      <th></th>\n",
       "      <th>Employee</th>\n",
       "      <th>region1</th>\n",
       "      <th>region2</th>\n",
       "      <th>region3</th>\n",
       "    </tr>\n",
       "  </thead>\n",
       "  <tbody>\n",
       "    <tr>\n",
       "      <th>0</th>\n",
       "      <td>Dinesh</td>\n",
       "      <td>7800</td>\n",
       "      <td>6500.0</td>\n",
       "      <td>4590.0</td>\n",
       "    </tr>\n",
       "    <tr>\n",
       "      <th>1</th>\n",
       "      <td>Mahesh</td>\n",
       "      <td>8900</td>\n",
       "      <td>0.0</td>\n",
       "      <td>3790.0</td>\n",
       "    </tr>\n",
       "    <tr>\n",
       "      <th>2</th>\n",
       "      <td>Ramesh</td>\n",
       "      <td>10800</td>\n",
       "      <td>2300.0</td>\n",
       "      <td>0.0</td>\n",
       "    </tr>\n",
       "    <tr>\n",
       "      <th>3</th>\n",
       "      <td>Suresh</td>\n",
       "      <td>5600</td>\n",
       "      <td>6790.0</td>\n",
       "      <td>2300.0</td>\n",
       "    </tr>\n",
       "    <tr>\n",
       "      <th>4</th>\n",
       "      <td>Basha</td>\n",
       "      <td>7600</td>\n",
       "      <td>2300.0</td>\n",
       "      <td>2400.0</td>\n",
       "    </tr>\n",
       "  </tbody>\n",
       "</table>\n",
       "</div>"
      ],
      "text/plain": [
       "  Employee  region1  region2  region3\n",
       "0   Dinesh     7800   6500.0   4590.0\n",
       "1   Mahesh     8900      0.0   3790.0\n",
       "2   Ramesh    10800   2300.0      0.0\n",
       "3   Suresh     5600   6790.0   2300.0\n",
       "4    Basha     7600   2300.0   2400.0"
      ]
     },
     "execution_count": 8,
     "metadata": {},
     "output_type": "execute_result"
    }
   ],
   "source": [
    "dt3"
   ]
  },
  {
   "cell_type": "code",
   "execution_count": null,
   "id": "269fc653",
   "metadata": {},
   "outputs": [],
   "source": []
  },
  {
   "cell_type": "code",
   "execution_count": 9,
   "id": "0f49bef6",
   "metadata": {},
   "outputs": [
    {
     "data": {
      "text/plain": [
       "<AxesSubplot:>"
      ]
     },
     "execution_count": 9,
     "metadata": {},
     "output_type": "execute_result"
    },
    {
     "data": {
      "image/png": "[encoded data removed]",
      "text/plain": [
       "<Figure size 432x288 with 1 Axes>"
      ]
     },
     "metadata": {
      "needs_background": "light"
     },
     "output_type": "display_data"
    }
   ],
   "source": [
    " dt3.plot()"
   ]
  },
  {
   "cell_type": "code",
   "execution_count": 10,
   "id": "3a014d30",
   "metadata": {},
   "outputs": [
    {
     "data": {
      "text/plain": [
       "<AxesSubplot:>"
      ]
     },
     "execution_count": 10,
     "metadata": {},
     "output_type": "execute_result"
    },
    {
     "data": {
      "image/png": "[encoded data removed]",
      "text/plain": [
       "<Figure size 432x288 with 1 Axes>"
      ]
     },
     "metadata": {
      "needs_background": "light"
     },
     "output_type": "display_data"
    }
   ],
   "source": [
    "dt3.plot.bar()"
   ]
  },
  {
   "cell_type": "code",
   "execution_count": null,
   "id": "e739a946",
   "metadata": {},
   "outputs": [],
   "source": []
  },
  {
   "cell_type": "code",
   "execution_count": null,
   "id": "5863db08",
   "metadata": {},
   "outputs": [],
   "source": []
  },
  {
   "cell_type": "code",
   "execution_count": null,
   "id": "8701c3a0",
   "metadata": {},
   "outputs": [],
   "source": []
  },
  {
   "cell_type": "code",
   "execution_count": null,
   "id": "bdf1d376",
   "metadata": {},
   "outputs": [],
   "source": []
  },
  {
   "cell_type": "code",
   "execution_count": null,
   "id": "9d027d6f",
   "metadata": {},
   "outputs": [],
   "source": []
  },
  {
   "cell_type": "code",
   "execution_count": null,
   "id": "f7263262",
   "metadata": {},
   "outputs": [],
   "source": []
  },
  {
   "cell_type": "code",
   "execution_count": null,
   "id": "4c924ec7",
   "metadata": {},
   "outputs": [],
   "source": []
  },
  {
   "cell_type": "code",
   "execution_count": null,
   "id": "fbbad00d",
   "metadata": {},
   "outputs": [],
   "source": []
  },
  {
   "cell_type": "code",
   "execution_count": null,
   "id": "a16020cc",
   "metadata": {},
   "outputs": [],
   "source": []
  },
  {
   "cell_type": "code",
   "execution_count": null,
   "id": "eb47a1ce",
   "metadata": {},
   "outputs": [],
   "source": []
  },
  {
   "cell_type": "code",
   "execution_count": null,
   "id": "1f4fa1dc",
   "metadata": {},
   "outputs": [],
   "source": []
  },
  {
   "cell_type": "code",
   "execution_count": null,
   "id": "bde73c52",
   "metadata": {},
   "outputs": [],
   "source": []
  },
  {
   "cell_type": "code",
   "execution_count": null,
   "id": "f8ca5095",
   "metadata": {},
   "outputs": [],
   "source": []
  },
  {
   "cell_type": "code",
   "execution_count": null,
   "id": "f1edcb1e",
   "metadata": {},
   "outputs": [],
   "source": []
  },
  {
   "cell_type": "code",
   "execution_count": null,
   "id": "21efc88e",
   "metadata": {},
   "outputs": [],
   "source": []
  },
  {
   "cell_type": "code",
   "execution_count": null,
   "id": "33e72224",
   "metadata": {},
   "outputs": [],
   "source": []
  },
  {
   "cell_type": "code",
   "execution_count": null,
   "id": "40ee2f13",
   "metadata": {},
   "outputs": [],
   "source": []
  }
 ],
 "metadata": {
  "kernelspec": {
   "display_name": "Python 3 (ipykernel)",
   "language": "python",
   "name": "python3"
  },
  "language_info": {
   "codemirror_mode": {
    "name": "ipython",
    "version": 3
   },
   "file_extension": ".py",
   "mimetype": "text/x-python",
   "name": "python",
   "nbconvert_exporter": "python",
   "pygments_lexer": "ipython3",
   "version": "3.9.7"
  }
 },
 "nbformat": 4,
 "nbformat_minor": 5
}
